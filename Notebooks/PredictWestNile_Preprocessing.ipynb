{
 "cells": [
  {
   "cell_type": "code",
   "execution_count": 1,
   "id": "f0c66c73",
   "metadata": {},
   "outputs": [],
   "source": [
    "import pandas as pd\n",
    "from sklearn import preprocessing, model_selection\n",
    "from library.sb_utils import save_file"
   ]
  },
  {
   "cell_type": "code",
   "execution_count": 2,
   "id": "7452cff9",
   "metadata": {},
   "outputs": [
    {
     "name": "stdout",
     "output_type": "stream",
     "text": [
      "<class 'pandas.core.frame.DataFrame'>\n",
      "RangeIndex: 8169 entries, 0 to 8168\n",
      "Data columns (total 12 columns):\n",
      " #   Column         Non-Null Count  Dtype  \n",
      "---  ------         --------------  -----  \n",
      " 0   Species        8169 non-null   object \n",
      " 1   Latitude       8169 non-null   float64\n",
      " 2   Longitude      8169 non-null   float64\n",
      " 3   NumMosquitos   8169 non-null   float64\n",
      " 4   NumTrapGroups  8169 non-null   int64  \n",
      " 5   WnvPresent     8169 non-null   int64  \n",
      " 6   Month          8169 non-null   int64  \n",
      " 7   DailyPrecip    8169 non-null   float64\n",
      " 8   Wind_AvgSpeed  8169 non-null   float64\n",
      " 9   IsSprayed      8169 non-null   int64  \n",
      " 10  Tavg           8169 non-null   float64\n",
      " 11  AnnualPrecip   8169 non-null   float64\n",
      "dtypes: float64(7), int64(4), object(1)\n",
      "memory usage: 766.0+ KB\n"
     ]
    }
   ],
   "source": [
    "#read trap data into pandas\n",
    "filepath = '../data/data_cleaned.csv'\n",
    "df = pd.read_csv(filepath)\n",
    "df.info()"
   ]
  },
  {
   "cell_type": "markdown",
   "id": "e6294a73",
   "metadata": {},
   "source": [
    "## Train/Test Split"
   ]
  },
  {
   "cell_type": "code",
   "execution_count": 3,
   "id": "2abd7ab3",
   "metadata": {},
   "outputs": [],
   "source": [
    "#separate the data into feature matrix (X) and target vector (y)\n",
    "X = df.drop(columns='WnvPresent')\n",
    "y = df['WnvPresent']"
   ]
  },
  {
   "cell_type": "code",
   "execution_count": 4,
   "id": "4f0a541d",
   "metadata": {},
   "outputs": [],
   "source": [
    "X_train, X_test, y_train, y_test = model_selection.train_test_split(X, y, train_size=0.7)"
   ]
  },
  {
   "cell_type": "markdown",
   "id": "944637e9",
   "metadata": {},
   "source": [
    "## Encode Categorical Features"
   ]
  },
  {
   "cell_type": "code",
   "execution_count": 5,
   "id": "68518e9c",
   "metadata": {},
   "outputs": [],
   "source": [
    "#Encode Species and Month columns\n",
    "columns = ['Species','Month']\n",
    "\n",
    "#Fit the encoder to the training data\n",
    "encoder = preprocessing.OneHotEncoder(sparse=False, drop='first')\n",
    "encoder.fit(X_train[columns])\n",
    "\n",
    "#Transform the training data\n",
    "encoded_columns = pd.DataFrame(encoder.transform(X_train[columns]))\n",
    "encoded_columns.columns = encoder.get_feature_names(columns)\n",
    "encoded_columns.index = X_train.index\n",
    "X_train =  pd.concat([X_train,encoded_columns], axis=1).drop(columns=columns)\n",
    "\n",
    "#Transform the test data\n",
    "encoded_columns = pd.DataFrame(encoder.transform(X_test[columns]))\n",
    "encoded_columns.columns = encoder.get_feature_names(columns)\n",
    "encoded_columns.index = X_test.index\n",
    "X_test = pd.concat([X_test,encoded_columns], axis=1).drop(columns=columns)"
   ]
  },
  {
   "cell_type": "markdown",
   "id": "97ee846a",
   "metadata": {},
   "source": [
    "## Scale Numerical Data"
   ]
  },
  {
   "cell_type": "code",
   "execution_count": 6,
   "id": "03b253b1",
   "metadata": {},
   "outputs": [],
   "source": [
    "#Scale Numerical Data\n",
    "columns = ['Latitude','Longitude','NumMosquitos','NumTrapGroups','DailyPrecip',\n",
    "          'Wind_AvgSpeed','IsSprayed','Tavg','AnnualPrecip']\n",
    "\n",
    "#Fit the scaler to the training data\n",
    "scaler = preprocessing.StandardScaler()\n",
    "scaler.fit(X_train[columns])\n",
    "\n",
    "#Transform the training data\n",
    "scaled = pd.DataFrame(scaler.transform(X_train[columns]))\n",
    "scaled.columns = columns\n",
    "scaled.index = X_train.index\n",
    "X_train = pd.concat([scaled, X_train.drop(columns=columns)], axis=1)\n",
    "\n",
    "#Transform the test data\n",
    "scaled = pd.DataFrame(scaler.transform(X_test[columns]))\n",
    "scaled.columns = columns\n",
    "scaled.index = X_test.index\n",
    "X_test = pd.concat([scaled, X_test.drop(columns=columns)], axis=1)\n"
   ]
  },
  {
   "cell_type": "code",
   "execution_count": 7,
   "id": "098f63b4",
   "metadata": {},
   "outputs": [
    {
     "name": "stdout",
     "output_type": "stream",
     "text": [
      "Writing file.  \"../data\\X_train.csv\"\n"
     ]
    }
   ],
   "source": [
    "#Save the training set\n",
    "datapath = '../data'\n",
    "save_file(X_train, 'X_train.csv', datapath)"
   ]
  },
  {
   "cell_type": "code",
   "execution_count": 8,
   "id": "b7f63e03",
   "metadata": {},
   "outputs": [
    {
     "name": "stdout",
     "output_type": "stream",
     "text": [
      "Writing file.  \"../data\\y_train.csv\"\n"
     ]
    }
   ],
   "source": [
    "#Save the training labels\n",
    "datapath = '../data'\n",
    "save_file(y_train, 'y_train.csv', datapath)"
   ]
  },
  {
   "cell_type": "code",
   "execution_count": 9,
   "id": "f5fb6ad9",
   "metadata": {},
   "outputs": [
    {
     "name": "stdout",
     "output_type": "stream",
     "text": [
      "Writing file.  \"../data\\X_test.csv\"\n"
     ]
    }
   ],
   "source": [
    "#Save the test set\n",
    "datapath = '../data'\n",
    "save_file(X_test, 'X_test.csv', datapath)"
   ]
  },
  {
   "cell_type": "code",
   "execution_count": 10,
   "id": "6192ed06",
   "metadata": {},
   "outputs": [
    {
     "name": "stdout",
     "output_type": "stream",
     "text": [
      "Writing file.  \"../data\\y_test.csv\"\n"
     ]
    }
   ],
   "source": [
    "#Save the test labels\n",
    "datapath = '../data'\n",
    "save_file(y_test, 'y_test.csv', datapath)"
   ]
  }
 ],
 "metadata": {
  "kernelspec": {
   "display_name": "Python 3",
   "language": "python",
   "name": "python3"
  },
  "language_info": {
   "codemirror_mode": {
    "name": "ipython",
    "version": 3
   },
   "file_extension": ".py",
   "mimetype": "text/x-python",
   "name": "python",
   "nbconvert_exporter": "python",
   "pygments_lexer": "ipython3",
   "version": "3.8.8"
  }
 },
 "nbformat": 4,
 "nbformat_minor": 5
}

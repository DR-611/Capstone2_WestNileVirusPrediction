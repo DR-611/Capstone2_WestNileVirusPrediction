{
 "cells": [
  {
   "cell_type": "markdown",
   "id": "2feeb9ef",
   "metadata": {},
   "source": [
    "***"
   ]
  },
  {
   "cell_type": "markdown",
   "id": "1cebe821",
   "metadata": {},
   "source": [
    "## 4. Modeling"
   ]
  },
  {
   "cell_type": "markdown",
   "id": "172b6b3e",
   "metadata": {},
   "source": [
    "***"
   ]
  },
  {
   "cell_type": "markdown",
   "id": "09522058",
   "metadata": {},
   "source": [
    "**Import Packages:**"
   ]
  },
  {
   "cell_type": "code",
   "execution_count": 1,
   "id": "c833d170",
   "metadata": {},
   "outputs": [],
   "source": [
    "#imports\n",
    "import numpy as np\n",
    "import pandas as pd\n",
    "from sklearn import dummy, metrics\n",
    "from sklearn.metrics import plot_roc_curve, roc_auc_score\n",
    "from sklearn.dummy import DummyClassifier\n",
    "from sklearn.linear_model import LogisticRegression\n",
    "from sklearn.svm import SVC\n",
    "from sklearn.ensemble import RandomForestClassifier\n",
    "from sklearn.ensemble import GradientBoostingClassifier\n",
    "from sklearn.ensemble import AdaBoostClassifier\n",
    "from sklearn.ensemble import ExtraTreesClassifier\n",
    "from sklearn.model_selection import RandomizedSearchCV\n",
    "from sklearn.model_selection import GridSearchCV\n",
    "from xgboost import XGBClassifier\n",
    "from lightgbm import LGBMClassifier\n",
    "import shap\n",
    "from IPython.display import Image"
   ]
  },
  {
   "cell_type": "markdown",
   "id": "df24128f",
   "metadata": {},
   "source": [
    "***"
   ]
  },
  {
   "cell_type": "markdown",
   "id": "86a89d6d",
   "metadata": {},
   "source": [
    "**Set Random Seed:**"
   ]
  },
  {
   "cell_type": "code",
   "execution_count": 2,
   "id": "9b012f52",
   "metadata": {},
   "outputs": [],
   "source": [
    "#random seed for repeatability\n",
    "random_seed = 18"
   ]
  },
  {
   "cell_type": "markdown",
   "id": "e42b8e56",
   "metadata": {},
   "source": [
    "***"
   ]
  },
  {
   "cell_type": "markdown",
   "id": "a251bf23",
   "metadata": {},
   "source": [
    "**Read Data Into Pandas:**"
   ]
  },
  {
   "cell_type": "code",
   "execution_count": 3,
   "id": "3d1a985f",
   "metadata": {},
   "outputs": [],
   "source": [
    "#read the data into pandas\n",
    "\n",
    "filepath = '../data/X_train.csv'\n",
    "X_train = pd.read_csv(filepath)\n",
    "\n",
    "filepath = '../data/y_train.csv'\n",
    "y_train = pd.read_csv(filepath)\n",
    "\n",
    "filepath = '../data/X_test.csv'\n",
    "X_test = pd.read_csv(filepath)\n",
    "\n",
    "filepath = '../data/y_test.csv'\n",
    "y_test = pd.read_csv(filepath)"
   ]
  },
  {
   "cell_type": "code",
   "execution_count": 4,
   "id": "ca25895c",
   "metadata": {},
   "outputs": [
    {
     "name": "stdout",
     "output_type": "stream",
     "text": [
      "<class 'pandas.core.frame.DataFrame'>\n",
      "RangeIndex: 7354 entries, 0 to 7353\n",
      "Data columns (total 44 columns):\n",
      " #   Column                      Non-Null Count  Dtype  \n",
      "---  ------                      --------------  -----  \n",
      " 0   InSprayBounds_1             7354 non-null   float64\n",
      " 1   IsDayAfterSpray_1           7354 non-null   float64\n",
      " 2   IsNorthWestZone_1           7354 non-null   float64\n",
      " 3   MoistureConditions_Optimal  7354 non-null   float64\n",
      " 4   MoistureConditions_Poor     7354 non-null   float64\n",
      " 5   NumMosquitos                7354 non-null   float64\n",
      " 6   PrecipTotal_lag1            7354 non-null   float64\n",
      " 7   PrecipTotal_lag23           7354 non-null   float64\n",
      " 8   PrecipTotal_lag27           7354 non-null   float64\n",
      " 9   PrecipTotal_lag28_mean      7354 non-null   float64\n",
      " 10  PrecipWeekly_Score_3        7354 non-null   float64\n",
      " 11  PrecipWeekly_Score_5        7354 non-null   float64\n",
      " 12  RelHumidity_lag10           7354 non-null   float64\n",
      " 13  RelHumidity_lag4            7354 non-null   float64\n",
      " 14  Species_CULEX RESTUANS      7354 non-null   float64\n",
      " 15  Species_OTHER               7354 non-null   float64\n",
      " 16  Tavg_lag11                  7354 non-null   float64\n",
      " 17  Tavg_lag23                  7354 non-null   float64\n",
      " 18  Week_24                     7354 non-null   float64\n",
      " 19  Week_25                     7354 non-null   float64\n",
      " 20  Week_26                     7354 non-null   float64\n",
      " 21  Week_27                     7354 non-null   float64\n",
      " 22  Week_28                     7354 non-null   float64\n",
      " 23  Week_29                     7354 non-null   float64\n",
      " 24  Week_30                     7354 non-null   float64\n",
      " 25  Week_31                     7354 non-null   float64\n",
      " 26  Week_32                     7354 non-null   float64\n",
      " 27  Week_33                     7354 non-null   float64\n",
      " 28  Week_34                     7354 non-null   float64\n",
      " 29  Week_35                     7354 non-null   float64\n",
      " 30  Week_36                     7354 non-null   float64\n",
      " 31  Week_37                     7354 non-null   float64\n",
      " 32  Week_38                     7354 non-null   float64\n",
      " 33  Week_39                     7354 non-null   float64\n",
      " 34  Week_40                     7354 non-null   float64\n",
      " 35  Week_41                     7354 non-null   float64\n",
      " 36  WindConditions_Optimal      7354 non-null   float64\n",
      " 37  WindConditions_Poor         7354 non-null   float64\n",
      " 38  Wind_AvgSpeed_lag15         7354 non-null   float64\n",
      " 39  Wind_AvgSpeed_lag18         7354 non-null   float64\n",
      " 40  Wind_AvgSpeed_lag23         7354 non-null   float64\n",
      " 41  Wind_AvgSpeed_lag5          7354 non-null   float64\n",
      " 42  Wind_AvgSpeed_lag6          7354 non-null   float64\n",
      " 43  Wind_AvgSpeed_lag7_mean     7354 non-null   float64\n",
      "dtypes: float64(44)\n",
      "memory usage: 2.5 MB\n"
     ]
    }
   ],
   "source": [
    "X_train.info()"
   ]
  },
  {
   "cell_type": "markdown",
   "id": "58fea1f5",
   "metadata": {},
   "source": [
    "***"
   ]
  },
  {
   "cell_type": "markdown",
   "id": "6f91682f",
   "metadata": {},
   "source": [
    "## 4.1 Undersample the Training Data"
   ]
  },
  {
   "cell_type": "code",
   "execution_count": 5,
   "id": "4b629f96",
   "metadata": {},
   "outputs": [],
   "source": [
    "def undersample(X, y, random_seed):\n",
    "    #set undersample size to the number of rows in the minority class\n",
    "    undersample_size = y.value_counts().min()\n",
    "    \n",
    "    #concatenate the X_train and y_train datasets\n",
    "    us_data = pd.concat([X,y],axis=1)\n",
    "    \n",
    "    #minority/positive class\n",
    "    pos_us_data = us_data[us_data['WnvPresent']==1]\n",
    "\n",
    "    #sample the majority/negative class (n samples = undersample size)\n",
    "    neg_us_data = us_data[us_data['WnvPresent']==0].sample(undersample_size, random_state=random_seed)\n",
    "\n",
    "    #concatenate the two datasets to create the undersampled dataset\n",
    "    us_data = pd.concat([neg_us_data, pos_us_data], axis=0)\n",
    "\n",
    "    #Separate the Input Features (X) and Target Feature (y)\n",
    "    X_train_us = us_data.drop(columns='WnvPresent')\n",
    "    y_train_us = us_data[['WnvPresent']]\n",
    "    \n",
    "    return (X_train_us, y_train_us)"
   ]
  },
  {
   "cell_type": "markdown",
   "id": "1c487dda",
   "metadata": {},
   "source": [
    "***"
   ]
  },
  {
   "cell_type": "markdown",
   "id": "08fa710f",
   "metadata": {},
   "source": [
    "## 4.2 Train and Test Different Models"
   ]
  },
  {
   "cell_type": "markdown",
   "id": "b8ce729a",
   "metadata": {},
   "source": [
    "***"
   ]
  },
  {
   "cell_type": "markdown",
   "id": "2caedbae",
   "metadata": {},
   "source": [
    "**DataFrame to Track Model AUC Scores:**"
   ]
  },
  {
   "cell_type": "code",
   "execution_count": 6,
   "id": "309c938c",
   "metadata": {},
   "outputs": [],
   "source": [
    "df_test_results = pd.DataFrame(columns = ['Model','TrainAUC','TestAUC'])"
   ]
  },
  {
   "cell_type": "markdown",
   "id": "43a554cc",
   "metadata": {},
   "source": [
    "***"
   ]
  },
  {
   "cell_type": "markdown",
   "id": "4d7be3a0",
   "metadata": {},
   "source": [
    "**Method to train, predict, and score each model:**"
   ]
  },
  {
   "cell_type": "code",
   "execution_count": 7,
   "id": "9ad6126d",
   "metadata": {},
   "outputs": [],
   "source": [
    "def train_predict_score(model, X_train, y_train, X_test, y_test, random_seed):\n",
    "    \n",
    "    #undersample the training data\n",
    "    X_train_us, y_train_us = undersample(X_train,y_train, random_seed)\n",
    "    \n",
    "    #fit the model\n",
    "    model.fit(X_train_us,np.ravel(y_train_us))\n",
    "    \n",
    "    #make predictions on the train and test sets\n",
    "    y_train_pred = model.predict_proba(X_train)[:,1]\n",
    "    y_test_pred = model.predict_proba(X_test)[:,1]\n",
    "        \n",
    "    #score the model (using AUC)\n",
    "    train_auc = roc_auc_score(y_train, y_train_pred)\n",
    "    test_auc = roc_auc_score(y_test, y_test_pred)\n",
    "    \n",
    "    return (train_auc, test_auc)"
   ]
  },
  {
   "cell_type": "markdown",
   "id": "a6aa2335",
   "metadata": {},
   "source": [
    "***"
   ]
  },
  {
   "cell_type": "markdown",
   "id": "bf037d30",
   "metadata": {},
   "source": [
    "**Method to print AUC scores and get the test results dataframe row:**"
   ]
  },
  {
   "cell_type": "code",
   "execution_count": 8,
   "id": "988e2953",
   "metadata": {},
   "outputs": [],
   "source": [
    "def handle_scores(model_name, scores):\n",
    "    \n",
    "    #print AUC scores\n",
    "    print('Training AUC: ', scores[0])\n",
    "    print('Test AUC: ', scores[1])\n",
    "    \n",
    "    #return the test results row for the test results dataframe\n",
    "    test_results_row = {'Model':model_name,'TrainAUC':scores[0],'TestAUC':scores[1]}\n",
    "    \n",
    "    return test_results_row"
   ]
  },
  {
   "cell_type": "markdown",
   "id": "96d1ef59",
   "metadata": {},
   "source": [
    "***"
   ]
  },
  {
   "cell_type": "markdown",
   "id": "6d622979",
   "metadata": {},
   "source": [
    "## 4.2.1 Baseline Model"
   ]
  },
  {
   "cell_type": "code",
   "execution_count": 9,
   "id": "22ae72e9",
   "metadata": {},
   "outputs": [
    {
     "name": "stdout",
     "output_type": "stream",
     "text": [
      "Training AUC:  0.5\n",
      "Test AUC:  0.5\n"
     ]
    }
   ],
   "source": [
    "#Baseline model\n",
    "dummy_model = DummyClassifier(random_state = random_seed, strategy='uniform')\n",
    "\n",
    "#train the model, make predictions on train and test sets, get AUC scores\n",
    "scores = train_predict_score(dummy_model, X_train, y_train, X_test, y_test, random_seed)\n",
    "\n",
    "#append AUC scores to test results dataframe, print AUC scores\n",
    "results_row = handle_scores('Baseline Model', scores)\n",
    "df_test_results = df_test_results.append(results_row,ignore_index=True)"
   ]
  },
  {
   "cell_type": "markdown",
   "id": "ce18d1ca",
   "metadata": {},
   "source": [
    "***"
   ]
  },
  {
   "cell_type": "markdown",
   "id": "07660188",
   "metadata": {},
   "source": [
    "## 4.2.2 Logistic Regression"
   ]
  },
  {
   "cell_type": "code",
   "execution_count": 10,
   "id": "3c71e11b",
   "metadata": {},
   "outputs": [
    {
     "name": "stdout",
     "output_type": "stream",
     "text": [
      "Training AUC:  0.868971887771188\n",
      "Test AUC:  0.8351158048513254\n"
     ]
    }
   ],
   "source": [
    "#Logistic Regression model\n",
    "lr_model = LogisticRegression(random_state = random_seed)\n",
    "\n",
    "#train the model, make predictions on train and test sets, get AUC scores\n",
    "scores = train_predict_score(lr_model, X_train, y_train, X_test, y_test, random_seed)\n",
    "\n",
    "#append AUC scores to test results dataframe, print AUC scores\n",
    "results_row = handle_scores('Logistic Regression', scores)\n",
    "df_test_results = df_test_results.append(results_row,ignore_index=True)"
   ]
  },
  {
   "cell_type": "markdown",
   "id": "9818ea89",
   "metadata": {},
   "source": [
    "***"
   ]
  },
  {
   "cell_type": "markdown",
   "id": "51caf8c8",
   "metadata": {},
   "source": [
    "## 4.2.3 Support Vector Machine"
   ]
  },
  {
   "cell_type": "code",
   "execution_count": 11,
   "id": "cada3612",
   "metadata": {},
   "outputs": [
    {
     "name": "stdout",
     "output_type": "stream",
     "text": [
      "Training AUC:  0.8806105854743818\n",
      "Test AUC:  0.8230077811932516\n"
     ]
    }
   ],
   "source": [
    "#SVM model\n",
    "svm_model = SVC(random_state = random_seed, probability=True)\n",
    "\n",
    "#train the model, make predictions on train and test sets, get AUC scores\n",
    "scores = train_predict_score(svm_model, X_train, y_train, X_test, y_test, random_seed)\n",
    "\n",
    "#append AUC scores to test results dataframe, print AUC scores\n",
    "results_row = handle_scores('Support Vector Classifier', scores)\n",
    "df_test_results = df_test_results.append(results_row,ignore_index=True)"
   ]
  },
  {
   "cell_type": "markdown",
   "id": "3efa7d24",
   "metadata": {},
   "source": [
    "***"
   ]
  },
  {
   "cell_type": "markdown",
   "id": "b5c94760",
   "metadata": {},
   "source": [
    "## 4.2.4 Random Forest "
   ]
  },
  {
   "cell_type": "code",
   "execution_count": 12,
   "id": "d44ad3b2",
   "metadata": {},
   "outputs": [
    {
     "name": "stdout",
     "output_type": "stream",
     "text": [
      "Training AUC:  0.9284447258526023\n",
      "Test AUC:  0.797383611812805\n"
     ]
    }
   ],
   "source": [
    "#Random Forest model\n",
    "rf_model = RandomForestClassifier(random_state = random_seed)\n",
    "\n",
    "#train the model, make predictions on train and test sets, get AUC scores\n",
    "scores = train_predict_score(rf_model, X_train, y_train, X_test, y_test, random_seed)\n",
    "\n",
    "#append AUC scores to test results dataframe, print AUC scores\n",
    "results_row = handle_scores('Random Forest Classifier', scores)\n",
    "df_test_results = df_test_results.append(results_row,ignore_index=True)"
   ]
  },
  {
   "cell_type": "markdown",
   "id": "ac02a813",
   "metadata": {},
   "source": [
    "***"
   ]
  },
  {
   "cell_type": "markdown",
   "id": "7d391757",
   "metadata": {},
   "source": [
    "## 4.2.5 Gradient Boosting"
   ]
  },
  {
   "cell_type": "code",
   "execution_count": 13,
   "id": "cfebfd3b",
   "metadata": {},
   "outputs": [
    {
     "name": "stdout",
     "output_type": "stream",
     "text": [
      "Training AUC:  0.9068428285039529\n",
      "Test AUC:  0.8389008937720019\n"
     ]
    }
   ],
   "source": [
    "#Gradient Boosting model\n",
    "gb_model = GradientBoostingClassifier(random_state = random_seed)\n",
    "\n",
    "#train the model, make predictions on train and test sets, get AUC scores\n",
    "scores = train_predict_score(gb_model, X_train, y_train, X_test, y_test, random_seed)\n",
    "\n",
    "#append AUC scores to test results dataframe, print AUC scores\n",
    "results_row = handle_scores('Gradient Boosting Classifier', scores)\n",
    "df_test_results = df_test_results.append(results_row,ignore_index=True)\n"
   ]
  },
  {
   "cell_type": "markdown",
   "id": "4b33a532",
   "metadata": {},
   "source": [
    "***"
   ]
  },
  {
   "cell_type": "markdown",
   "id": "f796a67d",
   "metadata": {},
   "source": [
    "## 4.2.6 XGBoost"
   ]
  },
  {
   "cell_type": "code",
   "execution_count": 14,
   "id": "b30149d8",
   "metadata": {},
   "outputs": [
    {
     "name": "stdout",
     "output_type": "stream",
     "text": [
      "[11:46:08] WARNING: D:\\bld\\xgboost-split_1645118015404\\work\\src\\learner.cc:1115: Starting in XGBoost 1.3.0, the default evaluation metric used with the objective 'binary:logistic' was changed from 'error' to 'logloss'. Explicitly set eval_metric if you'd like to restore the old behavior.\n",
      "Training AUC:  0.9145828747851019\n",
      "Test AUC:  0.8073966988262267\n"
     ]
    }
   ],
   "source": [
    "#XGBoost model\n",
    "xgb_model = XGBClassifier(use_label_encoder=False, seed=random_seed)\n",
    "\n",
    "#train the model, make predictions on train and test sets, get AUC scores\n",
    "scores = train_predict_score(xgb_model, X_train, y_train, X_test, y_test, random_seed)\n",
    "\n",
    "#append AUC scores to test results dataframe, print AUC scores\n",
    "results_row = handle_scores('XGBoost Classifier', scores)\n",
    "df_test_results = df_test_results.append(results_row,ignore_index=True)"
   ]
  },
  {
   "cell_type": "markdown",
   "id": "4f2399e8",
   "metadata": {},
   "source": [
    "***"
   ]
  },
  {
   "cell_type": "markdown",
   "id": "5f6e631b",
   "metadata": {},
   "source": [
    "## 4.2.7 LightGBM"
   ]
  },
  {
   "cell_type": "code",
   "execution_count": 15,
   "id": "41b4eec4",
   "metadata": {},
   "outputs": [
    {
     "name": "stdout",
     "output_type": "stream",
     "text": [
      "Training AUC:  0.9162914626746697\n",
      "Test AUC:  0.8133162897809701\n"
     ]
    }
   ],
   "source": [
    "#LightGBM model\n",
    "lgb_model = LGBMClassifier(random_state = random_seed)\n",
    "\n",
    "#train the model, make predictions on train and test sets, get AUC scores\n",
    "scores = train_predict_score(lgb_model, X_train, y_train, X_test, y_test, random_seed)\n",
    "\n",
    "#append AUC scores to test results dataframe, print AUC scores\n",
    "results_row = handle_scores('LightGBM Classifier', scores)\n",
    "df_test_results = df_test_results.append(results_row,ignore_index=True)"
   ]
  },
  {
   "cell_type": "markdown",
   "id": "aeef1ae9",
   "metadata": {},
   "source": [
    "***"
   ]
  },
  {
   "cell_type": "markdown",
   "id": "93cb2a89",
   "metadata": {},
   "source": [
    "## 4.2.8 AdaBoost"
   ]
  },
  {
   "cell_type": "code",
   "execution_count": 16,
   "id": "61ab2b4c",
   "metadata": {},
   "outputs": [
    {
     "name": "stdout",
     "output_type": "stream",
     "text": [
      "Training AUC:  0.879391652736715\n",
      "Test AUC:  0.8345060920554728\n"
     ]
    }
   ],
   "source": [
    "#AdaBoost model\n",
    "ada_model = AdaBoostClassifier(random_state = random_seed)\n",
    "\n",
    "#train the model, make predictions on train and test sets, get AUC scores\n",
    "scores = train_predict_score(ada_model, X_train, y_train, X_test, y_test, random_seed)\n",
    "\n",
    "#append AUC scores to test results dataframe, print AUC scores\n",
    "results_row = handle_scores('AdaBoost Classifier', scores)\n",
    "df_test_results = df_test_results.append(results_row,ignore_index=True)"
   ]
  },
  {
   "cell_type": "markdown",
   "id": "3229a417",
   "metadata": {},
   "source": [
    "***"
   ]
  },
  {
   "cell_type": "markdown",
   "id": "ff18f5ae",
   "metadata": {},
   "source": [
    "## 4.2.9 ExtraTrees Classifier"
   ]
  },
  {
   "cell_type": "code",
   "execution_count": 17,
   "id": "081daea3",
   "metadata": {},
   "outputs": [
    {
     "name": "stdout",
     "output_type": "stream",
     "text": [
      "Training AUC:  0.942394692539693\n",
      "Test AUC:  0.767761309107141\n"
     ]
    }
   ],
   "source": [
    "#Extra Trees model\n",
    "et_model = ExtraTreesClassifier(random_state = random_seed)\n",
    "\n",
    "#train the model, make predictions on train and test sets, get AUC scores\n",
    "scores = train_predict_score(et_model, X_train, y_train, X_test, y_test, random_seed)\n",
    "\n",
    "#append AUC scores to test results dataframe, print AUC scores\n",
    "results_row = handle_scores('Extra Trees Classifier', scores)\n",
    "df_test_results = df_test_results.append(results_row,ignore_index=True)"
   ]
  },
  {
   "cell_type": "markdown",
   "id": "c6eba90a",
   "metadata": {},
   "source": [
    "***"
   ]
  },
  {
   "cell_type": "markdown",
   "id": "8b855c4b",
   "metadata": {},
   "source": [
    "## 4.3 Initial Test Results"
   ]
  },
  {
   "cell_type": "code",
   "execution_count": 18,
   "id": "c2e03118",
   "metadata": {},
   "outputs": [
    {
     "data": {
      "text/html": [
       "<div>\n",
       "<style scoped>\n",
       "    .dataframe tbody tr th:only-of-type {\n",
       "        vertical-align: middle;\n",
       "    }\n",
       "\n",
       "    .dataframe tbody tr th {\n",
       "        vertical-align: top;\n",
       "    }\n",
       "\n",
       "    .dataframe thead th {\n",
       "        text-align: right;\n",
       "    }\n",
       "</style>\n",
       "<table border=\"1\" class=\"dataframe\">\n",
       "  <thead>\n",
       "    <tr style=\"text-align: right;\">\n",
       "      <th></th>\n",
       "      <th>Model</th>\n",
       "      <th>TrainAUC</th>\n",
       "      <th>TestAUC</th>\n",
       "    </tr>\n",
       "  </thead>\n",
       "  <tbody>\n",
       "    <tr>\n",
       "      <th>4</th>\n",
       "      <td>Gradient Boosting Classifier</td>\n",
       "      <td>0.906843</td>\n",
       "      <td>0.838901</td>\n",
       "    </tr>\n",
       "    <tr>\n",
       "      <th>1</th>\n",
       "      <td>Logistic Regression</td>\n",
       "      <td>0.868972</td>\n",
       "      <td>0.835116</td>\n",
       "    </tr>\n",
       "    <tr>\n",
       "      <th>7</th>\n",
       "      <td>AdaBoost Classifier</td>\n",
       "      <td>0.879392</td>\n",
       "      <td>0.834506</td>\n",
       "    </tr>\n",
       "    <tr>\n",
       "      <th>2</th>\n",
       "      <td>Support Vector Classifier</td>\n",
       "      <td>0.880611</td>\n",
       "      <td>0.823008</td>\n",
       "    </tr>\n",
       "    <tr>\n",
       "      <th>6</th>\n",
       "      <td>LightGBM Classifier</td>\n",
       "      <td>0.916291</td>\n",
       "      <td>0.813316</td>\n",
       "    </tr>\n",
       "    <tr>\n",
       "      <th>5</th>\n",
       "      <td>XGBoost Classifier</td>\n",
       "      <td>0.914583</td>\n",
       "      <td>0.807397</td>\n",
       "    </tr>\n",
       "    <tr>\n",
       "      <th>3</th>\n",
       "      <td>Random Forest Classifier</td>\n",
       "      <td>0.928445</td>\n",
       "      <td>0.797384</td>\n",
       "    </tr>\n",
       "    <tr>\n",
       "      <th>8</th>\n",
       "      <td>Extra Trees Classifier</td>\n",
       "      <td>0.942395</td>\n",
       "      <td>0.767761</td>\n",
       "    </tr>\n",
       "    <tr>\n",
       "      <th>0</th>\n",
       "      <td>Baseline Model</td>\n",
       "      <td>0.500000</td>\n",
       "      <td>0.500000</td>\n",
       "    </tr>\n",
       "  </tbody>\n",
       "</table>\n",
       "</div>"
      ],
      "text/plain": [
       "                          Model  TrainAUC   TestAUC\n",
       "4  Gradient Boosting Classifier  0.906843  0.838901\n",
       "1           Logistic Regression  0.868972  0.835116\n",
       "7           AdaBoost Classifier  0.879392  0.834506\n",
       "2     Support Vector Classifier  0.880611  0.823008\n",
       "6           LightGBM Classifier  0.916291  0.813316\n",
       "5            XGBoost Classifier  0.914583  0.807397\n",
       "3      Random Forest Classifier  0.928445  0.797384\n",
       "8        Extra Trees Classifier  0.942395  0.767761\n",
       "0                Baseline Model  0.500000  0.500000"
      ]
     },
     "execution_count": 18,
     "metadata": {},
     "output_type": "execute_result"
    }
   ],
   "source": [
    "df_test_results.sort_values(by='TestAUC', ascending=False)"
   ]
  },
  {
   "cell_type": "markdown",
   "id": "5a653602",
   "metadata": {},
   "source": [
    "Initial modeling favours the **Gradient Boosting Classifier**. Hyperparameter tuning will be used in an attempt to improve on the best model. "
   ]
  },
  {
   "cell_type": "markdown",
   "id": "11db9db6",
   "metadata": {},
   "source": [
    "***"
   ]
  },
  {
   "cell_type": "markdown",
   "id": "5e701a17",
   "metadata": {},
   "source": [
    "## 4.4 Hyperparameter Tuning"
   ]
  },
  {
   "cell_type": "markdown",
   "id": "84975361",
   "metadata": {},
   "source": [
    "***"
   ]
  },
  {
   "cell_type": "markdown",
   "id": "441f5c7e",
   "metadata": {},
   "source": [
    "**Search for best Gradient Boosting Classifier hyperparameters:**"
   ]
  },
  {
   "cell_type": "code",
   "execution_count": 19,
   "id": "c91b99c5",
   "metadata": {},
   "outputs": [
    {
     "name": "stdout",
     "output_type": "stream",
     "text": [
      "Training AUC:  0.900439574249121\n",
      "Test AUC:  0.8425348226151708\n"
     ]
    }
   ],
   "source": [
    "#define the hyperparameter search grid\n",
    "grid_params = {\n",
    "    'learning_rate':[0.001,0.01,0.1, 1],\n",
    "    'max_depth':[3,6,7,8,9,10],\n",
    "    'subsample':[0.25,0.5,0.75,1],\n",
    "    'max_features':['sqrt','log2',1],\n",
    "}\n",
    "\n",
    "#Gradient Boosting model (best score in initial modeling)\n",
    "gb_model = GradientBoostingClassifier(random_state = random_seed)\n",
    "\n",
    "#Randomized CV search for best hyperparameters\n",
    "tuned_gb_model = RandomizedSearchCV(gb_model,grid_params, scoring='roc_auc',n_jobs=-1, cv=15, random_state=random_seed,\n",
    "                                n_iter=30)\n",
    "\n",
    "#train the model, make predictions on train and test sets, get AUC scores\n",
    "scores = train_predict_score(tuned_gb_model, X_train, y_train, X_test, y_test, random_seed)\n",
    "\n",
    "#append AUC scores to test results dataframe, print AUC scores\n",
    "results_row = handle_scores('Tuned Gradient Boosting Classifier', scores)\n",
    "df_test_results = df_test_results.append(results_row,ignore_index=True)"
   ]
  },
  {
   "cell_type": "markdown",
   "id": "710f22c1",
   "metadata": {},
   "source": [
    "***"
   ]
  },
  {
   "cell_type": "markdown",
   "id": "a67b7539",
   "metadata": {},
   "source": [
    "**Best parameters:**"
   ]
  },
  {
   "cell_type": "code",
   "execution_count": 20,
   "id": "5162c9bf",
   "metadata": {},
   "outputs": [
    {
     "data": {
      "text/plain": [
       "{'subsample': 0.75,\n",
       " 'max_features': 'log2',\n",
       " 'max_depth': 3,\n",
       " 'learning_rate': 0.1}"
      ]
     },
     "execution_count": 20,
     "metadata": {},
     "output_type": "execute_result"
    }
   ],
   "source": [
    "tuned_gb_model.best_params_"
   ]
  },
  {
   "cell_type": "markdown",
   "id": "071a72dc",
   "metadata": {},
   "source": [
    "***"
   ]
  },
  {
   "cell_type": "markdown",
   "id": "6ff8da16",
   "metadata": {},
   "source": [
    "## 4.5 Final Results"
   ]
  },
  {
   "cell_type": "markdown",
   "id": "c5288904",
   "metadata": {},
   "source": [
    "***"
   ]
  },
  {
   "cell_type": "markdown",
   "id": "101726c8",
   "metadata": {},
   "source": [
    "**Model Scores:**"
   ]
  },
  {
   "cell_type": "code",
   "execution_count": 21,
   "id": "11dac3a8",
   "metadata": {},
   "outputs": [
    {
     "data": {
      "text/html": [
       "<div>\n",
       "<style scoped>\n",
       "    .dataframe tbody tr th:only-of-type {\n",
       "        vertical-align: middle;\n",
       "    }\n",
       "\n",
       "    .dataframe tbody tr th {\n",
       "        vertical-align: top;\n",
       "    }\n",
       "\n",
       "    .dataframe thead th {\n",
       "        text-align: right;\n",
       "    }\n",
       "</style>\n",
       "<table border=\"1\" class=\"dataframe\">\n",
       "  <thead>\n",
       "    <tr style=\"text-align: right;\">\n",
       "      <th></th>\n",
       "      <th>Model</th>\n",
       "      <th>TrainAUC</th>\n",
       "      <th>TestAUC</th>\n",
       "    </tr>\n",
       "  </thead>\n",
       "  <tbody>\n",
       "    <tr>\n",
       "      <th>9</th>\n",
       "      <td>Tuned Gradient Boosting Classifier</td>\n",
       "      <td>0.900440</td>\n",
       "      <td>0.842535</td>\n",
       "    </tr>\n",
       "    <tr>\n",
       "      <th>4</th>\n",
       "      <td>Gradient Boosting Classifier</td>\n",
       "      <td>0.906843</td>\n",
       "      <td>0.838901</td>\n",
       "    </tr>\n",
       "    <tr>\n",
       "      <th>1</th>\n",
       "      <td>Logistic Regression</td>\n",
       "      <td>0.868972</td>\n",
       "      <td>0.835116</td>\n",
       "    </tr>\n",
       "    <tr>\n",
       "      <th>7</th>\n",
       "      <td>AdaBoost Classifier</td>\n",
       "      <td>0.879392</td>\n",
       "      <td>0.834506</td>\n",
       "    </tr>\n",
       "    <tr>\n",
       "      <th>2</th>\n",
       "      <td>Support Vector Classifier</td>\n",
       "      <td>0.880611</td>\n",
       "      <td>0.823008</td>\n",
       "    </tr>\n",
       "    <tr>\n",
       "      <th>6</th>\n",
       "      <td>LightGBM Classifier</td>\n",
       "      <td>0.916291</td>\n",
       "      <td>0.813316</td>\n",
       "    </tr>\n",
       "    <tr>\n",
       "      <th>5</th>\n",
       "      <td>XGBoost Classifier</td>\n",
       "      <td>0.914583</td>\n",
       "      <td>0.807397</td>\n",
       "    </tr>\n",
       "    <tr>\n",
       "      <th>3</th>\n",
       "      <td>Random Forest Classifier</td>\n",
       "      <td>0.928445</td>\n",
       "      <td>0.797384</td>\n",
       "    </tr>\n",
       "    <tr>\n",
       "      <th>8</th>\n",
       "      <td>Extra Trees Classifier</td>\n",
       "      <td>0.942395</td>\n",
       "      <td>0.767761</td>\n",
       "    </tr>\n",
       "    <tr>\n",
       "      <th>0</th>\n",
       "      <td>Baseline Model</td>\n",
       "      <td>0.500000</td>\n",
       "      <td>0.500000</td>\n",
       "    </tr>\n",
       "  </tbody>\n",
       "</table>\n",
       "</div>"
      ],
      "text/plain": [
       "                                Model  TrainAUC   TestAUC\n",
       "9  Tuned Gradient Boosting Classifier  0.900440  0.842535\n",
       "4        Gradient Boosting Classifier  0.906843  0.838901\n",
       "1                 Logistic Regression  0.868972  0.835116\n",
       "7                 AdaBoost Classifier  0.879392  0.834506\n",
       "2           Support Vector Classifier  0.880611  0.823008\n",
       "6                 LightGBM Classifier  0.916291  0.813316\n",
       "5                  XGBoost Classifier  0.914583  0.807397\n",
       "3            Random Forest Classifier  0.928445  0.797384\n",
       "8              Extra Trees Classifier  0.942395  0.767761\n",
       "0                      Baseline Model  0.500000  0.500000"
      ]
     },
     "execution_count": 21,
     "metadata": {},
     "output_type": "execute_result"
    }
   ],
   "source": [
    "df_test_results.sort_values(by='TestAUC', ascending=False)"
   ]
  },
  {
   "cell_type": "markdown",
   "id": "aa5a8ad6",
   "metadata": {},
   "source": [
    "Hyperparameter tuning did improve the performance of the Gradient Boosting Classifier. Therefore, the **Tuned Gradient Boosting Classifier** will be the final model."
   ]
  },
  {
   "cell_type": "markdown",
   "id": "aa4f7334",
   "metadata": {},
   "source": [
    "***"
   ]
  },
  {
   "cell_type": "markdown",
   "id": "26255cb9",
   "metadata": {},
   "source": [
    "**ROC curve for the Tuned Gradient Boosting Classifier:**"
   ]
  },
  {
   "cell_type": "code",
   "execution_count": 22,
   "id": "4effcc85",
   "metadata": {},
   "outputs": [
    {
     "data": {
      "image/png": "[encoded data removed]",
      "text/plain": [
       "<Figure size 432x288 with 1 Axes>"
      ]
     },
     "metadata": {
      "needs_background": "light"
     },
     "output_type": "display_data"
    }
   ],
   "source": [
    "#plot the roc curve for the best model\n",
    "plot_roc_curve(tuned_gb_model, X_test, y_test);"
   ]
  },
  {
   "cell_type": "markdown",
   "id": "9c060459",
   "metadata": {},
   "source": [
    "***"
   ]
  },
  {
   "cell_type": "markdown",
   "id": "cc73708b",
   "metadata": {},
   "source": [
    "## 4.6 SHAP Analysis"
   ]
  },
  {
   "cell_type": "markdown",
   "id": "2b307578",
   "metadata": {},
   "source": [
    "***"
   ]
  },
  {
   "cell_type": "markdown",
   "id": "29e2bf46",
   "metadata": {},
   "source": [
    "## 4.6.1 SHAP Summary Plot"
   ]
  },
  {
   "cell_type": "markdown",
   "id": "efa44e89",
   "metadata": {},
   "source": [
    "***"
   ]
  },
  {
   "cell_type": "markdown",
   "id": "1996db3e",
   "metadata": {},
   "source": [
    "**Note:** the SHAP summary plot has been loaded from an image due to the code's long running time. However, the code below can be un-commented and used to generate the SHAP summary plot instead of using the image."
   ]
  },
  {
   "cell_type": "code",
   "execution_count": 23,
   "id": "477048d7",
   "metadata": {},
   "outputs": [
    {
     "data": {
      "image/jpeg": "[encoded data removed]",
      "text/plain": [
       "<IPython.core.display.Image object>"
      ]
     },
     "execution_count": 23,
     "metadata": {},
     "output_type": "execute_result"
    }
   ],
   "source": [
    "#load SHAP Summary Plot image\n",
    "Image(filename='../Images/SHAP_Summary_600samples.JPG') "
   ]
  },
  {
   "cell_type": "code",
   "execution_count": 24,
   "id": "9ca8cc4c",
   "metadata": {},
   "outputs": [],
   "source": [
    "#get SHAP values\n",
    "\n",
    "#X_test_sample = shap.sample(X_test,600)\n",
    "#explainer = shap.KernelExplainer(tuned_gb_model.predict, X_test_sample)\n",
    "#shap_values = explainer.shap_values(X_test_sample)\n"
   ]
  },
  {
   "cell_type": "code",
   "execution_count": 25,
   "id": "26eafebe",
   "metadata": {},
   "outputs": [],
   "source": [
    "#create SHAP summary plot\n",
    "\n",
    "#shap.summary_plot(shap_values, X_test_sample)"
   ]
  },
  {
   "cell_type": "markdown",
   "id": "e9dc59c6",
   "metadata": {},
   "source": [
    "***"
   ]
  },
  {
   "cell_type": "markdown",
   "id": "07f90e26",
   "metadata": {},
   "source": [
    "## 4.6.2 Feature Importance Conclusions:"
   ]
  },
  {
   "cell_type": "markdown",
   "id": "98e0cd48",
   "metadata": {},
   "source": [
    "***"
   ]
  },
  {
   "cell_type": "markdown",
   "id": "716a3dfa",
   "metadata": {},
   "source": [
    "**Top 5 Features:**\n",
    "* The **number of mosquitoes** caught in a trap was the most important predictor of whether West Nile virus would be present. This makes sense because, even when West Nile conditions are optimal, there is not necessarily a high likelihood that any individual mosquito will be West Nile positive. As more mosquitos are caught in a trap, it becomes more likely that at least one mosquito will be West Nile positive. \n",
    "* As the **average daily temperature with a 23-day lag** increased, it was more likely that West Nile virus would be present. Mosquitos tend to thrive in warmer environments so this was not surprising. The warmer temperatures likely led to improved mosquito breeding conditions and, therefore, higher mosquito population numbers. However, the effect will not be seen immediately. The length of the mosquito life cycle tends to be 2-4 weeks (although it can be shorter depending on weather conditions). This is a likely explanation for the importance of the 23-day lag.\n",
    "* As the **mean wind speed from 7-14 days prior** increased, the presence of West Nile virus decreased. Higher wind speeds likely make it more difficult for mosquitos to fly, reducing both their ability to fly greater distances and to accurately fly to their target destination. Therefore, higher wind speeds may result in reduced mosquito breeding. The importance of the 7-14 day lag is likely due to the length of the mosquito life cycle which tends to be 2-4 weeks, but can be as short as one week in peak summer conditions.\n",
    "* Traps were considered **within the spray boundaries** when they were inside the box created by the northernmost, southernmost, easternmost, westernmost spray location (up to that point in the year). The trap locations within the spray boundaries tended to have a much higher West Nile presence. This is likely due to correlation rather than causation. Spraying may have been a reactive response in areas that were already known to have either high levels of West Nile presence or high mosquito counts. It makes sense that spray boundaries, not only the spray zones, were important because individual mosquitos are not necessarily confined to a small area. Mosquitos have a maximum flight distance of 50m to 50km, depending on the species. Therefore, if there is a high mosquito count in one area, it is likely that there will be a high mosquito count in neighbouring areas (assuming relatively similar environments). This should hold true for West Nile presence as well.\n",
    "* As **average wind speed with a 15-day lag** increased, the presence of West Nile virus decreased. As mentioned above, higher wind speeds likely reduce both the distance mosquitos are able to fly and the ability of a mosquito to accurately fly to a target destination. This can be expected to result in reduced mosquito breeding. A delayed impact on mosquito population numbers would be observed, since the mosquito life cycle takes 2-4 weeks. Again, this explains the importance of the 15 day lag. \n",
    "\n",
    "**Other Observations Related to Feature Importance:**\n",
    "* A **23-day lag** seemed to be especially significant. Temperature and average wind speed lagged by 23 days both showed up in the top 6 most important features. Total precipitation lagged by 23 days also showed some importance. The typical mosquito life cycle is 2-4 weeks and varies based on environmental factors including temperature and moisture levels. It is possible that a life cycle of roughly 23 days tends to be common in the conditions created by the Chicago climate.\n",
    "* Higher **relative humidity** tended to go along with higher West Nile virus presence. Importance in relative humidity was seen for both a 4-day and 10-day lag. With the 4-day lag time, it is likely that mosquito activity increased with humidity, resulting in a higher number of mosquitoes being caught in the traps. Since traps were not checked daily, mosquitos may be caught in a trap for a few days before being discovered. With the 10-day lag time, it is likely that increased humidity improved breeding conditions for mosquitos. The mosquito life cycle is shorter in peak summer heat (which is often accompanied by high humidity levels). This may explain why a 10-day lag was important with relative humidity rather than the longer lag times associated with other weather features.\n",
    "* The mosquito **species** showed some importance in the model. Only two species - Culex Restuans and Culex Pipiens - were caught in significant numbers. These were also the only two species that were observed to be West Nile virus positive. **Culex Restuans**  mosquitoes were less likely to test positive for West Nile virus.  \n",
    "* Among **location** based features, the **Northwest Zone** identified during the EDA phase was positively correlated with the presence of West Nile. It is possible that this area provides an optimal environment for either mosquitoes or for bird species that are susceptible to West Nile virus (since mosquitoes become West Nile virus carriers by biting birds infected with the disease).\n",
    "* **Seasonality** also played a role in West Nile virus prediction, as week of the year indicators appeared in the top 20 most important features. Weeks 28 and 34 had negative and positive correlations with the presence of West Nile virus respectively.\n",
    "* **Precipitation** had a varied effect, but the two most important precipitation features had long lag times (mean precipitation with a lag of 28-35 days, and precipitation with a lag of 27 days). In these two cases, precipitation was negatively correlated with West Nile virus. This may be due to the fact that water sources become more scarce in dry conditions. Culex species tend to disperse more widely under these conditions, as adequate breeding grounds become more scarce. Additionally, contact between birds and mosquitoes tends to increase in dry conditions, as they both rely on the few remaining water sources. This increases the likelihood that mosquitoes will bite a bird that is infected with West Nile virus. On the other hand, mosquito numbers tend to increase in rainy conditions. This may explain why precipitation can have a varied impact on the presence of West Nile virus.  \n",
    "\n",
    "**References:**\n",
    "* https://www.in.gov/health/erc/zoonotic-and-vectorborne-epidemiology-entomology/pests/culex-species-mosquitoes/\n",
    "* https://www.sciencedirect.com/science/article/pii/S0075951113001011\n",
    "* https://www.orkin.com/pests/mosquitoes/mosquito-life-cycle-facts\n",
    "* https://www.medicalnewstoday.com/articles/west-nile-virus-in-the-us-a-case-study-on-climate-change-and-health#The-West-Nile-virus-in-the-U.S."
   ]
  },
  {
   "cell_type": "markdown",
   "id": "5d966f50",
   "metadata": {},
   "source": [
    "***"
   ]
  }
 ],
 "metadata": {
  "kernelspec": {
   "display_name": "Python 3",
   "language": "python",
   "name": "python3"
  },
  "language_info": {
   "codemirror_mode": {
    "name": "ipython",
    "version": 3
   },
   "file_extension": ".py",
   "mimetype": "text/x-python",
   "name": "python",
   "nbconvert_exporter": "python",
   "pygments_lexer": "ipython3",
   "version": "3.8.8"
  }
 },
 "nbformat": 4,
 "nbformat_minor": 5
}

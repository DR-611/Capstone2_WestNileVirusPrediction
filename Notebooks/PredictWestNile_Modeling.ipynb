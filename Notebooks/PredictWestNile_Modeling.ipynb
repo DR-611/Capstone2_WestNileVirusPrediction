{
 "cells": [
  {
   "cell_type": "markdown",
   "id": "1cebe821",
   "metadata": {},
   "source": [
    "## 4. Modeling"
   ]
  },
  {
   "cell_type": "markdown",
   "id": "09522058",
   "metadata": {},
   "source": [
    "**Import Packages:**"
   ]
  },
  {
   "cell_type": "code",
   "execution_count": 1,
   "id": "c833d170",
   "metadata": {},
   "outputs": [],
   "source": [
    "#imports\n",
    "import numpy as np\n",
    "\n",
    "import pandas as pd\n",
    "from sklearn import dummy, metrics\n",
    "from sklearn.dummy import DummyClassifier\n",
    "from sklearn.linear_model import LogisticRegression\n",
    "from sklearn.svm import SVC\n",
    "from sklearn.ensemble import RandomForestClassifier\n",
    "from sklearn.ensemble import GradientBoostingClassifier\n",
    "from sklearn.ensemble import AdaBoostClassifier\n",
    "from sklearn.ensemble import ExtraTreesClassifier\n",
    "from sklearn.model_selection import RandomizedSearchCV\n",
    "from sklearn.model_selection import GridSearchCV\n",
    "from xgboost import XGBClassifier\n",
    "from lightgbm import LGBMClassifier\n",
    "import shap"
   ]
  },
  {
   "cell_type": "markdown",
   "id": "86a89d6d",
   "metadata": {},
   "source": [
    "**Set Random Seed:**"
   ]
  },
  {
   "cell_type": "code",
   "execution_count": 2,
   "id": "9b012f52",
   "metadata": {},
   "outputs": [],
   "source": [
    "#random seed for repeatability\n",
    "random_seed = 18"
   ]
  },
  {
   "cell_type": "markdown",
   "id": "a251bf23",
   "metadata": {},
   "source": [
    "**Read Data Into Pandas:**"
   ]
  },
  {
   "cell_type": "code",
   "execution_count": 3,
   "id": "3d1a985f",
   "metadata": {},
   "outputs": [],
   "source": [
    "#read the data into pandas\n",
    "\n",
    "filepath = '../data/X_train.csv'\n",
    "X_train = pd.read_csv(filepath)\n",
    "\n",
    "filepath = '../data/y_train.csv'\n",
    "y_train = pd.read_csv(filepath)\n",
    "\n",
    "filepath = '../data/X_test.csv'\n",
    "X_test = pd.read_csv(filepath)\n",
    "\n",
    "filepath = '../data/y_test.csv'\n",
    "y_test = pd.read_csv(filepath)"
   ]
  },
  {
   "cell_type": "markdown",
   "id": "6f91682f",
   "metadata": {},
   "source": [
    "## 4.1 Undersample the Training Data"
   ]
  },
  {
   "cell_type": "code",
   "execution_count": 4,
   "id": "faff1a89",
   "metadata": {},
   "outputs": [],
   "source": [
    "#set undersample size to the number of rows in the minority class\n",
    "undersample_size = y_train.value_counts().min()\n",
    "\n",
    "#concatenate the X_train and y_train datasets\n",
    "us_data = pd.concat([X_train,y_train],axis=1)\n",
    "\n",
    "#minority/positive class\n",
    "pos_us_data = us_data[us_data['WnvPresent']==1]\n",
    "\n",
    "#sample the majority/negative class (n samples = undersample size)\n",
    "neg_us_data = us_data[us_data['WnvPresent']==0].sample(undersample_size, random_state=random_seed)\n",
    "\n",
    "#concatenate the two datasets to create the undersampled dataset\n",
    "us_data = pd.concat([neg_us_data, pos_us_data], axis=0)\n",
    "\n",
    "#Separate the Input Features (X) and Target Feature (y)\n",
    "X_train_us = us_data.drop(columns='WnvPresent')\n",
    "y_train_us = us_data[['WnvPresent']]"
   ]
  },
  {
   "cell_type": "markdown",
   "id": "08fa710f",
   "metadata": {},
   "source": [
    "## 4.2 Train and Test Different Models"
   ]
  },
  {
   "cell_type": "markdown",
   "id": "2caedbae",
   "metadata": {},
   "source": [
    "**DataFrame to Track Model AUC Scores:**"
   ]
  },
  {
   "cell_type": "code",
   "execution_count": 5,
   "id": "309c938c",
   "metadata": {},
   "outputs": [],
   "source": [
    "df_test_results = pd.DataFrame(columns = ['Model','TrainAUC','TestAUC'])"
   ]
  },
  {
   "cell_type": "markdown",
   "id": "6d622979",
   "metadata": {},
   "source": [
    "## 4.2.1 Baseline Model"
   ]
  },
  {
   "cell_type": "code",
   "execution_count": 6,
   "id": "22ae72e9",
   "metadata": {},
   "outputs": [],
   "source": [
    "dummy_model = DummyClassifier(random_state = random_seed, strategy='uniform')\n",
    "dummy_model.fit(X_train_us,np.ravel(y_train_us))\n",
    "\n",
    "y_train_pred = dummy_model.predict(X_train)\n",
    "y_test_pred = dummy_model.predict(X_test)"
   ]
  },
  {
   "cell_type": "code",
   "execution_count": 7,
   "id": "27382475",
   "metadata": {},
   "outputs": [
    {
     "name": "stdout",
     "output_type": "stream",
     "text": [
      "Training AUC:  0.5051133085072843\n",
      "Test AUC:  0.5143723813291942\n"
     ]
    }
   ],
   "source": [
    "fpr, tpr, thresholds = metrics.roc_curve(y_train, y_train_pred, pos_label = 1)\n",
    "train_auc = metrics.auc(fpr,tpr)\n",
    "\n",
    "fpr, tpr, thresholds = metrics.roc_curve(y_test, y_test_pred, pos_label = 1)\n",
    "test_auc = metrics.auc(fpr,tpr)\n",
    "\n",
    "print('Training AUC: ', train_auc)\n",
    "print('Test AUC: ', test_auc)"
   ]
  },
  {
   "cell_type": "code",
   "execution_count": 8,
   "id": "f2b06ee5",
   "metadata": {},
   "outputs": [],
   "source": [
    "df_test_results = df_test_results.append({'Model':'Dummy','TrainAUC':train_auc,'TestAUC':test_auc}, \n",
    "                       ignore_index=True)"
   ]
  },
  {
   "cell_type": "markdown",
   "id": "07660188",
   "metadata": {},
   "source": [
    "## 4.2.2 Logistic Regression"
   ]
  },
  {
   "cell_type": "code",
   "execution_count": 9,
   "id": "3c71e11b",
   "metadata": {},
   "outputs": [],
   "source": [
    "lr_model = LogisticRegression(random_state = random_seed)\n",
    "lr_model.fit(X_train_us,np.ravel(y_train_us))\n",
    "\n",
    "y_train_pred = lr_model.predict(X_train)\n",
    "y_test_pred = lr_model.predict(X_test)"
   ]
  },
  {
   "cell_type": "code",
   "execution_count": 10,
   "id": "6143a880",
   "metadata": {},
   "outputs": [
    {
     "name": "stdout",
     "output_type": "stream",
     "text": [
      "Training AUC:  0.7981371540067697\n",
      "Test AUC:  0.7637428858386343\n"
     ]
    }
   ],
   "source": [
    "fpr, tpr, thresholds = metrics.roc_curve(y_train, y_train_pred, pos_label = 1)\n",
    "train_auc = metrics.auc(fpr,tpr)\n",
    "\n",
    "fpr, tpr, thresholds = metrics.roc_curve(y_test, y_test_pred, pos_label = 1)\n",
    "test_auc = metrics.auc(fpr,tpr)\n",
    "\n",
    "print('Training AUC: ', train_auc)\n",
    "print('Test AUC: ', test_auc)"
   ]
  },
  {
   "cell_type": "code",
   "execution_count": 11,
   "id": "f88a3870",
   "metadata": {},
   "outputs": [],
   "source": [
    "df_test_results = df_test_results.append({'Model':'Logistic Regression','TrainAUC':train_auc,'TestAUC':test_auc}, \n",
    "                       ignore_index=True)"
   ]
  },
  {
   "cell_type": "markdown",
   "id": "51caf8c8",
   "metadata": {},
   "source": [
    "## 4.2.3 Support Vector Machine"
   ]
  },
  {
   "cell_type": "code",
   "execution_count": 12,
   "id": "cada3612",
   "metadata": {},
   "outputs": [],
   "source": [
    "svm_model = SVC(random_state = random_seed)\n",
    "svm_model.fit(X_train_us,np.ravel(y_train_us))\n",
    "\n",
    "y_train_pred = svm_model.predict(X_train)\n",
    "y_test_pred = svm_model.predict(X_test)"
   ]
  },
  {
   "cell_type": "code",
   "execution_count": 13,
   "id": "ecb97042",
   "metadata": {},
   "outputs": [
    {
     "name": "stdout",
     "output_type": "stream",
     "text": [
      "Training AUC:  0.7894694770468106\n",
      "Test AUC:  0.7469691897211147\n"
     ]
    }
   ],
   "source": [
    "fpr, tpr, thresholds = metrics.roc_curve(y_train, y_train_pred, pos_label = 1)\n",
    "train_auc = metrics.auc(fpr,tpr)\n",
    "\n",
    "fpr, tpr, thresholds = metrics.roc_curve(y_test, y_test_pred, pos_label = 1)\n",
    "test_auc = metrics.auc(fpr,tpr)\n",
    "\n",
    "print('Training AUC: ', train_auc)\n",
    "print('Test AUC: ', test_auc)"
   ]
  },
  {
   "cell_type": "code",
   "execution_count": 14,
   "id": "3256b26c",
   "metadata": {},
   "outputs": [],
   "source": [
    "df_test_results =  df_test_results.append({'Model':'SVM','TrainAUC':train_auc,'TestAUC':test_auc}, \n",
    "                       ignore_index=True)"
   ]
  },
  {
   "cell_type": "markdown",
   "id": "b5c94760",
   "metadata": {},
   "source": [
    "## 4.2.4 Random Forest "
   ]
  },
  {
   "cell_type": "code",
   "execution_count": 15,
   "id": "d44ad3b2",
   "metadata": {},
   "outputs": [],
   "source": [
    "rf_model = RandomForestClassifier(random_state = random_seed)\n",
    "rf_model.fit(X_train_us,np.ravel(y_train_us))\n",
    "\n",
    "y_train_pred = rf_model.predict(X_train)\n",
    "y_test_pred = rf_model.predict(X_test)"
   ]
  },
  {
   "cell_type": "code",
   "execution_count": 16,
   "id": "c97a8343",
   "metadata": {},
   "outputs": [
    {
     "name": "stdout",
     "output_type": "stream",
     "text": [
      "Training AUC:  0.8689241120027602\n",
      "Test AUC:  0.7463980278175123\n"
     ]
    }
   ],
   "source": [
    "fpr, tpr, thresholds = metrics.roc_curve(y_train, y_train_pred, pos_label = 1)\n",
    "train_auc = metrics.auc(fpr,tpr)\n",
    "\n",
    "fpr, tpr, thresholds = metrics.roc_curve(y_test, y_test_pred, pos_label = 1)\n",
    "test_auc = metrics.auc(fpr,tpr)\n",
    "\n",
    "print('Training AUC: ', train_auc)\n",
    "print('Test AUC: ', test_auc)"
   ]
  },
  {
   "cell_type": "code",
   "execution_count": 17,
   "id": "23633f55",
   "metadata": {},
   "outputs": [],
   "source": [
    "df_test_results = df_test_results.append({'Model':'Random Forest','TrainAUC':train_auc,'TestAUC':test_auc}, \n",
    "                       ignore_index=True)"
   ]
  },
  {
   "cell_type": "markdown",
   "id": "7d391757",
   "metadata": {},
   "source": [
    "## 4.2.5 Gradient Boosting"
   ]
  },
  {
   "cell_type": "code",
   "execution_count": 18,
   "id": "cfebfd3b",
   "metadata": {},
   "outputs": [],
   "source": [
    "gb_model = GradientBoostingClassifier(random_state = random_seed)\n",
    "gb_model.fit(X_train_us,np.ravel(y_train_us))\n",
    "\n",
    "y_train_pred = gb_model.predict(X_train)\n",
    "y_test_pred = gb_model.predict(X_test)"
   ]
  },
  {
   "cell_type": "code",
   "execution_count": 19,
   "id": "b23f7735",
   "metadata": {},
   "outputs": [
    {
     "name": "stdout",
     "output_type": "stream",
     "text": [
      "Training AUC:  0.8316835511561365\n",
      "Test AUC:  0.7763835205080603\n"
     ]
    }
   ],
   "source": [
    "fpr, tpr, thresholds = metrics.roc_curve(y_train, y_train_pred, pos_label = 1)\n",
    "train_auc = metrics.auc(fpr,tpr)\n",
    "\n",
    "fpr, tpr, thresholds = metrics.roc_curve(y_test, y_test_pred, pos_label = 1)\n",
    "test_auc = metrics.auc(fpr,tpr)\n",
    "\n",
    "print('Training AUC: ', train_auc)\n",
    "print('Test AUC: ', test_auc)"
   ]
  },
  {
   "cell_type": "code",
   "execution_count": 20,
   "id": "7c5752b1",
   "metadata": {},
   "outputs": [],
   "source": [
    "df_test_results = df_test_results.append({'Model':'Gradient Boosting','TrainAUC':train_auc,'TestAUC':test_auc}, \n",
    "                       ignore_index=True)"
   ]
  },
  {
   "cell_type": "markdown",
   "id": "f796a67d",
   "metadata": {},
   "source": [
    "## 4.2.6 XGBoost"
   ]
  },
  {
   "cell_type": "code",
   "execution_count": 21,
   "id": "b30149d8",
   "metadata": {},
   "outputs": [
    {
     "name": "stdout",
     "output_type": "stream",
     "text": [
      "[09:52:05] WARNING: D:\\bld\\xgboost-split_1645118015404\\work\\src\\learner.cc:1115: Starting in XGBoost 1.3.0, the default evaluation metric used with the objective 'binary:logistic' was changed from 'error' to 'logloss'. Explicitly set eval_metric if you'd like to restore the old behavior.\n"
     ]
    }
   ],
   "source": [
    "xgb_model = XGBClassifier(use_label_encoder=False, seed=random_seed)\n",
    "xgb_model.fit(X_train_us,np.ravel(y_train_us))\n",
    "\n",
    "y_train_pred = xgb_model.predict(X_train)\n",
    "y_test_pred = xgb_model.predict(X_test)"
   ]
  },
  {
   "cell_type": "code",
   "execution_count": 22,
   "id": "96db8a43",
   "metadata": {},
   "outputs": [
    {
     "name": "stdout",
     "output_type": "stream",
     "text": [
      "Training AUC:  0.8542783293575962\n",
      "Test AUC:  0.7615840358726198\n"
     ]
    }
   ],
   "source": [
    "fpr, tpr, thresholds = metrics.roc_curve(y_train, y_train_pred, pos_label = 1)\n",
    "train_auc = metrics.auc(fpr,tpr)\n",
    "\n",
    "fpr, tpr, thresholds = metrics.roc_curve(y_test, y_test_pred, pos_label = 1)\n",
    "test_auc = metrics.auc(fpr,tpr)\n",
    "\n",
    "print('Training AUC: ', train_auc)\n",
    "print('Test AUC: ', test_auc)"
   ]
  },
  {
   "cell_type": "code",
   "execution_count": 23,
   "id": "aa94ad91",
   "metadata": {},
   "outputs": [],
   "source": [
    "df_test_results = df_test_results.append({'Model':'XG Boost','TrainAUC':train_auc,'TestAUC':test_auc}, \n",
    "                       ignore_index=True)"
   ]
  },
  {
   "cell_type": "markdown",
   "id": "5f6e631b",
   "metadata": {},
   "source": [
    "## 4.2.7 LightGBM"
   ]
  },
  {
   "cell_type": "code",
   "execution_count": 24,
   "id": "41b4eec4",
   "metadata": {},
   "outputs": [],
   "source": [
    "lgb_model = LGBMClassifier(random_state = random_seed)\n",
    "lgb_model.fit(X_train_us,np.ravel(y_train_us))\n",
    "\n",
    "y_train_pred = lgb_model.predict(X_train)\n",
    "y_test_pred = lgb_model.predict(X_test)"
   ]
  },
  {
   "cell_type": "code",
   "execution_count": 25,
   "id": "01ca09ec",
   "metadata": {},
   "outputs": [
    {
     "name": "stdout",
     "output_type": "stream",
     "text": [
      "Training AUC:  0.8559287311945651\n",
      "Test AUC:  0.7595408385833562\n"
     ]
    }
   ],
   "source": [
    "fpr, tpr, thresholds = metrics.roc_curve(y_train, y_train_pred, pos_label = 1)\n",
    "train_auc = metrics.auc(fpr,tpr)\n",
    "\n",
    "fpr, tpr, thresholds = metrics.roc_curve(y_test, y_test_pred, pos_label = 1)\n",
    "test_auc = metrics.auc(fpr,tpr)\n",
    "\n",
    "print('Training AUC: ', train_auc)\n",
    "print('Test AUC: ', test_auc)"
   ]
  },
  {
   "cell_type": "code",
   "execution_count": 26,
   "id": "e59f625f",
   "metadata": {},
   "outputs": [],
   "source": [
    "df_test_results = df_test_results.append({'Model':'LightGBM','TrainAUC':train_auc,'TestAUC':test_auc}, \n",
    "                       ignore_index=True)"
   ]
  },
  {
   "cell_type": "markdown",
   "id": "93cb2a89",
   "metadata": {},
   "source": [
    "## 4.2.8 AdaBoost"
   ]
  },
  {
   "cell_type": "code",
   "execution_count": 27,
   "id": "61ab2b4c",
   "metadata": {},
   "outputs": [],
   "source": [
    "ada_model = AdaBoostClassifier(random_state = random_seed)\n",
    "ada_model.fit(X_train_us,np.ravel(y_train_us))\n",
    "\n",
    "y_train_pred = ada_model.predict(X_train)\n",
    "y_test_pred = ada_model.predict(X_test)"
   ]
  },
  {
   "cell_type": "code",
   "execution_count": 28,
   "id": "2f214e7e",
   "metadata": {},
   "outputs": [
    {
     "name": "stdout",
     "output_type": "stream",
     "text": [
      "Training AUC:  0.8061430343301428\n",
      "Test AUC:  0.7711598746081506\n"
     ]
    }
   ],
   "source": [
    "fpr, tpr, thresholds = metrics.roc_curve(y_train, y_train_pred, pos_label = 1)\n",
    "train_auc = metrics.auc(fpr,tpr)\n",
    "\n",
    "fpr, tpr, thresholds = metrics.roc_curve(y_test, y_test_pred, pos_label = 1)\n",
    "test_auc = metrics.auc(fpr,tpr)\n",
    "\n",
    "print('Training AUC: ', train_auc)\n",
    "print('Test AUC: ', test_auc)"
   ]
  },
  {
   "cell_type": "code",
   "execution_count": 29,
   "id": "70af9c57",
   "metadata": {},
   "outputs": [],
   "source": [
    "df_test_results = df_test_results.append({'Model':'AdaBoost','TrainAUC':train_auc,'TestAUC':test_auc}, \n",
    "                       ignore_index=True)"
   ]
  },
  {
   "cell_type": "markdown",
   "id": "ff18f5ae",
   "metadata": {},
   "source": [
    "## 4.2.9 ExtraTrees Classifier"
   ]
  },
  {
   "cell_type": "code",
   "execution_count": 30,
   "id": "081daea3",
   "metadata": {},
   "outputs": [],
   "source": [
    "et_model = ExtraTreesClassifier(random_state = random_seed)\n",
    "et_model.fit(X_train_us,np.ravel(y_train_us))\n",
    "\n",
    "y_train_pred = et_model.predict(X_train)\n",
    "y_test_pred = et_model.predict(X_test)"
   ]
  },
  {
   "cell_type": "code",
   "execution_count": 31,
   "id": "d7980b6e",
   "metadata": {},
   "outputs": [
    {
     "name": "stdout",
     "output_type": "stream",
     "text": [
      "Training AUC:  0.847922850871192\n",
      "Test AUC:  0.7319333272463504\n"
     ]
    }
   ],
   "source": [
    "fpr, tpr, thresholds = metrics.roc_curve(y_train, y_train_pred, pos_label = 1)\n",
    "train_auc = metrics.auc(fpr,tpr)\n",
    "\n",
    "fpr, tpr, thresholds = metrics.roc_curve(y_test, y_test_pred, pos_label = 1)\n",
    "test_auc = metrics.auc(fpr,tpr)\n",
    "\n",
    "print('Training AUC: ', train_auc)\n",
    "print('Test AUC: ', test_auc)"
   ]
  },
  {
   "cell_type": "code",
   "execution_count": 32,
   "id": "b78c0782",
   "metadata": {},
   "outputs": [],
   "source": [
    "df_test_results = df_test_results.append({'Model':'Extra Trees','TrainAUC':train_auc,'TestAUC':test_auc}, \n",
    "                       ignore_index=True)"
   ]
  },
  {
   "cell_type": "markdown",
   "id": "8b855c4b",
   "metadata": {},
   "source": [
    "## 4.3 Hyperparameter Tuning"
   ]
  },
  {
   "cell_type": "code",
   "execution_count": 33,
   "id": "c2e03118",
   "metadata": {},
   "outputs": [
    {
     "data": {
      "text/html": [
       "<div>\n",
       "<style scoped>\n",
       "    .dataframe tbody tr th:only-of-type {\n",
       "        vertical-align: middle;\n",
       "    }\n",
       "\n",
       "    .dataframe tbody tr th {\n",
       "        vertical-align: top;\n",
       "    }\n",
       "\n",
       "    .dataframe thead th {\n",
       "        text-align: right;\n",
       "    }\n",
       "</style>\n",
       "<table border=\"1\" class=\"dataframe\">\n",
       "  <thead>\n",
       "    <tr style=\"text-align: right;\">\n",
       "      <th></th>\n",
       "      <th>Model</th>\n",
       "      <th>TrainAUC</th>\n",
       "      <th>TestAUC</th>\n",
       "    </tr>\n",
       "  </thead>\n",
       "  <tbody>\n",
       "    <tr>\n",
       "      <th>4</th>\n",
       "      <td>Gradient Boosting</td>\n",
       "      <td>0.831684</td>\n",
       "      <td>0.776384</td>\n",
       "    </tr>\n",
       "    <tr>\n",
       "      <th>7</th>\n",
       "      <td>AdaBoost</td>\n",
       "      <td>0.806143</td>\n",
       "      <td>0.771160</td>\n",
       "    </tr>\n",
       "    <tr>\n",
       "      <th>1</th>\n",
       "      <td>Logistic Regression</td>\n",
       "      <td>0.798137</td>\n",
       "      <td>0.763743</td>\n",
       "    </tr>\n",
       "    <tr>\n",
       "      <th>5</th>\n",
       "      <td>XG Boost</td>\n",
       "      <td>0.854278</td>\n",
       "      <td>0.761584</td>\n",
       "    </tr>\n",
       "    <tr>\n",
       "      <th>6</th>\n",
       "      <td>LightGBM</td>\n",
       "      <td>0.855929</td>\n",
       "      <td>0.759541</td>\n",
       "    </tr>\n",
       "    <tr>\n",
       "      <th>2</th>\n",
       "      <td>SVM</td>\n",
       "      <td>0.789469</td>\n",
       "      <td>0.746969</td>\n",
       "    </tr>\n",
       "    <tr>\n",
       "      <th>3</th>\n",
       "      <td>Random Forest</td>\n",
       "      <td>0.868924</td>\n",
       "      <td>0.746398</td>\n",
       "    </tr>\n",
       "    <tr>\n",
       "      <th>8</th>\n",
       "      <td>Extra Trees</td>\n",
       "      <td>0.847923</td>\n",
       "      <td>0.731933</td>\n",
       "    </tr>\n",
       "    <tr>\n",
       "      <th>0</th>\n",
       "      <td>Dummy</td>\n",
       "      <td>0.505113</td>\n",
       "      <td>0.514372</td>\n",
       "    </tr>\n",
       "  </tbody>\n",
       "</table>\n",
       "</div>"
      ],
      "text/plain": [
       "                 Model  TrainAUC   TestAUC\n",
       "4    Gradient Boosting  0.831684  0.776384\n",
       "7             AdaBoost  0.806143  0.771160\n",
       "1  Logistic Regression  0.798137  0.763743\n",
       "5             XG Boost  0.854278  0.761584\n",
       "6             LightGBM  0.855929  0.759541\n",
       "2                  SVM  0.789469  0.746969\n",
       "3        Random Forest  0.868924  0.746398\n",
       "8          Extra Trees  0.847923  0.731933\n",
       "0                Dummy  0.505113  0.514372"
      ]
     },
     "execution_count": 33,
     "metadata": {},
     "output_type": "execute_result"
    }
   ],
   "source": [
    "df_test_results.sort_values(by='TestAUC', ascending=False)"
   ]
  },
  {
   "cell_type": "code",
   "execution_count": 34,
   "id": "c91b99c5",
   "metadata": {},
   "outputs": [],
   "source": [
    "grid_params = {\n",
    "    'learning_rate':[0.001,0.01,0.1, 1],\n",
    "    'max_depth':[3,6,7,8,9,10],\n",
    "    'subsample':[0.25,0.5,0.75,1],\n",
    "    'max_features':['sqrt','log2',1],\n",
    "}\n",
    "\n",
    "gb_model = GradientBoostingClassifier(random_state = random_seed)\n",
    "gs_gb_model = RandomizedSearchCV(gb_model,grid_params, scoring='roc_auc',n_jobs=-1, cv=15, random_state=random_seed,\n",
    "                                n_iter=30)\n",
    "gs_gb_model.fit(X_train_us,np.ravel(y_train_us))\n",
    "\n",
    "gb_model = gs_gb_model.best_estimator_\n",
    "\n",
    "y_train_pred = gb_model.predict(X_train)\n",
    "y_test_pred = gb_model.predict(X_test)"
   ]
  },
  {
   "cell_type": "code",
   "execution_count": 35,
   "id": "6f3532cf",
   "metadata": {},
   "outputs": [
    {
     "name": "stdout",
     "output_type": "stream",
     "text": [
      "Training AUC:  0.8181375406744674\n",
      "Test AUC:  0.7803836828276065\n"
     ]
    }
   ],
   "source": [
    "fpr, tpr, thresholds = metrics.roc_curve(y_train, y_train_pred, pos_label = 1)\n",
    "train_auc = metrics.auc(fpr,tpr)\n",
    "\n",
    "fpr, tpr, thresholds = metrics.roc_curve(y_test, y_test_pred, pos_label = 1)\n",
    "test_auc = metrics.auc(fpr,tpr)\n",
    "\n",
    "print('Training AUC: ', train_auc)\n",
    "print('Test AUC: ', test_auc)"
   ]
  },
  {
   "cell_type": "code",
   "execution_count": 36,
   "id": "2a2077ba",
   "metadata": {},
   "outputs": [
    {
     "data": {
      "text/plain": [
       "{'subsample': 0.75,\n",
       " 'max_features': 'log2',\n",
       " 'max_depth': 3,\n",
       " 'learning_rate': 0.1}"
      ]
     },
     "execution_count": 36,
     "metadata": {},
     "output_type": "execute_result"
    }
   ],
   "source": [
    "gs_gb_model.best_params_"
   ]
  },
  {
   "cell_type": "code",
   "execution_count": 37,
   "id": "6a7c05f5",
   "metadata": {},
   "outputs": [
    {
     "data": {
      "text/plain": [
       "\"grid_params = {\\n    'learning_rate':[0.001,0.01,0.1, 1],\\n    'max_depth':[3,6,8,10]\\n}\\n\\n\\ngb_model = GradientBoostingClassifier(random_state = random_seed)\\ngs_gb_model = GridSearchCV(gb_model,grid_params, scoring='roc_auc',n_jobs=-1, cv=15)\\ngs_gb_model.fit(X_train_us,np.ravel(y_train_us))\\n\\ngb_model = gs_gb_model.best_estimator_\\n\\ny_train_pred = gb_model.predict(X_train)\\ny_test_pred = gb_model.predict(X_test)\""
      ]
     },
     "execution_count": 37,
     "metadata": {},
     "output_type": "execute_result"
    }
   ],
   "source": [
    "'''grid_params = {\n",
    "    'learning_rate':[0.001,0.01,0.1, 1],\n",
    "    'max_depth':[3,6,8,10]\n",
    "}\n",
    "\n",
    "\n",
    "gb_model = GradientBoostingClassifier(random_state = random_seed)\n",
    "gs_gb_model = GridSearchCV(gb_model,grid_params, scoring='roc_auc',n_jobs=-1, cv=15)\n",
    "gs_gb_model.fit(X_train_us,np.ravel(y_train_us))\n",
    "\n",
    "gb_model = gs_gb_model.best_estimator_\n",
    "\n",
    "y_train_pred = gb_model.predict(X_train)\n",
    "y_test_pred = gb_model.predict(X_test)'''"
   ]
  },
  {
   "cell_type": "code",
   "execution_count": 38,
   "id": "93b72ba7",
   "metadata": {},
   "outputs": [
    {
     "data": {
      "text/plain": [
       "\"fpr, tpr, thresholds = metrics.roc_curve(y_train, y_train_pred, pos_label = 1)\\ntrain_auc = metrics.auc(fpr,tpr)\\n\\nfpr, tpr, thresholds = metrics.roc_curve(y_test, y_test_pred, pos_label = 1)\\ntest_auc = metrics.auc(fpr,tpr)\\n\\nprint('Training AUC: ', train_auc)\\nprint('Test AUC: ', test_auc)\""
      ]
     },
     "execution_count": 38,
     "metadata": {},
     "output_type": "execute_result"
    }
   ],
   "source": [
    "'''fpr, tpr, thresholds = metrics.roc_curve(y_train, y_train_pred, pos_label = 1)\n",
    "train_auc = metrics.auc(fpr,tpr)\n",
    "\n",
    "fpr, tpr, thresholds = metrics.roc_curve(y_test, y_test_pred, pos_label = 1)\n",
    "test_auc = metrics.auc(fpr,tpr)\n",
    "\n",
    "print('Training AUC: ', train_auc)\n",
    "print('Test AUC: ', test_auc)'''"
   ]
  },
  {
   "cell_type": "code",
   "execution_count": 39,
   "id": "bc58cc1b",
   "metadata": {},
   "outputs": [
    {
     "data": {
      "text/plain": [
       "'gs_gb_model.best_params_'"
      ]
     },
     "execution_count": 39,
     "metadata": {},
     "output_type": "execute_result"
    }
   ],
   "source": [
    "'''gs_gb_model.best_params_'''"
   ]
  },
  {
   "cell_type": "code",
   "execution_count": 40,
   "id": "9308aaad",
   "metadata": {},
   "outputs": [
    {
     "data": {
      "text/plain": [
       "\"grid_params = {\\n    'learning_rate':[0.01],\\n    'max_depth':[3],  \\n    'subsample':[0.25, 0.5, 0.75, 1],\\n    'max_features':['log2', 1]\\n}\\n\\n\\ngs_gb_model = GridSearchCV(gb_model,grid_params, scoring='roc_auc',n_jobs=-1, cv=15)\\ngs_gb_model.fit(X_train_us,np.ravel(y_train_us))\\n\\ngb_model = gs_gb_model.best_estimator_\\n\\ny_train_pred = gb_model.predict(X_train)\\ny_test_pred = gb_model.predict(X_test)\""
      ]
     },
     "execution_count": 40,
     "metadata": {},
     "output_type": "execute_result"
    }
   ],
   "source": [
    "'''grid_params = {\n",
    "    'learning_rate':[0.01],\n",
    "    'max_depth':[3],  \n",
    "    'subsample':[0.25, 0.5, 0.75, 1],\n",
    "    'max_features':['log2', 1]\n",
    "}\n",
    "\n",
    "\n",
    "gs_gb_model = GridSearchCV(gb_model,grid_params, scoring='roc_auc',n_jobs=-1, cv=15)\n",
    "gs_gb_model.fit(X_train_us,np.ravel(y_train_us))\n",
    "\n",
    "gb_model = gs_gb_model.best_estimator_\n",
    "\n",
    "y_train_pred = gb_model.predict(X_train)\n",
    "y_test_pred = gb_model.predict(X_test)'''"
   ]
  },
  {
   "cell_type": "code",
   "execution_count": 41,
   "id": "a4d4b93d",
   "metadata": {},
   "outputs": [
    {
     "data": {
      "text/plain": [
       "'gs_gb_model.best_params_'"
      ]
     },
     "execution_count": 41,
     "metadata": {},
     "output_type": "execute_result"
    }
   ],
   "source": [
    "'''gs_gb_model.best_params_'''"
   ]
  },
  {
   "cell_type": "code",
   "execution_count": 42,
   "id": "45f7e975",
   "metadata": {},
   "outputs": [
    {
     "data": {
      "text/plain": [
       "\"fpr, tpr, thresholds = metrics.roc_curve(y_train, y_train_pred, pos_label = 1)\\ntrain_auc = metrics.auc(fpr,tpr)\\n\\nfpr, tpr, thresholds = metrics.roc_curve(y_test, y_test_pred, pos_label = 1)\\ntest_auc = metrics.auc(fpr,tpr)\\n\\nprint('Training AUC: ', train_auc)\\nprint('Test AUC: ', test_auc)\""
      ]
     },
     "execution_count": 42,
     "metadata": {},
     "output_type": "execute_result"
    }
   ],
   "source": [
    "'''fpr, tpr, thresholds = metrics.roc_curve(y_train, y_train_pred, pos_label = 1)\n",
    "train_auc = metrics.auc(fpr,tpr)\n",
    "\n",
    "fpr, tpr, thresholds = metrics.roc_curve(y_test, y_test_pred, pos_label = 1)\n",
    "test_auc = metrics.auc(fpr,tpr)\n",
    "\n",
    "print('Training AUC: ', train_auc)\n",
    "print('Test AUC: ', test_auc)'''"
   ]
  },
  {
   "cell_type": "markdown",
   "id": "cc73708b",
   "metadata": {},
   "source": [
    "## 4.4 SHAP Analysis"
   ]
  },
  {
   "cell_type": "markdown",
   "id": "29e2bf46",
   "metadata": {},
   "source": [
    "**SHAP Summary Plot:**"
   ]
  },
  {
   "cell_type": "code",
   "execution_count": 43,
   "id": "9ca8cc4c",
   "metadata": {},
   "outputs": [
    {
     "name": "stderr",
     "output_type": "stream",
     "text": [
      "Using 300 background data samples could cause slower run times. Consider using shap.sample(data, K) or shap.kmeans(data, K) to summarize the background as K samples.\n"
     ]
    },
    {
     "data": {
      "application/vnd.jupyter.widget-view+json": {
       "model_id": "7aff8bc715b34423a6290302fdbd1e11",
       "version_major": 2,
       "version_minor": 0
      },
      "text/plain": [
       "  0%|          | 0/300 [00:00<?, ?it/s]"
      ]
     },
     "metadata": {},
     "output_type": "display_data"
    }
   ],
   "source": [
    "#get SHAP values\n",
    "X_test_sample = shap.sample(X_test,300)\n",
    "explainer = shap.KernelExplainer(gb_model.predict, X_test_sample)\n",
    "shap_values = explainer.shap_values(X_test_sample)"
   ]
  },
  {
   "cell_type": "code",
   "execution_count": 44,
   "id": "26eafebe",
   "metadata": {},
   "outputs": [
    {
     "data": {
      "image/png": "[encoded data removed]",
      "text/plain": [
       "<Figure size 576x684 with 2 Axes>"
      ]
     },
     "metadata": {
      "needs_background": "light"
     },
     "output_type": "display_data"
    }
   ],
   "source": [
    "#create SHAP summary plot\n",
    "shap.summary_plot(shap_values, X_test_sample)"
   ]
  },
  {
   "cell_type": "markdown",
   "id": "07f90e26",
   "metadata": {},
   "source": [
    "**Feature Importance Conclusions:**"
   ]
  },
  {
   "cell_type": "markdown",
   "id": "716a3dfa",
   "metadata": {},
   "source": [
    "**Top 5 Features:**\n",
    "* The **number of mosquitos** caught in a trap was the most important predictor of whether West Nile would be present. This makes sense because as the number of trapped mosquitos increases, there is a greater likelihood that at least one of the mosquitos will be West Nile positive.\n",
    "* As the **average temperature lagged by 23 days** increased, it was more likely that West Nile would be present. Mosquitos tend to thrive in warmer environments so this was not surprising. The warmer temperatures likely led to improved breeding conditions. The length of the mosquito lifecycle tends to be 2-4 weeks (although it can be shorter depending on weather conditions). This explains why the 23-day lag is important.\n",
    "* As the **mean wind speed 7-14 days prior** increased, the presence of West Nile decreased. Higher wind speeds likely make it more difficult for mosquitos to fly, reducing both their ability to fly greater distances and to accurately fly to a target destination. Again, 7-14 day lag it likely due to the length of the mosquito lifecycle which tends to be 2-4 weeks, but can be as short as one week in peak summer conditions. \n",
    "* Trap locations **within the spray boundaries** (the area bounded by all spray zones up to that date) also tended to have a much higher West Nile presence. This is likely due to correlation rather than causation. Spraying may have been a reactive response to areas that were already known to have high levels of West Nile (or high mosquito counts). The bounds created by all the spray zones, rather than only the spray zones themselves, were likely important because there is no reason to assume that mosquitos remain within a single trap zone. Mosquitos have a maximum flight distance of 50m to 50km, depending on the species. If there is a high number of mosquitos in one area, then it is likely that a high number will also be found in neighbouring areas. This should hold true for West Nile presence as well.\n",
    "* As **average wind speed lagged by 23 days** increased, the presence of West Nile decreased. As mentioned above, higher wind speeds likely reduce both the distance mosquitos can fly and the ability of a mosquito to accurately fly to a target destination. This likely results in reduced breeding among mosquitos. Also mentioned above, the 23 day lag falls within the mosquito lifecycle.\n",
    "\n",
    "References:\n",
    "https://www.in.gov/health/erc/zoonotic-and-vectorborne-epidemiology-entomology/pests/culex-species-mosquitoes/\n",
    "https://www.sciencedirect.com/science/article/pii/S0075951113001011"
   ]
  }
 ],
 "metadata": {
  "kernelspec": {
   "display_name": "Python 3",
   "language": "python",
   "name": "python3"
  },
  "language_info": {
   "codemirror_mode": {
    "name": "ipython",
    "version": 3
   },
   "file_extension": ".py",
   "mimetype": "text/x-python",
   "name": "python",
   "nbconvert_exporter": "python",
   "pygments_lexer": "ipython3",
   "version": "3.8.8"
  }
 },
 "nbformat": 4,
 "nbformat_minor": 5
}

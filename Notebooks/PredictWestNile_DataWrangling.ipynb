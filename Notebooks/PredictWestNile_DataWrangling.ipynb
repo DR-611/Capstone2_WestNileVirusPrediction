{
 "cells": [
  {
   "cell_type": "code",
   "execution_count": 1,
   "id": "caeea412",
   "metadata": {},
   "outputs": [],
   "source": [
    "#import packages\n",
    "import numpy as np\n",
    "import pandas as pd\n",
    "import matplotlib.pyplot as plt\n",
    "import seaborn as sns\n",
    "from library.sb_utils import save_file"
   ]
  },
  {
   "cell_type": "markdown",
   "id": "0c73cf1c",
   "metadata": {},
   "source": [
    "## 1. Data Wrangling"
   ]
  },
  {
   "cell_type": "markdown",
   "id": "35f2af29",
   "metadata": {},
   "source": [
    "## 1.1 Trap Data"
   ]
  },
  {
   "cell_type": "code",
   "execution_count": 2,
   "id": "c17fed71",
   "metadata": {},
   "outputs": [
    {
     "data": {
      "text/html": [
       "<div>\n",
       "<style scoped>\n",
       "    .dataframe tbody tr th:only-of-type {\n",
       "        vertical-align: middle;\n",
       "    }\n",
       "\n",
       "    .dataframe tbody tr th {\n",
       "        vertical-align: top;\n",
       "    }\n",
       "\n",
       "    .dataframe thead th {\n",
       "        text-align: right;\n",
       "    }\n",
       "</style>\n",
       "<table border=\"1\" class=\"dataframe\">\n",
       "  <thead>\n",
       "    <tr style=\"text-align: right;\">\n",
       "      <th></th>\n",
       "      <th>0</th>\n",
       "      <th>1</th>\n",
       "      <th>2</th>\n",
       "      <th>3</th>\n",
       "      <th>4</th>\n",
       "    </tr>\n",
       "  </thead>\n",
       "  <tbody>\n",
       "    <tr>\n",
       "      <th>Date</th>\n",
       "      <td>2007-05-29</td>\n",
       "      <td>2007-05-29</td>\n",
       "      <td>2007-05-29</td>\n",
       "      <td>2007-05-29</td>\n",
       "      <td>2007-05-29</td>\n",
       "    </tr>\n",
       "    <tr>\n",
       "      <th>Address</th>\n",
       "      <td>4100 North Oak Park Avenue, Chicago, IL 60634,...</td>\n",
       "      <td>4100 North Oak Park Avenue, Chicago, IL 60634,...</td>\n",
       "      <td>6200 North Mandell Avenue, Chicago, IL 60646, USA</td>\n",
       "      <td>7900 West Foster Avenue, Chicago, IL 60656, USA</td>\n",
       "      <td>7900 West Foster Avenue, Chicago, IL 60656, USA</td>\n",
       "    </tr>\n",
       "    <tr>\n",
       "      <th>Species</th>\n",
       "      <td>CULEX PIPIENS/RESTUANS</td>\n",
       "      <td>CULEX RESTUANS</td>\n",
       "      <td>CULEX RESTUANS</td>\n",
       "      <td>CULEX PIPIENS/RESTUANS</td>\n",
       "      <td>CULEX RESTUANS</td>\n",
       "    </tr>\n",
       "    <tr>\n",
       "      <th>Block</th>\n",
       "      <td>41</td>\n",
       "      <td>41</td>\n",
       "      <td>62</td>\n",
       "      <td>79</td>\n",
       "      <td>79</td>\n",
       "    </tr>\n",
       "    <tr>\n",
       "      <th>Street</th>\n",
       "      <td>N OAK PARK AVE</td>\n",
       "      <td>N OAK PARK AVE</td>\n",
       "      <td>N MANDELL AVE</td>\n",
       "      <td>W FOSTER AVE</td>\n",
       "      <td>W FOSTER AVE</td>\n",
       "    </tr>\n",
       "    <tr>\n",
       "      <th>Trap</th>\n",
       "      <td>T002</td>\n",
       "      <td>T002</td>\n",
       "      <td>T007</td>\n",
       "      <td>T015</td>\n",
       "      <td>T015</td>\n",
       "    </tr>\n",
       "    <tr>\n",
       "      <th>AddressNumberAndStreet</th>\n",
       "      <td>4100  N OAK PARK AVE, Chicago, IL</td>\n",
       "      <td>4100  N OAK PARK AVE, Chicago, IL</td>\n",
       "      <td>6200  N MANDELL AVE, Chicago, IL</td>\n",
       "      <td>7900  W FOSTER AVE, Chicago, IL</td>\n",
       "      <td>7900  W FOSTER AVE, Chicago, IL</td>\n",
       "    </tr>\n",
       "    <tr>\n",
       "      <th>Latitude</th>\n",
       "      <td>41.95469</td>\n",
       "      <td>41.95469</td>\n",
       "      <td>41.994991</td>\n",
       "      <td>41.974089</td>\n",
       "      <td>41.974089</td>\n",
       "    </tr>\n",
       "    <tr>\n",
       "      <th>Longitude</th>\n",
       "      <td>-87.800991</td>\n",
       "      <td>-87.800991</td>\n",
       "      <td>-87.769279</td>\n",
       "      <td>-87.824812</td>\n",
       "      <td>-87.824812</td>\n",
       "    </tr>\n",
       "    <tr>\n",
       "      <th>AddressAccuracy</th>\n",
       "      <td>9</td>\n",
       "      <td>9</td>\n",
       "      <td>9</td>\n",
       "      <td>8</td>\n",
       "      <td>8</td>\n",
       "    </tr>\n",
       "    <tr>\n",
       "      <th>NumMosquitos</th>\n",
       "      <td>1</td>\n",
       "      <td>1</td>\n",
       "      <td>1</td>\n",
       "      <td>1</td>\n",
       "      <td>4</td>\n",
       "    </tr>\n",
       "    <tr>\n",
       "      <th>WnvPresent</th>\n",
       "      <td>0</td>\n",
       "      <td>0</td>\n",
       "      <td>0</td>\n",
       "      <td>0</td>\n",
       "      <td>0</td>\n",
       "    </tr>\n",
       "  </tbody>\n",
       "</table>\n",
       "</div>"
      ],
      "text/plain": [
       "                                                                        0  \\\n",
       "Date                                                           2007-05-29   \n",
       "Address                 4100 North Oak Park Avenue, Chicago, IL 60634,...   \n",
       "Species                                            CULEX PIPIENS/RESTUANS   \n",
       "Block                                                                  41   \n",
       "Street                                                     N OAK PARK AVE   \n",
       "Trap                                                                 T002   \n",
       "AddressNumberAndStreet                  4100  N OAK PARK AVE, Chicago, IL   \n",
       "Latitude                                                         41.95469   \n",
       "Longitude                                                      -87.800991   \n",
       "AddressAccuracy                                                         9   \n",
       "NumMosquitos                                                            1   \n",
       "WnvPresent                                                              0   \n",
       "\n",
       "                                                                        1  \\\n",
       "Date                                                           2007-05-29   \n",
       "Address                 4100 North Oak Park Avenue, Chicago, IL 60634,...   \n",
       "Species                                                    CULEX RESTUANS   \n",
       "Block                                                                  41   \n",
       "Street                                                     N OAK PARK AVE   \n",
       "Trap                                                                 T002   \n",
       "AddressNumberAndStreet                  4100  N OAK PARK AVE, Chicago, IL   \n",
       "Latitude                                                         41.95469   \n",
       "Longitude                                                      -87.800991   \n",
       "AddressAccuracy                                                         9   \n",
       "NumMosquitos                                                            1   \n",
       "WnvPresent                                                              0   \n",
       "\n",
       "                                                                        2  \\\n",
       "Date                                                           2007-05-29   \n",
       "Address                 6200 North Mandell Avenue, Chicago, IL 60646, USA   \n",
       "Species                                                    CULEX RESTUANS   \n",
       "Block                                                                  62   \n",
       "Street                                                      N MANDELL AVE   \n",
       "Trap                                                                 T007   \n",
       "AddressNumberAndStreet                   6200  N MANDELL AVE, Chicago, IL   \n",
       "Latitude                                                        41.994991   \n",
       "Longitude                                                      -87.769279   \n",
       "AddressAccuracy                                                         9   \n",
       "NumMosquitos                                                            1   \n",
       "WnvPresent                                                              0   \n",
       "\n",
       "                                                                      3  \\\n",
       "Date                                                         2007-05-29   \n",
       "Address                 7900 West Foster Avenue, Chicago, IL 60656, USA   \n",
       "Species                                          CULEX PIPIENS/RESTUANS   \n",
       "Block                                                                79   \n",
       "Street                                                     W FOSTER AVE   \n",
       "Trap                                                               T015   \n",
       "AddressNumberAndStreet                  7900  W FOSTER AVE, Chicago, IL   \n",
       "Latitude                                                      41.974089   \n",
       "Longitude                                                    -87.824812   \n",
       "AddressAccuracy                                                       8   \n",
       "NumMosquitos                                                          1   \n",
       "WnvPresent                                                            0   \n",
       "\n",
       "                                                                      4  \n",
       "Date                                                         2007-05-29  \n",
       "Address                 7900 West Foster Avenue, Chicago, IL 60656, USA  \n",
       "Species                                                  CULEX RESTUANS  \n",
       "Block                                                                79  \n",
       "Street                                                     W FOSTER AVE  \n",
       "Trap                                                               T015  \n",
       "AddressNumberAndStreet                  7900  W FOSTER AVE, Chicago, IL  \n",
       "Latitude                                                      41.974089  \n",
       "Longitude                                                    -87.824812  \n",
       "AddressAccuracy                                                       8  \n",
       "NumMosquitos                                                          4  \n",
       "WnvPresent                                                            0  "
      ]
     },
     "execution_count": 2,
     "metadata": {},
     "output_type": "execute_result"
    }
   ],
   "source": [
    "#read trap data into pandas\n",
    "filepath = '../raw_data/train.csv'\n",
    "df_trap_data = pd.read_csv(filepath)\n",
    "df_trap_data.head().T"
   ]
  },
  {
   "cell_type": "code",
   "execution_count": 3,
   "id": "1f12081a",
   "metadata": {
    "scrolled": false
   },
   "outputs": [
    {
     "name": "stdout",
     "output_type": "stream",
     "text": [
      "<class 'pandas.core.frame.DataFrame'>\n",
      "RangeIndex: 10506 entries, 0 to 10505\n",
      "Data columns (total 12 columns):\n",
      " #   Column                  Non-Null Count  Dtype  \n",
      "---  ------                  --------------  -----  \n",
      " 0   Date                    10506 non-null  object \n",
      " 1   Address                 10506 non-null  object \n",
      " 2   Species                 10506 non-null  object \n",
      " 3   Block                   10506 non-null  int64  \n",
      " 4   Street                  10506 non-null  object \n",
      " 5   Trap                    10506 non-null  object \n",
      " 6   AddressNumberAndStreet  10506 non-null  object \n",
      " 7   Latitude                10506 non-null  float64\n",
      " 8   Longitude               10506 non-null  float64\n",
      " 9   AddressAccuracy         10506 non-null  int64  \n",
      " 10  NumMosquitos            10506 non-null  int64  \n",
      " 11  WnvPresent              10506 non-null  int64  \n",
      "dtypes: float64(2), int64(4), object(6)\n",
      "memory usage: 985.1+ KB\n"
     ]
    }
   ],
   "source": [
    "#inspect trap data\n",
    "df_trap_data.info()"
   ]
  },
  {
   "cell_type": "markdown",
   "id": "672834b6",
   "metadata": {},
   "source": [
    "**Date Column:**"
   ]
  },
  {
   "cell_type": "code",
   "execution_count": 4,
   "id": "27bcf82b",
   "metadata": {
    "scrolled": true
   },
   "outputs": [],
   "source": [
    "#convert the Date column to datetime\n",
    "df_trap_data['Date'] = pd.to_datetime(df_trap_data['Date'])"
   ]
  },
  {
   "cell_type": "code",
   "execution_count": 5,
   "id": "04aec000",
   "metadata": {},
   "outputs": [
    {
     "data": {
      "text/html": [
       "<div>\n",
       "<style scoped>\n",
       "    .dataframe tbody tr th:only-of-type {\n",
       "        vertical-align: middle;\n",
       "    }\n",
       "\n",
       "    .dataframe tbody tr th {\n",
       "        vertical-align: top;\n",
       "    }\n",
       "\n",
       "    .dataframe thead th {\n",
       "        text-align: right;\n",
       "    }\n",
       "</style>\n",
       "<table border=\"1\" class=\"dataframe\">\n",
       "  <thead>\n",
       "    <tr style=\"text-align: right;\">\n",
       "      <th></th>\n",
       "      <th>Date</th>\n",
       "    </tr>\n",
       "  </thead>\n",
       "  <tbody>\n",
       "    <tr>\n",
       "      <th>min</th>\n",
       "      <td>2007-05-29 00:00:00</td>\n",
       "    </tr>\n",
       "    <tr>\n",
       "      <th>max</th>\n",
       "      <td>2013-09-26 00:00:00</td>\n",
       "    </tr>\n",
       "  </tbody>\n",
       "</table>\n",
       "</div>"
      ],
      "text/plain": [
       "                    Date\n",
       "min  2007-05-29 00:00:00\n",
       "max  2013-09-26 00:00:00"
      ]
     },
     "execution_count": 5,
     "metadata": {},
     "output_type": "execute_result"
    }
   ],
   "source": [
    "#check date range\n",
    "pd.DataFrame(df_trap_data['Date'].describe(datetime_is_numeric=True)).loc[['min','max']]"
   ]
  },
  {
   "cell_type": "code",
   "execution_count": 6,
   "id": "405e19ae",
   "metadata": {},
   "outputs": [
    {
     "data": {
      "text/html": [
       "<div>\n",
       "<style scoped>\n",
       "    .dataframe tbody tr th:only-of-type {\n",
       "        vertical-align: middle;\n",
       "    }\n",
       "\n",
       "    .dataframe tbody tr th {\n",
       "        vertical-align: top;\n",
       "    }\n",
       "\n",
       "    .dataframe thead th {\n",
       "        text-align: right;\n",
       "    }\n",
       "</style>\n",
       "<table border=\"1\" class=\"dataframe\">\n",
       "  <thead>\n",
       "    <tr style=\"text-align: right;\">\n",
       "      <th></th>\n",
       "      <th>Date</th>\n",
       "      <th>Count</th>\n",
       "    </tr>\n",
       "  </thead>\n",
       "  <tbody>\n",
       "    <tr>\n",
       "      <th>0</th>\n",
       "      <td>2007-08-01</td>\n",
       "      <td>551</td>\n",
       "    </tr>\n",
       "  </tbody>\n",
       "</table>\n",
       "</div>"
      ],
      "text/plain": [
       "        Date  Count\n",
       "0 2007-08-01    551"
      ]
     },
     "execution_count": 6,
     "metadata": {},
     "output_type": "execute_result"
    }
   ],
   "source": [
    "#check most frequent date\n",
    "pd.DataFrame(df_trap_data['Date'].value_counts()).head(1).reset_index().rename(columns={'index':'Date','Date':'Count'})"
   ]
  },
  {
   "cell_type": "code",
   "execution_count": 7,
   "id": "2ec560c4",
   "metadata": {},
   "outputs": [
    {
     "name": "stdout",
     "output_type": "stream",
     "text": [
      "Number of unique dates: 95\n"
     ]
    }
   ],
   "source": [
    "#check number of unique dates\n",
    "print('Number of unique dates:', len(df_trap_data['Date'].unique()))"
   ]
  },
  {
   "cell_type": "markdown",
   "id": "13f2d634",
   "metadata": {},
   "source": [
    "**Address Column:**"
   ]
  },
  {
   "cell_type": "code",
   "execution_count": 8,
   "id": "6eee8882",
   "metadata": {},
   "outputs": [
    {
     "name": "stdout",
     "output_type": "stream",
     "text": [
      "Number of unique addresses: 138\n"
     ]
    }
   ],
   "source": [
    "#check number of unique addresses\n",
    "print('Number of unique addresses:', len(df_trap_data['Address'].unique()))"
   ]
  },
  {
   "cell_type": "code",
   "execution_count": 9,
   "id": "1679a10e",
   "metadata": {},
   "outputs": [
    {
     "data": {
      "text/plain": [
       "False"
      ]
     },
     "execution_count": 9,
     "metadata": {},
     "output_type": "execute_result"
    }
   ],
   "source": [
    "#check for any missing addresses labeled 'M'\n",
    "(df_trap_data['Address'] == 'M').any()"
   ]
  },
  {
   "cell_type": "markdown",
   "id": "3e914733",
   "metadata": {},
   "source": [
    "The Address column does not provide any unique information. Latitude and Longitude data can be used for location. Unique addresses will be compared to unique traps below. Address will then be dropped."
   ]
  },
  {
   "cell_type": "markdown",
   "id": "3c5b8ba9",
   "metadata": {},
   "source": [
    "**Species Column:** "
   ]
  },
  {
   "cell_type": "code",
   "execution_count": 10,
   "id": "f0ec382f",
   "metadata": {},
   "outputs": [
    {
     "data": {
      "text/html": [
       "<div>\n",
       "<style scoped>\n",
       "    .dataframe tbody tr th:only-of-type {\n",
       "        vertical-align: middle;\n",
       "    }\n",
       "\n",
       "    .dataframe tbody tr th {\n",
       "        vertical-align: top;\n",
       "    }\n",
       "\n",
       "    .dataframe thead th {\n",
       "        text-align: right;\n",
       "    }\n",
       "</style>\n",
       "<table border=\"1\" class=\"dataframe\">\n",
       "  <thead>\n",
       "    <tr style=\"text-align: right;\">\n",
       "      <th></th>\n",
       "      <th>Species</th>\n",
       "      <th>Count</th>\n",
       "    </tr>\n",
       "  </thead>\n",
       "  <tbody>\n",
       "    <tr>\n",
       "      <th>0</th>\n",
       "      <td>CULEX PIPIENS/RESTUANS</td>\n",
       "      <td>4752</td>\n",
       "    </tr>\n",
       "    <tr>\n",
       "      <th>1</th>\n",
       "      <td>CULEX RESTUANS</td>\n",
       "      <td>2740</td>\n",
       "    </tr>\n",
       "    <tr>\n",
       "      <th>2</th>\n",
       "      <td>CULEX PIPIENS</td>\n",
       "      <td>2699</td>\n",
       "    </tr>\n",
       "    <tr>\n",
       "      <th>3</th>\n",
       "      <td>CULEX TERRITANS</td>\n",
       "      <td>222</td>\n",
       "    </tr>\n",
       "    <tr>\n",
       "      <th>4</th>\n",
       "      <td>CULEX SALINARIUS</td>\n",
       "      <td>86</td>\n",
       "    </tr>\n",
       "    <tr>\n",
       "      <th>5</th>\n",
       "      <td>CULEX TARSALIS</td>\n",
       "      <td>6</td>\n",
       "    </tr>\n",
       "    <tr>\n",
       "      <th>6</th>\n",
       "      <td>CULEX ERRATICUS</td>\n",
       "      <td>1</td>\n",
       "    </tr>\n",
       "  </tbody>\n",
       "</table>\n",
       "</div>"
      ],
      "text/plain": [
       "                  Species  Count\n",
       "0  CULEX PIPIENS/RESTUANS   4752\n",
       "1          CULEX RESTUANS   2740\n",
       "2           CULEX PIPIENS   2699\n",
       "3         CULEX TERRITANS    222\n",
       "4        CULEX SALINARIUS     86\n",
       "5          CULEX TARSALIS      6\n",
       "6         CULEX ERRATICUS      1"
      ]
     },
     "execution_count": 10,
     "metadata": {},
     "output_type": "execute_result"
    }
   ],
   "source": [
    "#check the Species categories and counts\n",
    "pd.DataFrame(df_trap_data['Species'].value_counts())\\\n",
    "    .reset_index()\\\n",
    "    .rename(columns={'index':'Species','Species':'Count'})"
   ]
  },
  {
   "cell_type": "markdown",
   "id": "90f4569b",
   "metadata": {},
   "source": [
    "**Note** There are separate categories for the CULEX RESTUANS and CULEX PIPIENS species but there is also a CULEX PIPIENS/RESTUANS category."
   ]
  },
  {
   "cell_type": "code",
   "execution_count": 11,
   "id": "54d86c7e",
   "metadata": {},
   "outputs": [],
   "source": [
    "#convert Species to a categorical column\n",
    "df_trap_data['Species'] = df_trap_data['Species'].astype('category')"
   ]
  },
  {
   "cell_type": "markdown",
   "id": "8fb6afc5",
   "metadata": {},
   "source": [
    "**Block Column:**"
   ]
  },
  {
   "cell_type": "code",
   "execution_count": 12,
   "id": "706c9d49",
   "metadata": {},
   "outputs": [
    {
     "name": "stdout",
     "output_type": "stream",
     "text": [
      "Unique Blocks: 64\n"
     ]
    }
   ],
   "source": [
    "#check number of unique values\n",
    "print('Unique Blocks:',len(df_trap_data['Block'].unique()))"
   ]
  },
  {
   "cell_type": "markdown",
   "id": "c5354f66",
   "metadata": {},
   "source": [
    "The Block column does not provide any unique information. Latitude and Longitude data can be used for location. Therefore, Block can be dropped."
   ]
  },
  {
   "cell_type": "code",
   "execution_count": 13,
   "id": "56f152b9",
   "metadata": {},
   "outputs": [],
   "source": [
    "df_trap_data.drop(columns='Block',inplace=True)"
   ]
  },
  {
   "cell_type": "markdown",
   "id": "13640160",
   "metadata": {},
   "source": [
    "**Street Column:**"
   ]
  },
  {
   "cell_type": "code",
   "execution_count": 14,
   "id": "b10f2cb0",
   "metadata": {},
   "outputs": [
    {
     "data": {
      "text/html": [
       "<div>\n",
       "<style scoped>\n",
       "    .dataframe tbody tr th:only-of-type {\n",
       "        vertical-align: middle;\n",
       "    }\n",
       "\n",
       "    .dataframe tbody tr th {\n",
       "        vertical-align: top;\n",
       "    }\n",
       "\n",
       "    .dataframe thead th {\n",
       "        text-align: right;\n",
       "    }\n",
       "</style>\n",
       "<table border=\"1\" class=\"dataframe\">\n",
       "  <thead>\n",
       "    <tr style=\"text-align: right;\">\n",
       "      <th></th>\n",
       "      <th>Date</th>\n",
       "      <th>Address</th>\n",
       "      <th>Species</th>\n",
       "      <th>Street</th>\n",
       "      <th>Trap</th>\n",
       "      <th>AddressNumberAndStreet</th>\n",
       "      <th>Latitude</th>\n",
       "      <th>Longitude</th>\n",
       "      <th>AddressAccuracy</th>\n",
       "      <th>NumMosquitos</th>\n",
       "      <th>WnvPresent</th>\n",
       "    </tr>\n",
       "  </thead>\n",
       "  <tbody>\n",
       "  </tbody>\n",
       "</table>\n",
       "</div>"
      ],
      "text/plain": [
       "Empty DataFrame\n",
       "Columns: [Date, Address, Species, Street, Trap, AddressNumberAndStreet, Latitude, Longitude, AddressAccuracy, NumMosquitos, WnvPresent]\n",
       "Index: []"
      ]
     },
     "execution_count": 14,
     "metadata": {},
     "output_type": "execute_result"
    }
   ],
   "source": [
    "#check for missing values\n",
    "df_trap_data[df_trap_data['Street'] == 'M']"
   ]
  },
  {
   "cell_type": "code",
   "execution_count": 15,
   "id": "35b0a2c6",
   "metadata": {},
   "outputs": [
    {
     "name": "stdout",
     "output_type": "stream",
     "text": [
      "Unique Streets: 128\n"
     ]
    }
   ],
   "source": [
    "#check number of unique streets\n",
    "print ('Unique Streets:',len(df_trap_data['Street'].unique()))"
   ]
  },
  {
   "cell_type": "markdown",
   "id": "005d5bd8",
   "metadata": {},
   "source": [
    "The Street column does not provide any unique information. Latitude and Longitude data can be for location. Therefore, Street can be dropped."
   ]
  },
  {
   "cell_type": "code",
   "execution_count": 16,
   "id": "3903d470",
   "metadata": {},
   "outputs": [],
   "source": [
    "df_trap_data.drop(columns='Street',inplace=True)"
   ]
  },
  {
   "cell_type": "markdown",
   "id": "e6c9e27b",
   "metadata": {},
   "source": [
    "**Trap Column:**"
   ]
  },
  {
   "cell_type": "code",
   "execution_count": 17,
   "id": "830ce7b8",
   "metadata": {},
   "outputs": [
    {
     "name": "stdout",
     "output_type": "stream",
     "text": [
      "Unique Traps: 136\n"
     ]
    }
   ],
   "source": [
    "#check number of unique traps\n",
    "print('Unique Traps:',len(df_trap_data['Trap'].unique()))"
   ]
  },
  {
   "cell_type": "code",
   "execution_count": 18,
   "id": "4d62cced",
   "metadata": {},
   "outputs": [
    {
     "data": {
      "text/plain": [
       "Trap\n",
       "T035    2\n",
       "T009    2\n",
       "T001    1\n",
       "Name: Address, dtype: int64"
      ]
     },
     "execution_count": 18,
     "metadata": {},
     "output_type": "execute_result"
    }
   ],
   "source": [
    "#why are there 136 unique traps but 138 unique addresses?\n",
    "df_trap_data.groupby('Trap')['Address'].unique().apply(len).sort_values(ascending=False).head(3)"
   ]
  },
  {
   "cell_type": "code",
   "execution_count": 19,
   "id": "28237e93",
   "metadata": {},
   "outputs": [
    {
     "data": {
      "text/plain": [
       "Address\n",
       "3000 South Hoyne Avenue, Chicago, IL 60608, USA     [T035]\n",
       "5100 West 72nd Street, Chicago, IL 60638, USA       [T035]\n",
       "9100 West Higgins Avenue, Chicago, IL 60656, USA    [T009]\n",
       "9100 West Higgins Road, Rosemont, IL 60018, USA     [T009]\n",
       "Name: Trap, dtype: object"
      ]
     },
     "execution_count": 19,
     "metadata": {},
     "output_type": "execute_result"
    }
   ],
   "source": [
    "#check the addresses for Traps T035, T009 - they each have two addresses\n",
    "df_trap_data[df_trap_data['Trap'].isin(['T035','T009'])].groupby('Address')['Trap'].unique()"
   ]
  },
  {
   "cell_type": "code",
   "execution_count": 20,
   "id": "432cfc82",
   "metadata": {},
   "outputs": [
    {
     "data": {
      "text/plain": [
       "Address\n",
       "3000 South Hoyne Avenue, Chicago, IL 60608, USA     27\n",
       "5100 West 72nd Street, Chicago, IL 60638, USA       45\n",
       "9100 West Higgins Avenue, Chicago, IL 60656, USA    31\n",
       "9100 West Higgins Road, Rosemont, IL 60018, USA     80\n",
       "Name: Trap, dtype: int64"
      ]
     },
     "execution_count": 20,
     "metadata": {},
     "output_type": "execute_result"
    }
   ],
   "source": [
    "#how many times do each of the addresses appear?\n",
    "df_trap_data[df_trap_data['Trap'].isin(['T035','T009'])].groupby('Address')['Trap'].count()"
   ]
  },
  {
   "cell_type": "markdown",
   "id": "2d43ba4f",
   "metadata": {},
   "source": [
    "Each address appears many times. Without being able to verify, it cannot be assumed that this was due to a data entry error. It is possible that the traps were moved. If this is the case, then there should be no overlapping dates between the two addresses for each of the traps with multiple addresses."
   ]
  },
  {
   "cell_type": "code",
   "execution_count": 21,
   "id": "a44da733",
   "metadata": {},
   "outputs": [
    {
     "data": {
      "text/html": [
       "<div>\n",
       "<style scoped>\n",
       "    .dataframe tbody tr th:only-of-type {\n",
       "        vertical-align: middle;\n",
       "    }\n",
       "\n",
       "    .dataframe tbody tr th {\n",
       "        vertical-align: top;\n",
       "    }\n",
       "\n",
       "    .dataframe thead th {\n",
       "        text-align: right;\n",
       "    }\n",
       "</style>\n",
       "<table border=\"1\" class=\"dataframe\">\n",
       "  <thead>\n",
       "    <tr style=\"text-align: right;\">\n",
       "      <th></th>\n",
       "      <th>Date</th>\n",
       "      <th>Date</th>\n",
       "    </tr>\n",
       "    <tr>\n",
       "      <th>Address</th>\n",
       "      <th></th>\n",
       "      <th></th>\n",
       "    </tr>\n",
       "  </thead>\n",
       "  <tbody>\n",
       "    <tr>\n",
       "      <th>3000 South Hoyne Avenue, Chicago, IL 60608, USA</th>\n",
       "      <td>2007-07-11</td>\n",
       "      <td>2007-10-04</td>\n",
       "    </tr>\n",
       "    <tr>\n",
       "      <th>5100 West 72nd Street, Chicago, IL 60638, USA</th>\n",
       "      <td>2011-06-17</td>\n",
       "      <td>2013-09-26</td>\n",
       "    </tr>\n",
       "    <tr>\n",
       "      <th>9100 West Higgins Avenue, Chicago, IL 60656, USA</th>\n",
       "      <td>2007-06-05</td>\n",
       "      <td>2007-09-24</td>\n",
       "    </tr>\n",
       "    <tr>\n",
       "      <th>9100 West Higgins Road, Rosemont, IL 60018, USA</th>\n",
       "      <td>2009-05-28</td>\n",
       "      <td>2013-09-26</td>\n",
       "    </tr>\n",
       "  </tbody>\n",
       "</table>\n",
       "</div>"
      ],
      "text/plain": [
       "                                                       Date       Date\n",
       "Address                                                               \n",
       "3000 South Hoyne Avenue, Chicago, IL 60608, USA  2007-07-11 2007-10-04\n",
       "5100 West 72nd Street, Chicago, IL 60638, USA    2011-06-17 2013-09-26\n",
       "9100 West Higgins Avenue, Chicago, IL 60656, USA 2007-06-05 2007-09-24\n",
       "9100 West Higgins Road, Rosemont, IL 60018, USA  2009-05-28 2013-09-26"
      ]
     },
     "execution_count": 21,
     "metadata": {},
     "output_type": "execute_result"
    }
   ],
   "source": [
    "#check for overlapping dates between the two addresses for each of traps T035 and T009\n",
    "pd.concat(\n",
    "    [df_trap_data[df_trap_data['Trap'].isin(['T035','T009'])].groupby('Address')[['Date']].min(),\n",
    "     df_trap_data[df_trap_data['Trap'].isin(['T035','T009'])].groupby('Address')[['Date']].max()],\n",
    "    axis=1\n",
    ")"
   ]
  },
  {
   "cell_type": "markdown",
   "id": "2196eb10",
   "metadata": {},
   "source": [
    "It appears that the traps may have been moved because there are no overlapping dates. Since different locations may have a differing West Nile prevalence, the traps should have a unique ID for each address."
   ]
  },
  {
   "cell_type": "code",
   "execution_count": 22,
   "id": "4933b78b",
   "metadata": {},
   "outputs": [],
   "source": [
    "#update the trap IDs so they are unique for each location\n",
    "for trap_id in ['T035','T009']:\n",
    "    append_val = 1\n",
    "    for unq_address in df_trap_data[df_trap_data['Trap'] == trap_id]['Address'].unique():\n",
    "        df_trap_data.loc[df_trap_data['Address'] == unq_address, ['Trap']] += str(append_val)\n",
    "        append_val += 1"
   ]
  },
  {
   "cell_type": "code",
   "execution_count": 23,
   "id": "2e0ccccc",
   "metadata": {},
   "outputs": [
    {
     "name": "stdout",
     "output_type": "stream",
     "text": [
      "Character Count:\n"
     ]
    },
    {
     "data": {
      "text/plain": [
       "4    10309\n",
       "5      197\n",
       "Name: Trap, dtype: int64"
      ]
     },
     "execution_count": 23,
     "metadata": {},
     "output_type": "execute_result"
    }
   ],
   "source": [
    "#There are two types of traps: Main traps and satellite traps. \n",
    "#Main traps should have 4-character codes and satellite traps should have 5-charater codes\n",
    "\n",
    "#Ensure that there are no improper trap codes\n",
    "print('Character Count:')\n",
    "df_trap_data['Trap'].str.len().value_counts()"
   ]
  },
  {
   "cell_type": "code",
   "execution_count": 24,
   "id": "e9367f66",
   "metadata": {},
   "outputs": [
    {
     "name": "stdout",
     "output_type": "stream",
     "text": [
      "All Satellite traps are associated with a Main trap: False\n"
     ]
    }
   ],
   "source": [
    "#Ensure that all Satellite traps are associated with a Main trap\n",
    "print('All Satellite traps are associated with a Main trap:',\n",
    "df_trap_data[df_trap_data['Trap'].str.len() == 5]['Trap'].str[0:4].drop_duplicates() \\\n",
    "    .isin(df_trap_data['Trap']).all()\n",
    ")"
   ]
  },
  {
   "cell_type": "markdown",
   "id": "3584e6fe",
   "metadata": {},
   "source": [
    "**AddressNumberAndStreet Column:**"
   ]
  },
  {
   "cell_type": "code",
   "execution_count": 25,
   "id": "6f5a4c29",
   "metadata": {},
   "outputs": [
    {
     "name": "stdout",
     "output_type": "stream",
     "text": [
      "Number of unique addresses: 138\n"
     ]
    }
   ],
   "source": [
    "#check number of unique values\n",
    "print('Number of unique addresses:', len(df_trap_data['Address'].unique()))"
   ]
  },
  {
   "cell_type": "code",
   "execution_count": 26,
   "id": "4bc1de6b",
   "metadata": {},
   "outputs": [
    {
     "name": "stdout",
     "output_type": "stream",
     "text": [
      "Address to AddressNumberAndStreet is a 1:1 mapping:  True\n"
     ]
    }
   ],
   "source": [
    "#check to see if the AddressNumberAndStreet column maps to the Address column with a 1:1 relationship\n",
    "\n",
    "#check if any Address value maps to >1 AddressNumberAndStreet value\n",
    "print(\n",
    "    'Address to AddressNumberAndStreet is a 1:1 mapping: ',\n",
    "    (df_trap_data.groupby('Address').apply(lambda df: df['AddressNumberAndStreet'].unique()).apply(len) == 1).all()\n",
    ")"
   ]
  },
  {
   "cell_type": "markdown",
   "id": "5236a9bc",
   "metadata": {},
   "source": [
    "The AddressNumberAndStreet and Address columns can be dropped. Latitude/Longitude will be used for location."
   ]
  },
  {
   "cell_type": "code",
   "execution_count": 27,
   "id": "74c2b8a1",
   "metadata": {},
   "outputs": [],
   "source": [
    "#Drop the AddressNumberAndStreet and Address columns\n",
    "df_trap_data.drop(['Address','AddressNumberAndStreet'], axis=1, inplace=True)"
   ]
  },
  {
   "cell_type": "markdown",
   "id": "40d1a84f",
   "metadata": {},
   "source": [
    "**Latitude Column:**"
   ]
  },
  {
   "cell_type": "code",
   "execution_count": 28,
   "id": "0dc743da",
   "metadata": {},
   "outputs": [
    {
     "data": {
      "text/plain": [
       "count    10506.000000\n",
       "mean        41.841139\n",
       "std          0.112742\n",
       "min         41.644612\n",
       "25%         41.732984\n",
       "50%         41.846283\n",
       "75%         41.954690\n",
       "max         42.017430\n",
       "Name: Latitude, dtype: float64"
      ]
     },
     "execution_count": 28,
     "metadata": {},
     "output_type": "execute_result"
    }
   ],
   "source": [
    "#check Latitude summary stats for out of place values (Chicago latitude ~ 41.8781 N)\n",
    "df_trap_data['Latitude'].describe()"
   ]
  },
  {
   "cell_type": "markdown",
   "id": "aaa2fdf4",
   "metadata": {},
   "source": [
    "**Longitude Column:**"
   ]
  },
  {
   "cell_type": "code",
   "execution_count": 29,
   "id": "4e881a3f",
   "metadata": {},
   "outputs": [
    {
     "data": {
      "text/plain": [
       "count    10506.000000\n",
       "mean       -87.699908\n",
       "std          0.096514\n",
       "min        -87.930995\n",
       "25%        -87.760070\n",
       "50%        -87.694991\n",
       "75%        -87.627796\n",
       "max        -87.531635\n",
       "Name: Longitude, dtype: float64"
      ]
     },
     "execution_count": 29,
     "metadata": {},
     "output_type": "execute_result"
    }
   ],
   "source": [
    "#check Longitude summary stats for out of place values (Chicago longitude ~ 87.6298 W)\n",
    "df_trap_data['Longitude'].describe()"
   ]
  },
  {
   "cell_type": "markdown",
   "id": "ea9654cd",
   "metadata": {},
   "source": [
    "**AddressAccuracy Column:**"
   ]
  },
  {
   "cell_type": "code",
   "execution_count": 30,
   "id": "0cbde581",
   "metadata": {},
   "outputs": [
    {
     "data": {
      "text/plain": [
       "count    10506.000000\n",
       "mean         7.819532\n",
       "std          1.452921\n",
       "min          3.000000\n",
       "25%          8.000000\n",
       "50%          8.000000\n",
       "75%          9.000000\n",
       "max          9.000000\n",
       "Name: AddressAccuracy, dtype: float64"
      ]
     },
     "execution_count": 30,
     "metadata": {},
     "output_type": "execute_result"
    }
   ],
   "source": [
    "#check the AddressAccuracy summary stats\n",
    "df_trap_data['AddressAccuracy'].describe()"
   ]
  },
  {
   "cell_type": "code",
   "execution_count": 31,
   "id": "53cc80fb",
   "metadata": {},
   "outputs": [
    {
     "data": {
      "text/plain": [
       "8    4628\n",
       "9    3980\n",
       "5    1807\n",
       "3      91\n",
       "Name: AddressAccuracy, dtype: int64"
      ]
     },
     "execution_count": 31,
     "metadata": {},
     "output_type": "execute_result"
    }
   ],
   "source": [
    "#check value counts - there appeared to be some outliers on the low end\n",
    "df_trap_data['AddressAccuracy'].value_counts()"
   ]
  },
  {
   "cell_type": "markdown",
   "id": "6539b83a",
   "metadata": {},
   "source": [
    "The AddressAccuracy column will not be used and can be dropped."
   ]
  },
  {
   "cell_type": "code",
   "execution_count": 32,
   "id": "92afe509",
   "metadata": {},
   "outputs": [],
   "source": [
    "df_trap_data.drop(columns='AddressAccuracy',inplace=True)"
   ]
  },
  {
   "cell_type": "markdown",
   "id": "cf0d8ab3",
   "metadata": {},
   "source": [
    "**NumMosquitos Column:**"
   ]
  },
  {
   "cell_type": "code",
   "execution_count": 33,
   "id": "2aaa812e",
   "metadata": {},
   "outputs": [
    {
     "data": {
      "text/plain": [
       "count    10506.000000\n",
       "mean        12.853512\n",
       "std         16.133816\n",
       "min          1.000000\n",
       "25%          2.000000\n",
       "50%          5.000000\n",
       "75%         17.000000\n",
       "max         50.000000\n",
       "Name: NumMosquitos, dtype: float64"
      ]
     },
     "execution_count": 33,
     "metadata": {},
     "output_type": "execute_result"
    }
   ],
   "source": [
    "#check summary stats on the NumMosquitos column\n",
    "df_trap_data['NumMosquitos'].describe()"
   ]
  },
  {
   "cell_type": "code",
   "execution_count": 34,
   "id": "e0e15919",
   "metadata": {},
   "outputs": [
    {
     "data": {
      "image/png": "[encoded data removed]",
      "text/plain": [
       "<Figure size 432x288 with 1 Axes>"
      ]
     },
     "metadata": {
      "needs_background": "light"
     },
     "output_type": "display_data"
    }
   ],
   "source": [
    "#check the NumMosquitos distribution\n",
    "df_trap_data['NumMosquitos'].hist();"
   ]
  },
  {
   "cell_type": "markdown",
   "id": "b2b8a0b4",
   "metadata": {},
   "source": [
    "This data is skewed to the right. There appears to be a large increase in frequency when NumMosquitos = 50. However, this is because of the way the data was recorded. 50 was the max NumMosquitos value allowed in a single row. When NumMosquitos > 50, the data was split into multiple rows. This will be corrected below."
   ]
  },
  {
   "cell_type": "markdown",
   "id": "0cfa69a6",
   "metadata": {},
   "source": [
    "**WnvPresent Column:**"
   ]
  },
  {
   "cell_type": "code",
   "execution_count": 35,
   "id": "3e368af5",
   "metadata": {},
   "outputs": [
    {
     "data": {
      "text/plain": [
       "count    10506.000000\n",
       "mean         0.052446\n",
       "std          0.222936\n",
       "min          0.000000\n",
       "25%          0.000000\n",
       "50%          0.000000\n",
       "75%          0.000000\n",
       "max          1.000000\n",
       "Name: WnvPresent, dtype: float64"
      ]
     },
     "execution_count": 35,
     "metadata": {},
     "output_type": "execute_result"
    }
   ],
   "source": [
    "#check summary stats on the WnvPresent column\n",
    "df_trap_data['WnvPresent'].describe()"
   ]
  },
  {
   "cell_type": "code",
   "execution_count": 36,
   "id": "c597c2d9",
   "metadata": {},
   "outputs": [
    {
     "data": {
      "text/plain": [
       "0    9955\n",
       "1     551\n",
       "Name: WnvPresent, dtype: int64"
      ]
     },
     "execution_count": 36,
     "metadata": {},
     "output_type": "execute_result"
    }
   ],
   "source": [
    "#check value counts\n",
    "df_trap_data['WnvPresent'].value_counts()"
   ]
  },
  {
   "cell_type": "markdown",
   "id": "67d473a3",
   "metadata": {},
   "source": [
    "The WnvPresent column will act as labels for this dataset (indicating whether or not West Nile virus was present). It should be noted that the classes are imbalanced, as West Nile virus was found in only a small proportion of the mosquito batches."
   ]
  },
  {
   "cell_type": "markdown",
   "id": "b5567e3f",
   "metadata": {},
   "source": [
    "**There should be a single row for each species, for each trap, on each date:**"
   ]
  },
  {
   "cell_type": "code",
   "execution_count": 37,
   "id": "f618d0b6",
   "metadata": {},
   "outputs": [],
   "source": [
    "#column to track the number of traps that were aggregated\n",
    "df_trap_data['NumTrapGroups'] = 1"
   ]
  },
  {
   "cell_type": "code",
   "execution_count": 38,
   "id": "bb3b8cca",
   "metadata": {},
   "outputs": [],
   "source": [
    "#Aggregate data into single row for each species, for each trap, on each date\n",
    "aggregations = {'Latitude':'first',\n",
    "                'Longitude':'first',\n",
    "                'NumMosquitos':'mean',\n",
    "                'NumTrapGroups':'sum',\n",
    "                'WnvPresent':'sum'}\n",
    "\n",
    "df_trap_data = df_trap_data.groupby(['Date','Trap','Species']).agg(aggregations).dropna().reset_index()"
   ]
  },
  {
   "cell_type": "code",
   "execution_count": 39,
   "id": "379d4aa0",
   "metadata": {},
   "outputs": [],
   "source": [
    "df_trap_data['NumWnvPresent'] = df_trap_data['WnvPresent']"
   ]
  },
  {
   "cell_type": "code",
   "execution_count": 40,
   "id": "329dfb85",
   "metadata": {},
   "outputs": [
    {
     "data": {
      "text/plain": [
       "array([ 0,  1,  3,  2, 10,  7,  6,  4,  9,  8,  5], dtype=int64)"
      ]
     },
     "execution_count": 40,
     "metadata": {},
     "output_type": "execute_result"
    }
   ],
   "source": [
    "#Correct cells where WnvPresent > 1 (due to the aggregation above)\n",
    "df_trap_data['WnvPresent'].unique()"
   ]
  },
  {
   "cell_type": "code",
   "execution_count": 41,
   "id": "588fb108",
   "metadata": {},
   "outputs": [],
   "source": [
    "#Set all cells equal to 1, where WnvPresent > 1\n",
    "df_trap_data.loc[df_trap_data['WnvPresent'] > 1, 'WnvPresent'] = 1"
   ]
  },
  {
   "cell_type": "code",
   "execution_count": 42,
   "id": "e43c287c",
   "metadata": {},
   "outputs": [
    {
     "name": "stdout",
     "output_type": "stream",
     "text": [
      "<class 'pandas.core.frame.DataFrame'>\n",
      "RangeIndex: 8475 entries, 0 to 8474\n",
      "Data columns (total 9 columns):\n",
      " #   Column         Non-Null Count  Dtype         \n",
      "---  ------         --------------  -----         \n",
      " 0   Date           8475 non-null   datetime64[ns]\n",
      " 1   Trap           8475 non-null   object        \n",
      " 2   Species        8475 non-null   category      \n",
      " 3   Latitude       8475 non-null   float64       \n",
      " 4   Longitude      8475 non-null   float64       \n",
      " 5   NumMosquitos   8475 non-null   float64       \n",
      " 6   NumTrapGroups  8475 non-null   int64         \n",
      " 7   WnvPresent     8475 non-null   int64         \n",
      " 8   NumWnvPresent  8475 non-null   int64         \n",
      "dtypes: category(1), datetime64[ns](1), float64(3), int64(3), object(1)\n",
      "memory usage: 538.4+ KB\n"
     ]
    }
   ],
   "source": [
    "#check the info for the updated columns\n",
    "df_trap_data.info()"
   ]
  },
  {
   "cell_type": "code",
   "execution_count": 43,
   "id": "32fcb08d",
   "metadata": {},
   "outputs": [
    {
     "data": {
      "text/html": [
       "<div>\n",
       "<style scoped>\n",
       "    .dataframe tbody tr th:only-of-type {\n",
       "        vertical-align: middle;\n",
       "    }\n",
       "\n",
       "    .dataframe tbody tr th {\n",
       "        vertical-align: top;\n",
       "    }\n",
       "\n",
       "    .dataframe thead th {\n",
       "        text-align: right;\n",
       "    }\n",
       "</style>\n",
       "<table border=\"1\" class=\"dataframe\">\n",
       "  <thead>\n",
       "    <tr style=\"text-align: right;\">\n",
       "      <th></th>\n",
       "      <th>count</th>\n",
       "      <th>mean</th>\n",
       "      <th>min</th>\n",
       "      <th>25%</th>\n",
       "      <th>50%</th>\n",
       "      <th>75%</th>\n",
       "      <th>max</th>\n",
       "      <th>std</th>\n",
       "    </tr>\n",
       "  </thead>\n",
       "  <tbody>\n",
       "    <tr>\n",
       "      <th>Date</th>\n",
       "      <td>8475</td>\n",
       "      <td>2010-04-23 13:12:58.619469056</td>\n",
       "      <td>2007-05-29 00:00:00</td>\n",
       "      <td>2007-09-12 00:00:00</td>\n",
       "      <td>2009-08-27 00:00:00</td>\n",
       "      <td>2011-09-23 00:00:00</td>\n",
       "      <td>2013-09-26 00:00:00</td>\n",
       "      <td>NaN</td>\n",
       "    </tr>\n",
       "    <tr>\n",
       "      <th>Latitude</th>\n",
       "      <td>8475.0</td>\n",
       "      <td>41.844618</td>\n",
       "      <td>41.644612</td>\n",
       "      <td>41.750498</td>\n",
       "      <td>41.857402</td>\n",
       "      <td>41.944869</td>\n",
       "      <td>42.01743</td>\n",
       "      <td>0.106609</td>\n",
       "    </tr>\n",
       "    <tr>\n",
       "      <th>Longitude</th>\n",
       "      <td>8475.0</td>\n",
       "      <td>-87.694788</td>\n",
       "      <td>-87.930995</td>\n",
       "      <td>-87.752329</td>\n",
       "      <td>-87.694991</td>\n",
       "      <td>-87.642984</td>\n",
       "      <td>-87.531635</td>\n",
       "      <td>0.084063</td>\n",
       "    </tr>\n",
       "    <tr>\n",
       "      <th>NumMosquitos</th>\n",
       "      <td>8475.0</td>\n",
       "      <td>8.43436</td>\n",
       "      <td>1.0</td>\n",
       "      <td>1.0</td>\n",
       "      <td>4.0</td>\n",
       "      <td>10.0</td>\n",
       "      <td>50.0</td>\n",
       "      <td>10.90716</td>\n",
       "    </tr>\n",
       "    <tr>\n",
       "      <th>NumTrapGroups</th>\n",
       "      <td>8475.0</td>\n",
       "      <td>1.239646</td>\n",
       "      <td>1.0</td>\n",
       "      <td>1.0</td>\n",
       "      <td>1.0</td>\n",
       "      <td>1.0</td>\n",
       "      <td>51.0</td>\n",
       "      <td>1.58603</td>\n",
       "    </tr>\n",
       "    <tr>\n",
       "      <th>WnvPresent</th>\n",
       "      <td>8475.0</td>\n",
       "      <td>0.053923</td>\n",
       "      <td>0.0</td>\n",
       "      <td>0.0</td>\n",
       "      <td>0.0</td>\n",
       "      <td>0.0</td>\n",
       "      <td>1.0</td>\n",
       "      <td>0.22588</td>\n",
       "    </tr>\n",
       "    <tr>\n",
       "      <th>NumWnvPresent</th>\n",
       "      <td>8475.0</td>\n",
       "      <td>0.065015</td>\n",
       "      <td>0.0</td>\n",
       "      <td>0.0</td>\n",
       "      <td>0.0</td>\n",
       "      <td>0.0</td>\n",
       "      <td>10.0</td>\n",
       "      <td>0.337489</td>\n",
       "    </tr>\n",
       "  </tbody>\n",
       "</table>\n",
       "</div>"
      ],
      "text/plain": [
       "                count                           mean                  min  \\\n",
       "Date             8475  2010-04-23 13:12:58.619469056  2007-05-29 00:00:00   \n",
       "Latitude       8475.0                      41.844618            41.644612   \n",
       "Longitude      8475.0                     -87.694788           -87.930995   \n",
       "NumMosquitos   8475.0                        8.43436                  1.0   \n",
       "NumTrapGroups  8475.0                       1.239646                  1.0   \n",
       "WnvPresent     8475.0                       0.053923                  0.0   \n",
       "NumWnvPresent  8475.0                       0.065015                  0.0   \n",
       "\n",
       "                               25%                  50%                  75%  \\\n",
       "Date           2007-09-12 00:00:00  2009-08-27 00:00:00  2011-09-23 00:00:00   \n",
       "Latitude                 41.750498            41.857402            41.944869   \n",
       "Longitude               -87.752329           -87.694991           -87.642984   \n",
       "NumMosquitos                   1.0                  4.0                 10.0   \n",
       "NumTrapGroups                  1.0                  1.0                  1.0   \n",
       "WnvPresent                     0.0                  0.0                  0.0   \n",
       "NumWnvPresent                  0.0                  0.0                  0.0   \n",
       "\n",
       "                               max       std  \n",
       "Date           2013-09-26 00:00:00       NaN  \n",
       "Latitude                  42.01743  0.106609  \n",
       "Longitude               -87.531635  0.084063  \n",
       "NumMosquitos                  50.0  10.90716  \n",
       "NumTrapGroups                 51.0   1.58603  \n",
       "WnvPresent                     1.0   0.22588  \n",
       "NumWnvPresent                 10.0  0.337489  "
      ]
     },
     "execution_count": 43,
     "metadata": {},
     "output_type": "execute_result"
    }
   ],
   "source": [
    "#Summary stats for the columns\n",
    "df_trap_data.describe(datetime_is_numeric=True).T"
   ]
  },
  {
   "cell_type": "markdown",
   "id": "429c2b8f",
   "metadata": {},
   "source": [
    "## 1.2 Spray Data"
   ]
  },
  {
   "cell_type": "code",
   "execution_count": 44,
   "id": "c64c4f3c",
   "metadata": {},
   "outputs": [
    {
     "data": {
      "text/html": [
       "<div>\n",
       "<style scoped>\n",
       "    .dataframe tbody tr th:only-of-type {\n",
       "        vertical-align: middle;\n",
       "    }\n",
       "\n",
       "    .dataframe tbody tr th {\n",
       "        vertical-align: top;\n",
       "    }\n",
       "\n",
       "    .dataframe thead th {\n",
       "        text-align: right;\n",
       "    }\n",
       "</style>\n",
       "<table border=\"1\" class=\"dataframe\">\n",
       "  <thead>\n",
       "    <tr style=\"text-align: right;\">\n",
       "      <th></th>\n",
       "      <th>0</th>\n",
       "      <th>1</th>\n",
       "      <th>2</th>\n",
       "      <th>3</th>\n",
       "      <th>4</th>\n",
       "    </tr>\n",
       "  </thead>\n",
       "  <tbody>\n",
       "    <tr>\n",
       "      <th>Date</th>\n",
       "      <td>2011-08-29</td>\n",
       "      <td>2011-08-29</td>\n",
       "      <td>2011-08-29</td>\n",
       "      <td>2011-08-29</td>\n",
       "      <td>2011-08-29</td>\n",
       "    </tr>\n",
       "    <tr>\n",
       "      <th>Time</th>\n",
       "      <td>6:56:58 PM</td>\n",
       "      <td>6:57:08 PM</td>\n",
       "      <td>6:57:18 PM</td>\n",
       "      <td>6:57:28 PM</td>\n",
       "      <td>6:57:38 PM</td>\n",
       "    </tr>\n",
       "    <tr>\n",
       "      <th>Latitude</th>\n",
       "      <td>42.391623</td>\n",
       "      <td>42.391348</td>\n",
       "      <td>42.391022</td>\n",
       "      <td>42.390637</td>\n",
       "      <td>42.39041</td>\n",
       "    </tr>\n",
       "    <tr>\n",
       "      <th>Longitude</th>\n",
       "      <td>-88.089163</td>\n",
       "      <td>-88.089163</td>\n",
       "      <td>-88.089157</td>\n",
       "      <td>-88.089158</td>\n",
       "      <td>-88.088858</td>\n",
       "    </tr>\n",
       "  </tbody>\n",
       "</table>\n",
       "</div>"
      ],
      "text/plain": [
       "                    0           1           2           3           4\n",
       "Date       2011-08-29  2011-08-29  2011-08-29  2011-08-29  2011-08-29\n",
       "Time       6:56:58 PM  6:57:08 PM  6:57:18 PM  6:57:28 PM  6:57:38 PM\n",
       "Latitude    42.391623   42.391348   42.391022   42.390637    42.39041\n",
       "Longitude  -88.089163  -88.089163  -88.089157  -88.089158  -88.088858"
      ]
     },
     "execution_count": 44,
     "metadata": {},
     "output_type": "execute_result"
    }
   ],
   "source": [
    "#read spray data into pandas\n",
    "filepath = '../raw_data/spray.csv'\n",
    "df_spray_data = pd.read_csv(filepath)\n",
    "df_spray_data.head().T"
   ]
  },
  {
   "cell_type": "code",
   "execution_count": 45,
   "id": "bb3c61f1",
   "metadata": {},
   "outputs": [
    {
     "name": "stdout",
     "output_type": "stream",
     "text": [
      "<class 'pandas.core.frame.DataFrame'>\n",
      "RangeIndex: 14835 entries, 0 to 14834\n",
      "Data columns (total 4 columns):\n",
      " #   Column     Non-Null Count  Dtype  \n",
      "---  ------     --------------  -----  \n",
      " 0   Date       14835 non-null  object \n",
      " 1   Time       14251 non-null  object \n",
      " 2   Latitude   14835 non-null  float64\n",
      " 3   Longitude  14835 non-null  float64\n",
      "dtypes: float64(2), object(2)\n",
      "memory usage: 463.7+ KB\n"
     ]
    }
   ],
   "source": [
    "#inspect spray data\n",
    "df_spray_data.info()"
   ]
  },
  {
   "cell_type": "markdown",
   "id": "d27cc736",
   "metadata": {},
   "source": [
    "**Date Column:**"
   ]
  },
  {
   "cell_type": "code",
   "execution_count": 46,
   "id": "7644dc23",
   "metadata": {},
   "outputs": [],
   "source": [
    "#convert the Date column to datetime\n",
    "df_spray_data['Date'] = pd.to_datetime(df_spray_data['Date'])"
   ]
  },
  {
   "cell_type": "code",
   "execution_count": 47,
   "id": "a9f1827a",
   "metadata": {},
   "outputs": [
    {
     "data": {
      "text/html": [
       "<div>\n",
       "<style scoped>\n",
       "    .dataframe tbody tr th:only-of-type {\n",
       "        vertical-align: middle;\n",
       "    }\n",
       "\n",
       "    .dataframe tbody tr th {\n",
       "        vertical-align: top;\n",
       "    }\n",
       "\n",
       "    .dataframe thead th {\n",
       "        text-align: right;\n",
       "    }\n",
       "</style>\n",
       "<table border=\"1\" class=\"dataframe\">\n",
       "  <thead>\n",
       "    <tr style=\"text-align: right;\">\n",
       "      <th></th>\n",
       "      <th>Date</th>\n",
       "    </tr>\n",
       "  </thead>\n",
       "  <tbody>\n",
       "    <tr>\n",
       "      <th>min</th>\n",
       "      <td>2011-08-29 00:00:00</td>\n",
       "    </tr>\n",
       "    <tr>\n",
       "      <th>max</th>\n",
       "      <td>2013-09-05 00:00:00</td>\n",
       "    </tr>\n",
       "  </tbody>\n",
       "</table>\n",
       "</div>"
      ],
      "text/plain": [
       "                    Date\n",
       "min  2011-08-29 00:00:00\n",
       "max  2013-09-05 00:00:00"
      ]
     },
     "execution_count": 47,
     "metadata": {},
     "output_type": "execute_result"
    }
   ],
   "source": [
    "#check date range\n",
    "pd.DataFrame(df_spray_data['Date'].describe(datetime_is_numeric=True)).loc[['min','max']]"
   ]
  },
  {
   "cell_type": "markdown",
   "id": "71aac79c",
   "metadata": {},
   "source": [
    "Spraying was only done between 2011 and 2013, while trapping was done from 2007-2013"
   ]
  },
  {
   "cell_type": "markdown",
   "id": "447b5d49",
   "metadata": {},
   "source": [
    "**Time Column:**"
   ]
  },
  {
   "cell_type": "code",
   "execution_count": 48,
   "id": "c074d04a",
   "metadata": {},
   "outputs": [
    {
     "data": {
      "text/plain": [
       "min    2011-09-07 00:00:00\n",
       "max    2011-09-07 00:00:00\n",
       "Name: Date, dtype: object"
      ]
     },
     "execution_count": 48,
     "metadata": {},
     "output_type": "execute_result"
    }
   ],
   "source": [
    "#Inspect missing Time values - by Date\n",
    "df_spray_data[df_spray_data['Time'].isna()]['Date'].describe(datetime_is_numeric=True).loc[['min','max']]"
   ]
  },
  {
   "cell_type": "markdown",
   "id": "63626dd0",
   "metadata": {},
   "source": [
    "All missing time values came from a single date (2011-09-07)"
   ]
  },
  {
   "cell_type": "code",
   "execution_count": 49,
   "id": "a4b87cfd",
   "metadata": {},
   "outputs": [
    {
     "name": "stdout",
     "output_type": "stream",
     "text": [
      "Unique latitudes: 231\n",
      "Unique longitudes: 348\n"
     ]
    }
   ],
   "source": [
    "#Inspect missing Time values - by Latitude / Longitude\n",
    "print('Unique latitudes:',\n",
    "    len(df_spray_data[df_spray_data['Time'].isna()]['Latitude'].unique())\n",
    ")\n",
    "print(\n",
    "    'Unique longitudes:',\n",
    "    len(df_spray_data[df_spray_data['Time'].isna()]['Longitude'].unique())\n",
    ")"
   ]
  },
  {
   "cell_type": "markdown",
   "id": "e7b7a75a",
   "metadata": {},
   "source": [
    "Missing time values do not appear to be location specific. "
   ]
  },
  {
   "cell_type": "markdown",
   "id": "b3776b2e",
   "metadata": {},
   "source": [
    "**Impute** the missing time values with the median time from 2011-09-07"
   ]
  },
  {
   "cell_type": "code",
   "execution_count": 50,
   "id": "f51af9c3",
   "metadata": {},
   "outputs": [],
   "source": [
    "#get the median time on '2011-09-07'\n",
    "median_time = pd.to_datetime(df_spray_data[(df_spray_data['Time'].notna()) & \\\n",
    "                                             (df_spray_data['Date'] == '2011-09-07')]['Time'],\\\n",
    "               format='%I:%M:%S %p').describe(datetime_is_numeric=True)['50%']\n",
    "median_time = median_time.strftime('%I:%M:%S %p')\n",
    "\n",
    "#remove leading 0 on hour to match the data's format\n",
    "median_time = median_time[1:]\n",
    "\n",
    "#impute null time values using median time\n",
    "df_spray_data.fillna({'Time':median_time}, inplace=True)"
   ]
  },
  {
   "cell_type": "markdown",
   "id": "8835f935",
   "metadata": {},
   "source": [
    "**Latitude Column:**"
   ]
  },
  {
   "cell_type": "code",
   "execution_count": 51,
   "id": "1237575b",
   "metadata": {},
   "outputs": [
    {
     "data": {
      "text/plain": [
       "count    14835.000000\n",
       "mean        41.904828\n",
       "std          0.104381\n",
       "min         41.713925\n",
       "25%         41.785001\n",
       "50%         41.940075\n",
       "75%         41.980978\n",
       "max         42.395983\n",
       "Name: Latitude, dtype: float64"
      ]
     },
     "execution_count": 51,
     "metadata": {},
     "output_type": "execute_result"
    }
   ],
   "source": [
    "#check Latitude summary stats for out of place values (Chicago latitude ~ 41.8781 N)\n",
    "df_spray_data['Latitude'].describe()"
   ]
  },
  {
   "cell_type": "markdown",
   "id": "47457102",
   "metadata": {},
   "source": [
    "**Longitude Column:**"
   ]
  },
  {
   "cell_type": "code",
   "execution_count": 52,
   "id": "1dcb32a8",
   "metadata": {},
   "outputs": [
    {
     "data": {
      "text/plain": [
       "count    14835.000000\n",
       "mean       -87.736690\n",
       "std          0.067292\n",
       "min        -88.096468\n",
       "25%        -87.794225\n",
       "50%        -87.727853\n",
       "75%        -87.694108\n",
       "max        -87.586727\n",
       "Name: Longitude, dtype: float64"
      ]
     },
     "execution_count": 52,
     "metadata": {},
     "output_type": "execute_result"
    }
   ],
   "source": [
    "#check Longitude summary stats for out of place values (Chicago longitude ~ 87.6298 W)\n",
    "df_spray_data['Longitude'].describe()"
   ]
  },
  {
   "cell_type": "code",
   "execution_count": 53,
   "id": "5d77c4dc",
   "metadata": {},
   "outputs": [
    {
     "name": "stdout",
     "output_type": "stream",
     "text": [
      "<class 'pandas.core.frame.DataFrame'>\n",
      "RangeIndex: 14835 entries, 0 to 14834\n",
      "Data columns (total 4 columns):\n",
      " #   Column     Non-Null Count  Dtype         \n",
      "---  ------     --------------  -----         \n",
      " 0   Date       14835 non-null  datetime64[ns]\n",
      " 1   Time       14835 non-null  object        \n",
      " 2   Latitude   14835 non-null  float64       \n",
      " 3   Longitude  14835 non-null  float64       \n",
      "dtypes: datetime64[ns](1), float64(2), object(1)\n",
      "memory usage: 463.7+ KB\n"
     ]
    }
   ],
   "source": [
    "#check the info for the updated columns\n",
    "df_spray_data.info()"
   ]
  },
  {
   "cell_type": "code",
   "execution_count": 54,
   "id": "afbee76f",
   "metadata": {},
   "outputs": [
    {
     "data": {
      "text/html": [
       "<div>\n",
       "<style scoped>\n",
       "    .dataframe tbody tr th:only-of-type {\n",
       "        vertical-align: middle;\n",
       "    }\n",
       "\n",
       "    .dataframe tbody tr th {\n",
       "        vertical-align: top;\n",
       "    }\n",
       "\n",
       "    .dataframe thead th {\n",
       "        text-align: right;\n",
       "    }\n",
       "</style>\n",
       "<table border=\"1\" class=\"dataframe\">\n",
       "  <thead>\n",
       "    <tr style=\"text-align: right;\">\n",
       "      <th></th>\n",
       "      <th>count</th>\n",
       "      <th>mean</th>\n",
       "      <th>min</th>\n",
       "      <th>25%</th>\n",
       "      <th>50%</th>\n",
       "      <th>75%</th>\n",
       "      <th>max</th>\n",
       "      <th>std</th>\n",
       "    </tr>\n",
       "  </thead>\n",
       "  <tbody>\n",
       "    <tr>\n",
       "      <th>Date</th>\n",
       "      <td>14835</td>\n",
       "      <td>2013-04-28 14:43:18.988877568</td>\n",
       "      <td>2011-08-29 00:00:00</td>\n",
       "      <td>2013-07-17 00:00:00</td>\n",
       "      <td>2013-08-15 00:00:00</td>\n",
       "      <td>2013-08-22 00:00:00</td>\n",
       "      <td>2013-09-05 00:00:00</td>\n",
       "      <td>NaN</td>\n",
       "    </tr>\n",
       "    <tr>\n",
       "      <th>Latitude</th>\n",
       "      <td>14835.0</td>\n",
       "      <td>41.904828</td>\n",
       "      <td>41.713925</td>\n",
       "      <td>41.785001</td>\n",
       "      <td>41.940075</td>\n",
       "      <td>41.980978</td>\n",
       "      <td>42.395983</td>\n",
       "      <td>0.104381</td>\n",
       "    </tr>\n",
       "    <tr>\n",
       "      <th>Longitude</th>\n",
       "      <td>14835.0</td>\n",
       "      <td>-87.73669</td>\n",
       "      <td>-88.096468</td>\n",
       "      <td>-87.794225</td>\n",
       "      <td>-87.727853</td>\n",
       "      <td>-87.694108</td>\n",
       "      <td>-87.586727</td>\n",
       "      <td>0.067292</td>\n",
       "    </tr>\n",
       "  </tbody>\n",
       "</table>\n",
       "</div>"
      ],
      "text/plain": [
       "             count                           mean                  min  \\\n",
       "Date         14835  2013-04-28 14:43:18.988877568  2011-08-29 00:00:00   \n",
       "Latitude   14835.0                      41.904828            41.713925   \n",
       "Longitude  14835.0                      -87.73669           -88.096468   \n",
       "\n",
       "                           25%                  50%                  75%  \\\n",
       "Date       2013-07-17 00:00:00  2013-08-15 00:00:00  2013-08-22 00:00:00   \n",
       "Latitude             41.785001            41.940075            41.980978   \n",
       "Longitude           -87.794225           -87.727853           -87.694108   \n",
       "\n",
       "                           max       std  \n",
       "Date       2013-09-05 00:00:00       NaN  \n",
       "Latitude             42.395983  0.104381  \n",
       "Longitude           -87.586727  0.067292  "
      ]
     },
     "execution_count": 54,
     "metadata": {},
     "output_type": "execute_result"
    }
   ],
   "source": [
    "#Summary stats for the columns\n",
    "df_spray_data.describe(datetime_is_numeric=True).T"
   ]
  },
  {
   "cell_type": "markdown",
   "id": "71ac9610",
   "metadata": {},
   "source": [
    "## 1.3 Weather Data"
   ]
  },
  {
   "cell_type": "code",
   "execution_count": 55,
   "id": "8e2dc6b4",
   "metadata": {},
   "outputs": [
    {
     "data": {
      "text/html": [
       "<div>\n",
       "<style scoped>\n",
       "    .dataframe tbody tr th:only-of-type {\n",
       "        vertical-align: middle;\n",
       "    }\n",
       "\n",
       "    .dataframe tbody tr th {\n",
       "        vertical-align: top;\n",
       "    }\n",
       "\n",
       "    .dataframe thead th {\n",
       "        text-align: right;\n",
       "    }\n",
       "</style>\n",
       "<table border=\"1\" class=\"dataframe\">\n",
       "  <thead>\n",
       "    <tr style=\"text-align: right;\">\n",
       "      <th></th>\n",
       "      <th>0</th>\n",
       "      <th>1</th>\n",
       "      <th>2</th>\n",
       "      <th>3</th>\n",
       "      <th>4</th>\n",
       "    </tr>\n",
       "  </thead>\n",
       "  <tbody>\n",
       "    <tr>\n",
       "      <th>Station</th>\n",
       "      <td>1</td>\n",
       "      <td>2</td>\n",
       "      <td>1</td>\n",
       "      <td>2</td>\n",
       "      <td>1</td>\n",
       "    </tr>\n",
       "    <tr>\n",
       "      <th>Date</th>\n",
       "      <td>2007-05-01</td>\n",
       "      <td>2007-05-01</td>\n",
       "      <td>2007-05-02</td>\n",
       "      <td>2007-05-02</td>\n",
       "      <td>2007-05-03</td>\n",
       "    </tr>\n",
       "    <tr>\n",
       "      <th>Tmax</th>\n",
       "      <td>83</td>\n",
       "      <td>84</td>\n",
       "      <td>59</td>\n",
       "      <td>60</td>\n",
       "      <td>66</td>\n",
       "    </tr>\n",
       "    <tr>\n",
       "      <th>Tmin</th>\n",
       "      <td>50</td>\n",
       "      <td>52</td>\n",
       "      <td>42</td>\n",
       "      <td>43</td>\n",
       "      <td>46</td>\n",
       "    </tr>\n",
       "    <tr>\n",
       "      <th>Tavg</th>\n",
       "      <td>67</td>\n",
       "      <td>68</td>\n",
       "      <td>51</td>\n",
       "      <td>52</td>\n",
       "      <td>56</td>\n",
       "    </tr>\n",
       "    <tr>\n",
       "      <th>Depart</th>\n",
       "      <td>14</td>\n",
       "      <td>M</td>\n",
       "      <td>-3</td>\n",
       "      <td>M</td>\n",
       "      <td>2</td>\n",
       "    </tr>\n",
       "    <tr>\n",
       "      <th>DewPoint</th>\n",
       "      <td>51</td>\n",
       "      <td>51</td>\n",
       "      <td>42</td>\n",
       "      <td>42</td>\n",
       "      <td>40</td>\n",
       "    </tr>\n",
       "    <tr>\n",
       "      <th>WetBulb</th>\n",
       "      <td>56</td>\n",
       "      <td>57</td>\n",
       "      <td>47</td>\n",
       "      <td>47</td>\n",
       "      <td>48</td>\n",
       "    </tr>\n",
       "    <tr>\n",
       "      <th>Heat</th>\n",
       "      <td>0</td>\n",
       "      <td>0</td>\n",
       "      <td>14</td>\n",
       "      <td>13</td>\n",
       "      <td>9</td>\n",
       "    </tr>\n",
       "    <tr>\n",
       "      <th>Cool</th>\n",
       "      <td>2</td>\n",
       "      <td>3</td>\n",
       "      <td>0</td>\n",
       "      <td>0</td>\n",
       "      <td>0</td>\n",
       "    </tr>\n",
       "    <tr>\n",
       "      <th>Sunrise</th>\n",
       "      <td>0448</td>\n",
       "      <td>-</td>\n",
       "      <td>0447</td>\n",
       "      <td>-</td>\n",
       "      <td>0446</td>\n",
       "    </tr>\n",
       "    <tr>\n",
       "      <th>Sunset</th>\n",
       "      <td>1849</td>\n",
       "      <td>-</td>\n",
       "      <td>1850</td>\n",
       "      <td>-</td>\n",
       "      <td>1851</td>\n",
       "    </tr>\n",
       "    <tr>\n",
       "      <th>CodeSum</th>\n",
       "      <td></td>\n",
       "      <td></td>\n",
       "      <td>BR</td>\n",
       "      <td>BR HZ</td>\n",
       "      <td></td>\n",
       "    </tr>\n",
       "    <tr>\n",
       "      <th>Depth</th>\n",
       "      <td>0</td>\n",
       "      <td>M</td>\n",
       "      <td>0</td>\n",
       "      <td>M</td>\n",
       "      <td>0</td>\n",
       "    </tr>\n",
       "    <tr>\n",
       "      <th>Water1</th>\n",
       "      <td>M</td>\n",
       "      <td>M</td>\n",
       "      <td>M</td>\n",
       "      <td>M</td>\n",
       "      <td>M</td>\n",
       "    </tr>\n",
       "    <tr>\n",
       "      <th>SnowFall</th>\n",
       "      <td>0.0</td>\n",
       "      <td>M</td>\n",
       "      <td>0.0</td>\n",
       "      <td>M</td>\n",
       "      <td>0.0</td>\n",
       "    </tr>\n",
       "    <tr>\n",
       "      <th>PrecipTotal</th>\n",
       "      <td>0.00</td>\n",
       "      <td>0.00</td>\n",
       "      <td>0.00</td>\n",
       "      <td>0.00</td>\n",
       "      <td>0.00</td>\n",
       "    </tr>\n",
       "    <tr>\n",
       "      <th>StnPressure</th>\n",
       "      <td>29.10</td>\n",
       "      <td>29.18</td>\n",
       "      <td>29.38</td>\n",
       "      <td>29.44</td>\n",
       "      <td>29.39</td>\n",
       "    </tr>\n",
       "    <tr>\n",
       "      <th>SeaLevel</th>\n",
       "      <td>29.82</td>\n",
       "      <td>29.82</td>\n",
       "      <td>30.09</td>\n",
       "      <td>30.08</td>\n",
       "      <td>30.12</td>\n",
       "    </tr>\n",
       "    <tr>\n",
       "      <th>ResultSpeed</th>\n",
       "      <td>1.7</td>\n",
       "      <td>2.7</td>\n",
       "      <td>13.0</td>\n",
       "      <td>13.3</td>\n",
       "      <td>11.7</td>\n",
       "    </tr>\n",
       "    <tr>\n",
       "      <th>ResultDir</th>\n",
       "      <td>27</td>\n",
       "      <td>25</td>\n",
       "      <td>4</td>\n",
       "      <td>2</td>\n",
       "      <td>7</td>\n",
       "    </tr>\n",
       "    <tr>\n",
       "      <th>AvgSpeed</th>\n",
       "      <td>9.2</td>\n",
       "      <td>9.6</td>\n",
       "      <td>13.4</td>\n",
       "      <td>13.4</td>\n",
       "      <td>11.9</td>\n",
       "    </tr>\n",
       "  </tbody>\n",
       "</table>\n",
       "</div>"
      ],
      "text/plain": [
       "                      0           1           2           3           4\n",
       "Station               1           2           1           2           1\n",
       "Date         2007-05-01  2007-05-01  2007-05-02  2007-05-02  2007-05-03\n",
       "Tmax                 83          84          59          60          66\n",
       "Tmin                 50          52          42          43          46\n",
       "Tavg                 67          68          51          52          56\n",
       "Depart               14           M          -3           M           2\n",
       "DewPoint             51          51          42          42          40\n",
       "WetBulb              56          57          47          47          48\n",
       "Heat                  0           0          14          13           9\n",
       "Cool                  2           3           0           0           0\n",
       "Sunrise            0448           -        0447           -        0446\n",
       "Sunset             1849           -        1850           -        1851\n",
       "CodeSum                                      BR       BR HZ            \n",
       "Depth                 0           M           0           M           0\n",
       "Water1                M           M           M           M           M\n",
       "SnowFall            0.0           M         0.0           M         0.0\n",
       "PrecipTotal        0.00        0.00        0.00        0.00        0.00\n",
       "StnPressure       29.10       29.18       29.38       29.44       29.39\n",
       "SeaLevel          29.82       29.82       30.09       30.08       30.12\n",
       "ResultSpeed         1.7         2.7        13.0        13.3        11.7\n",
       "ResultDir            27          25           4           2           7\n",
       "AvgSpeed            9.2         9.6        13.4        13.4        11.9"
      ]
     },
     "execution_count": 55,
     "metadata": {},
     "output_type": "execute_result"
    }
   ],
   "source": [
    "#read weather data into pandas\n",
    "filepath = '../raw_data/weather.csv'\n",
    "df_weather_data = pd.read_csv(filepath)\n",
    "df_weather_data.head().T"
   ]
  },
  {
   "cell_type": "code",
   "execution_count": 56,
   "id": "d35993f3",
   "metadata": {},
   "outputs": [
    {
     "name": "stdout",
     "output_type": "stream",
     "text": [
      "<class 'pandas.core.frame.DataFrame'>\n",
      "RangeIndex: 2944 entries, 0 to 2943\n",
      "Data columns (total 22 columns):\n",
      " #   Column       Non-Null Count  Dtype  \n",
      "---  ------       --------------  -----  \n",
      " 0   Station      2944 non-null   int64  \n",
      " 1   Date         2944 non-null   object \n",
      " 2   Tmax         2944 non-null   int64  \n",
      " 3   Tmin         2944 non-null   int64  \n",
      " 4   Tavg         2944 non-null   object \n",
      " 5   Depart       2944 non-null   object \n",
      " 6   DewPoint     2944 non-null   int64  \n",
      " 7   WetBulb      2944 non-null   object \n",
      " 8   Heat         2944 non-null   object \n",
      " 9   Cool         2944 non-null   object \n",
      " 10  Sunrise      2944 non-null   object \n",
      " 11  Sunset       2944 non-null   object \n",
      " 12  CodeSum      2944 non-null   object \n",
      " 13  Depth        2944 non-null   object \n",
      " 14  Water1       2944 non-null   object \n",
      " 15  SnowFall     2944 non-null   object \n",
      " 16  PrecipTotal  2944 non-null   object \n",
      " 17  StnPressure  2944 non-null   object \n",
      " 18  SeaLevel     2944 non-null   object \n",
      " 19  ResultSpeed  2944 non-null   float64\n",
      " 20  ResultDir    2944 non-null   int64  \n",
      " 21  AvgSpeed     2944 non-null   object \n",
      "dtypes: float64(1), int64(5), object(16)\n",
      "memory usage: 506.1+ KB\n"
     ]
    }
   ],
   "source": [
    "#inspect weather data\n",
    "df_weather_data.info()"
   ]
  },
  {
   "cell_type": "markdown",
   "id": "422d5168",
   "metadata": {},
   "source": [
    "**Station Column:**"
   ]
  },
  {
   "cell_type": "code",
   "execution_count": 57,
   "id": "7365ff32",
   "metadata": {},
   "outputs": [
    {
     "data": {
      "text/plain": [
       "2    1472\n",
       "1    1472\n",
       "Name: Station, dtype: int64"
      ]
     },
     "execution_count": 57,
     "metadata": {},
     "output_type": "execute_result"
    }
   ],
   "source": [
    "#Check the Station values\n",
    "df_weather_data['Station'].value_counts()"
   ]
  },
  {
   "cell_type": "markdown",
   "id": "09714f0f",
   "metadata": {},
   "source": [
    "The station column will be set to categorical below. Temporarily having it as an int column simplifies some of the data wrangling."
   ]
  },
  {
   "cell_type": "markdown",
   "id": "e6483092",
   "metadata": {},
   "source": [
    "**Date Column:**"
   ]
  },
  {
   "cell_type": "code",
   "execution_count": 58,
   "id": "f616aa7f",
   "metadata": {},
   "outputs": [],
   "source": [
    "#convert Date column to datetime\n",
    "df_weather_data['Date'] = pd.to_datetime(df_weather_data['Date'])"
   ]
  },
  {
   "cell_type": "code",
   "execution_count": 59,
   "id": "07bd8dc4",
   "metadata": {},
   "outputs": [
    {
     "data": {
      "text/html": [
       "<div>\n",
       "<style scoped>\n",
       "    .dataframe tbody tr th:only-of-type {\n",
       "        vertical-align: middle;\n",
       "    }\n",
       "\n",
       "    .dataframe tbody tr th {\n",
       "        vertical-align: top;\n",
       "    }\n",
       "\n",
       "    .dataframe thead th {\n",
       "        text-align: right;\n",
       "    }\n",
       "</style>\n",
       "<table border=\"1\" class=\"dataframe\">\n",
       "  <thead>\n",
       "    <tr style=\"text-align: right;\">\n",
       "      <th></th>\n",
       "      <th>Date</th>\n",
       "    </tr>\n",
       "  </thead>\n",
       "  <tbody>\n",
       "    <tr>\n",
       "      <th>min</th>\n",
       "      <td>2007-05-01 00:00:00</td>\n",
       "    </tr>\n",
       "    <tr>\n",
       "      <th>max</th>\n",
       "      <td>2014-10-31 00:00:00</td>\n",
       "    </tr>\n",
       "  </tbody>\n",
       "</table>\n",
       "</div>"
      ],
      "text/plain": [
       "                    Date\n",
       "min  2007-05-01 00:00:00\n",
       "max  2014-10-31 00:00:00"
      ]
     },
     "execution_count": 59,
     "metadata": {},
     "output_type": "execute_result"
    }
   ],
   "source": [
    "#check date range\n",
    "pd.DataFrame(df_weather_data['Date'].describe(datetime_is_numeric=True)).loc[['min','max']]"
   ]
  },
  {
   "cell_type": "code",
   "execution_count": 60,
   "id": "7cae6861",
   "metadata": {},
   "outputs": [],
   "source": [
    "#drop weather data that is outside the trap data date range\n",
    "min_date = df_trap_data['Date'].min()\n",
    "max_date = df_trap_data['Date'].max()\n",
    "\n",
    "drop_indices = df_weather_data[(df_weather_data['Date'] < min_date) | (df_weather_data['Date'] > max_date)].index\n",
    "df_weather_data.drop(index=drop_indices, inplace=True)"
   ]
  },
  {
   "cell_type": "markdown",
   "id": "71352daf",
   "metadata": {},
   "source": [
    "**Tmax Column:**"
   ]
  },
  {
   "cell_type": "code",
   "execution_count": 61,
   "id": "1e2f085e",
   "metadata": {},
   "outputs": [
    {
     "data": {
      "image/png": "[encoded data removed]",
      "text/plain": [
       "<Figure size 432x288 with 1 Axes>"
      ]
     },
     "metadata": {
      "needs_background": "light"
     },
     "output_type": "display_data"
    }
   ],
   "source": [
    "#check max. temperature range / frequency\n",
    "plt.hist(df_weather_data['Tmax']);\n",
    "ax = plt.gca();\n",
    "ax.set_title('Max. Temperature Distribution');\n",
    "ax.set_xlabel('Temperature (F)');\n",
    "ax.set_ylabel('Frequency');"
   ]
  },
  {
   "cell_type": "markdown",
   "id": "c6b6213e",
   "metadata": {},
   "source": [
    "**Tmin Column:**"
   ]
  },
  {
   "cell_type": "code",
   "execution_count": 62,
   "id": "23032c2a",
   "metadata": {},
   "outputs": [
    {
     "data": {
      "image/png": "[encoded data removed]",
      "text/plain": [
       "<Figure size 432x288 with 1 Axes>"
      ]
     },
     "metadata": {
      "needs_background": "light"
     },
     "output_type": "display_data"
    }
   ],
   "source": [
    "#check min. temperature range / frequency\n",
    "plt.hist(df_weather_data['Tmin']);\n",
    "ax = plt.gca();\n",
    "ax.set_title('Min. Temperature Distribution');\n",
    "ax.set_xlabel('Temperature (F)');\n",
    "ax.set_ylabel('Frequency');"
   ]
  },
  {
   "cell_type": "markdown",
   "id": "cb914031",
   "metadata": {},
   "source": [
    "**Tavg Column:**"
   ]
  },
  {
   "cell_type": "code",
   "execution_count": 63,
   "id": "3561bbb1",
   "metadata": {},
   "outputs": [
    {
     "data": {
      "text/plain": [
       "M    6\n",
       "Name: Tavg, dtype: int64"
      ]
     },
     "execution_count": 63,
     "metadata": {},
     "output_type": "execute_result"
    }
   ],
   "source": [
    "#check non-numeric values\n",
    "df_weather_data[ ~ df_weather_data['Tavg'].str.isnumeric()]['Tavg'].value_counts()"
   ]
  },
  {
   "cell_type": "code",
   "execution_count": 64,
   "id": "dfe5c077",
   "metadata": {},
   "outputs": [],
   "source": [
    "#ensure that Tavg represents that average of Tmin and Tmax\n",
    "df_temp = df_weather_data[df_weather_data['Tavg'].str.isnumeric()]\n",
    "assert df_temp['Tavg'].astype(int).equals(df_temp[['Tmax','Tmin']].mean(axis=1).apply(np.ceil).astype(int))"
   ]
  },
  {
   "cell_type": "code",
   "execution_count": 65,
   "id": "c29078cd",
   "metadata": {},
   "outputs": [],
   "source": [
    "#replace missing Tavg values with the mean of Tmin and Tmax\n",
    "df_weather_data.loc[ ~ df_weather_data['Tavg'].str.isnumeric(), 'Tavg'] = \\\n",
    "    df_weather_data.loc[ ~ df_weather_data['Tavg'].str.isnumeric(), ['Tmin','Tmax']].mean(axis=1).apply(np.ceil)"
   ]
  },
  {
   "cell_type": "code",
   "execution_count": 66,
   "id": "6745b9c1",
   "metadata": {
    "scrolled": true
   },
   "outputs": [],
   "source": [
    "#convert Tavg to an integer column\n",
    "df_weather_data['Tavg'] = df_weather_data['Tavg'].astype(np.int64)"
   ]
  },
  {
   "cell_type": "code",
   "execution_count": 67,
   "id": "9557ccad",
   "metadata": {},
   "outputs": [
    {
     "data": {
      "image/png": "[encoded data removed]",
      "text/plain": [
       "<Figure size 432x288 with 1 Axes>"
      ]
     },
     "metadata": {
      "needs_background": "light"
     },
     "output_type": "display_data"
    }
   ],
   "source": [
    "#check average temperature range / frequency\n",
    "plt.hist(df_weather_data['Tavg']);\n",
    "ax = plt.gca();\n",
    "ax.set_title('Average Temperature Distribution');\n",
    "ax.set_xlabel('Temperature (F)');\n",
    "ax.set_ylabel('Frequency');"
   ]
  },
  {
   "cell_type": "markdown",
   "id": "620a3f46",
   "metadata": {},
   "source": [
    "**Depart Column:**"
   ]
  },
  {
   "cell_type": "code",
   "execution_count": 68,
   "id": "cef015da",
   "metadata": {},
   "outputs": [],
   "source": [
    "#remove spaces/whitespace\n",
    "df_weather_data['Depart'] = df_weather_data['Depart'].str.replace(' ','')"
   ]
  },
  {
   "cell_type": "code",
   "execution_count": 69,
   "id": "10e3fea3",
   "metadata": {},
   "outputs": [
    {
     "data": {
      "text/plain": [
       "M    1225\n",
       "Name: Depart, dtype: int64"
      ]
     },
     "execution_count": 69,
     "metadata": {},
     "output_type": "execute_result"
    }
   ],
   "source": [
    "#check non-numeric values\n",
    "df_weather_data[ ~ df_weather_data['Depart']\\\n",
    "    .str.replace('-','') \\\n",
    "    .str.isnumeric()]['Depart'].value_counts()"
   ]
  },
  {
   "cell_type": "code",
   "execution_count": 70,
   "id": "8c747c6e",
   "metadata": {},
   "outputs": [
    {
     "data": {
      "text/html": [
       "<div>\n",
       "<style scoped>\n",
       "    .dataframe tbody tr th:only-of-type {\n",
       "        vertical-align: middle;\n",
       "    }\n",
       "\n",
       "    .dataframe tbody tr th {\n",
       "        vertical-align: top;\n",
       "    }\n",
       "\n",
       "    .dataframe thead th {\n",
       "        text-align: right;\n",
       "    }\n",
       "</style>\n",
       "<table border=\"1\" class=\"dataframe\">\n",
       "  <thead>\n",
       "    <tr style=\"text-align: right;\">\n",
       "      <th></th>\n",
       "      <th>Station</th>\n",
       "      <th>Date</th>\n",
       "      <th>Tmax</th>\n",
       "      <th>Tmin</th>\n",
       "      <th>Tavg</th>\n",
       "      <th>Depart</th>\n",
       "      <th>DewPoint</th>\n",
       "      <th>WetBulb</th>\n",
       "      <th>Heat</th>\n",
       "      <th>Cool</th>\n",
       "      <th>...</th>\n",
       "      <th>CodeSum</th>\n",
       "      <th>Depth</th>\n",
       "      <th>Water1</th>\n",
       "      <th>SnowFall</th>\n",
       "      <th>PrecipTotal</th>\n",
       "      <th>StnPressure</th>\n",
       "      <th>SeaLevel</th>\n",
       "      <th>ResultSpeed</th>\n",
       "      <th>ResultDir</th>\n",
       "      <th>AvgSpeed</th>\n",
       "    </tr>\n",
       "  </thead>\n",
       "  <tbody>\n",
       "    <tr>\n",
       "      <th>57</th>\n",
       "      <td>2</td>\n",
       "      <td>2007-05-29</td>\n",
       "      <td>88</td>\n",
       "      <td>65</td>\n",
       "      <td>77</td>\n",
       "      <td>M</td>\n",
       "      <td>59</td>\n",
       "      <td>66</td>\n",
       "      <td>0</td>\n",
       "      <td>12</td>\n",
       "      <td>...</td>\n",
       "      <td>BR HZ</td>\n",
       "      <td>M</td>\n",
       "      <td>M</td>\n",
       "      <td>M</td>\n",
       "      <td>0.00</td>\n",
       "      <td>29.44</td>\n",
       "      <td>30.09</td>\n",
       "      <td>5.8</td>\n",
       "      <td>16</td>\n",
       "      <td>7.4</td>\n",
       "    </tr>\n",
       "    <tr>\n",
       "      <th>59</th>\n",
       "      <td>2</td>\n",
       "      <td>2007-05-30</td>\n",
       "      <td>89</td>\n",
       "      <td>70</td>\n",
       "      <td>80</td>\n",
       "      <td>M</td>\n",
       "      <td>57</td>\n",
       "      <td>66</td>\n",
       "      <td>0</td>\n",
       "      <td>15</td>\n",
       "      <td>...</td>\n",
       "      <td>HZ</td>\n",
       "      <td>M</td>\n",
       "      <td>M</td>\n",
       "      <td>M</td>\n",
       "      <td>0.00</td>\n",
       "      <td>29.38</td>\n",
       "      <td>30.03</td>\n",
       "      <td>9.7</td>\n",
       "      <td>17</td>\n",
       "      <td>10.1</td>\n",
       "    </tr>\n",
       "    <tr>\n",
       "      <th>61</th>\n",
       "      <td>2</td>\n",
       "      <td>2007-05-31</td>\n",
       "      <td>80</td>\n",
       "      <td>68</td>\n",
       "      <td>74</td>\n",
       "      <td>M</td>\n",
       "      <td>61</td>\n",
       "      <td>66</td>\n",
       "      <td>0</td>\n",
       "      <td>9</td>\n",
       "      <td>...</td>\n",
       "      <td>RA BR</td>\n",
       "      <td>M</td>\n",
       "      <td>M</td>\n",
       "      <td>M</td>\n",
       "      <td>0.53</td>\n",
       "      <td>29.34</td>\n",
       "      <td>29.99</td>\n",
       "      <td>8.9</td>\n",
       "      <td>18</td>\n",
       "      <td>9.2</td>\n",
       "    </tr>\n",
       "    <tr>\n",
       "      <th>63</th>\n",
       "      <td>2</td>\n",
       "      <td>2007-06-01</td>\n",
       "      <td>86</td>\n",
       "      <td>67</td>\n",
       "      <td>77</td>\n",
       "      <td>M</td>\n",
       "      <td>63</td>\n",
       "      <td>67</td>\n",
       "      <td>0</td>\n",
       "      <td>12</td>\n",
       "      <td>...</td>\n",
       "      <td>TSRA BR HZ</td>\n",
       "      <td>M</td>\n",
       "      <td>M</td>\n",
       "      <td>M</td>\n",
       "      <td>0.21</td>\n",
       "      <td>29.25</td>\n",
       "      <td>29.90</td>\n",
       "      <td>4.7</td>\n",
       "      <td>16</td>\n",
       "      <td>5.8</td>\n",
       "    </tr>\n",
       "    <tr>\n",
       "      <th>65</th>\n",
       "      <td>2</td>\n",
       "      <td>2007-06-02</td>\n",
       "      <td>81</td>\n",
       "      <td>68</td>\n",
       "      <td>75</td>\n",
       "      <td>M</td>\n",
       "      <td>62</td>\n",
       "      <td>67</td>\n",
       "      <td>0</td>\n",
       "      <td>10</td>\n",
       "      <td>...</td>\n",
       "      <td>RA BR</td>\n",
       "      <td>M</td>\n",
       "      <td>M</td>\n",
       "      <td>M</td>\n",
       "      <td>T</td>\n",
       "      <td>29.10</td>\n",
       "      <td>29.76</td>\n",
       "      <td>7.5</td>\n",
       "      <td>21</td>\n",
       "      <td>8.2</td>\n",
       "    </tr>\n",
       "  </tbody>\n",
       "</table>\n",
       "<p>5 rows × 22 columns</p>\n",
       "</div>"
      ],
      "text/plain": [
       "    Station       Date  Tmax  Tmin  Tavg Depart  DewPoint WetBulb Heat Cool  \\\n",
       "57        2 2007-05-29    88    65    77      M        59      66    0   12   \n",
       "59        2 2007-05-30    89    70    80      M        57      66    0   15   \n",
       "61        2 2007-05-31    80    68    74      M        61      66    0    9   \n",
       "63        2 2007-06-01    86    67    77      M        63      67    0   12   \n",
       "65        2 2007-06-02    81    68    75      M        62      67    0   10   \n",
       "\n",
       "    ...     CodeSum Depth Water1 SnowFall PrecipTotal StnPressure SeaLevel  \\\n",
       "57  ...       BR HZ     M      M        M        0.00       29.44    30.09   \n",
       "59  ...          HZ     M      M        M        0.00       29.38    30.03   \n",
       "61  ...       RA BR     M      M        M        0.53       29.34    29.99   \n",
       "63  ...  TSRA BR HZ     M      M        M        0.21       29.25    29.90   \n",
       "65  ...       RA BR     M      M        M           T       29.10    29.76   \n",
       "\n",
       "   ResultSpeed ResultDir  AvgSpeed  \n",
       "57         5.8        16       7.4  \n",
       "59         9.7        17      10.1  \n",
       "61         8.9        18       9.2  \n",
       "63         4.7        16       5.8  \n",
       "65         7.5        21       8.2  \n",
       "\n",
       "[5 rows x 22 columns]"
      ]
     },
     "execution_count": 70,
     "metadata": {},
     "output_type": "execute_result"
    }
   ],
   "source": [
    "#investigate the missing values\n",
    "df_weather_data[df_weather_data['Depart'] == 'M'].head()"
   ]
  },
  {
   "cell_type": "code",
   "execution_count": 71,
   "id": "103e7c22",
   "metadata": {},
   "outputs": [
    {
     "data": {
      "text/plain": [
       "Station\n",
       "2    1225\n",
       "Name: Depart, dtype: int64"
      ]
     },
     "execution_count": 71,
     "metadata": {},
     "output_type": "execute_result"
    }
   ],
   "source": [
    "#check missing values by station\n",
    "df_weather_data[df_weather_data['Depart'] == 'M'].groupby('Station')['Depart'].count()"
   ]
  },
  {
   "cell_type": "code",
   "execution_count": 72,
   "id": "ba865abf",
   "metadata": {},
   "outputs": [
    {
     "name": "stdout",
     "output_type": "stream",
     "text": [
      "Number of non-missing Depart values for Station 2: 0\n"
     ]
    }
   ],
   "source": [
    "#does station 2 have any non-missing values for Depart\n",
    "print('Number of non-missing Depart values for Station 2:',\n",
    "df_weather_data[(df_weather_data['Depart'] != 'M') & (df_weather_data['Station'] == 2)]['Depart'].count()\n",
    ")"
   ]
  },
  {
   "cell_type": "markdown",
   "id": "8a6b83c8",
   "metadata": {},
   "source": [
    "It appears that station 2 does not record data for departure from normal temperature. Since the two weather stations are only ~16 miles apart (according to Google maps), we will assume that the departure from normal temperature is roughly the same at the two stations on any given day. Therefore, the station 1 'Depart' values can be used to impute the values for station 2."
   ]
  },
  {
   "cell_type": "code",
   "execution_count": 73,
   "id": "ddf54ef4",
   "metadata": {},
   "outputs": [],
   "source": [
    "#impute station 2 'Depart' values using the station 1 values\n",
    "df_weather_data['Depart'] = df_weather_data \\\n",
    "    .sort_values(by='Station') \\\n",
    "    .groupby('Date')['Depart'].transform('first') "
   ]
  },
  {
   "cell_type": "code",
   "execution_count": 74,
   "id": "28822aef",
   "metadata": {},
   "outputs": [],
   "source": [
    "#convert 'Depart' column to int\n",
    "df_weather_data['Depart'] = df_weather_data['Depart'].astype(np.int64)"
   ]
  },
  {
   "cell_type": "markdown",
   "id": "591849dd",
   "metadata": {},
   "source": [
    "**DewPoint Column:**"
   ]
  },
  {
   "cell_type": "code",
   "execution_count": 75,
   "id": "34ba73d5",
   "metadata": {},
   "outputs": [
    {
     "data": {
      "image/png": "[encoded data removed]",
      "text/plain": [
       "<Figure size 432x288 with 1 Axes>"
      ]
     },
     "metadata": {
      "needs_background": "light"
     },
     "output_type": "display_data"
    }
   ],
   "source": [
    "#check dewpoint range / frequency\n",
    "plt.hist(df_weather_data['DewPoint']);\n",
    "ax = plt.gca();\n",
    "ax.set_title('Dewpoint Distribution');\n",
    "ax.set_xlabel('Dewpoint');\n",
    "ax.set_ylabel('Frequency');"
   ]
  },
  {
   "cell_type": "markdown",
   "id": "5b80acee",
   "metadata": {},
   "source": [
    "**WetBulb Column**"
   ]
  },
  {
   "cell_type": "code",
   "execution_count": 76,
   "id": "43403a4a",
   "metadata": {},
   "outputs": [
    {
     "data": {
      "text/html": [
       "<div>\n",
       "<style scoped>\n",
       "    .dataframe tbody tr th:only-of-type {\n",
       "        vertical-align: middle;\n",
       "    }\n",
       "\n",
       "    .dataframe tbody tr th {\n",
       "        vertical-align: top;\n",
       "    }\n",
       "\n",
       "    .dataframe thead th {\n",
       "        text-align: right;\n",
       "    }\n",
       "</style>\n",
       "<table border=\"1\" class=\"dataframe\">\n",
       "  <thead>\n",
       "    <tr style=\"text-align: right;\">\n",
       "      <th></th>\n",
       "      <th>Station</th>\n",
       "      <th>Date</th>\n",
       "      <th>Tmax</th>\n",
       "      <th>Tmin</th>\n",
       "      <th>Tavg</th>\n",
       "      <th>Depart</th>\n",
       "      <th>DewPoint</th>\n",
       "      <th>WetBulb</th>\n",
       "      <th>Heat</th>\n",
       "      <th>Cool</th>\n",
       "      <th>...</th>\n",
       "      <th>CodeSum</th>\n",
       "      <th>Depth</th>\n",
       "      <th>Water1</th>\n",
       "      <th>SnowFall</th>\n",
       "      <th>PrecipTotal</th>\n",
       "      <th>StnPressure</th>\n",
       "      <th>SeaLevel</th>\n",
       "      <th>ResultSpeed</th>\n",
       "      <th>ResultDir</th>\n",
       "      <th>AvgSpeed</th>\n",
       "    </tr>\n",
       "  </thead>\n",
       "  <tbody>\n",
       "    <tr>\n",
       "      <th>848</th>\n",
       "      <td>1</td>\n",
       "      <td>2009-06-26</td>\n",
       "      <td>86</td>\n",
       "      <td>69</td>\n",
       "      <td>78</td>\n",
       "      <td>7</td>\n",
       "      <td>60</td>\n",
       "      <td>M</td>\n",
       "      <td>0</td>\n",
       "      <td>13</td>\n",
       "      <td>...</td>\n",
       "      <td></td>\n",
       "      <td>0</td>\n",
       "      <td>M</td>\n",
       "      <td>0.0</td>\n",
       "      <td>0.00</td>\n",
       "      <td>M</td>\n",
       "      <td>29.85</td>\n",
       "      <td>6.4</td>\n",
       "      <td>4</td>\n",
       "      <td>8.2</td>\n",
       "    </tr>\n",
       "    <tr>\n",
       "      <th>2410</th>\n",
       "      <td>1</td>\n",
       "      <td>2013-08-10</td>\n",
       "      <td>81</td>\n",
       "      <td>64</td>\n",
       "      <td>73</td>\n",
       "      <td>0</td>\n",
       "      <td>57</td>\n",
       "      <td>M</td>\n",
       "      <td>0</td>\n",
       "      <td>8</td>\n",
       "      <td>...</td>\n",
       "      <td></td>\n",
       "      <td>0</td>\n",
       "      <td>M</td>\n",
       "      <td>0.0</td>\n",
       "      <td>0.00</td>\n",
       "      <td>M</td>\n",
       "      <td>30.08</td>\n",
       "      <td>5.3</td>\n",
       "      <td>5</td>\n",
       "      <td>6.5</td>\n",
       "    </tr>\n",
       "    <tr>\n",
       "      <th>2412</th>\n",
       "      <td>1</td>\n",
       "      <td>2013-08-11</td>\n",
       "      <td>81</td>\n",
       "      <td>60</td>\n",
       "      <td>71</td>\n",
       "      <td>-2</td>\n",
       "      <td>61</td>\n",
       "      <td>M</td>\n",
       "      <td>0</td>\n",
       "      <td>6</td>\n",
       "      <td>...</td>\n",
       "      <td>RA</td>\n",
       "      <td>0</td>\n",
       "      <td>M</td>\n",
       "      <td>0.0</td>\n",
       "      <td>0.01</td>\n",
       "      <td>29.35</td>\n",
       "      <td>30.07</td>\n",
       "      <td>2.0</td>\n",
       "      <td>27</td>\n",
       "      <td>3.0</td>\n",
       "    </tr>\n",
       "    <tr>\n",
       "      <th>2415</th>\n",
       "      <td>2</td>\n",
       "      <td>2013-08-12</td>\n",
       "      <td>85</td>\n",
       "      <td>69</td>\n",
       "      <td>77</td>\n",
       "      <td>2</td>\n",
       "      <td>63</td>\n",
       "      <td>M</td>\n",
       "      <td>0</td>\n",
       "      <td>12</td>\n",
       "      <td>...</td>\n",
       "      <td>RA</td>\n",
       "      <td>M</td>\n",
       "      <td>M</td>\n",
       "      <td>M</td>\n",
       "      <td>0.66</td>\n",
       "      <td>29.27</td>\n",
       "      <td>29.92</td>\n",
       "      <td>4.5</td>\n",
       "      <td>26</td>\n",
       "      <td>7.7</td>\n",
       "    </tr>\n",
       "  </tbody>\n",
       "</table>\n",
       "<p>4 rows × 22 columns</p>\n",
       "</div>"
      ],
      "text/plain": [
       "      Station       Date  Tmax  Tmin  Tavg  Depart  DewPoint WetBulb Heat  \\\n",
       "848         1 2009-06-26    86    69    78       7        60       M    0   \n",
       "2410        1 2013-08-10    81    64    73       0        57       M    0   \n",
       "2412        1 2013-08-11    81    60    71      -2        61       M    0   \n",
       "2415        2 2013-08-12    85    69    77       2        63       M    0   \n",
       "\n",
       "     Cool  ... CodeSum Depth Water1 SnowFall PrecipTotal StnPressure SeaLevel  \\\n",
       "848    13  ...             0      M      0.0        0.00           M    29.85   \n",
       "2410    8  ...             0      M      0.0        0.00           M    30.08   \n",
       "2412    6  ...      RA     0      M      0.0        0.01       29.35    30.07   \n",
       "2415   12  ...      RA     M      M        M        0.66       29.27    29.92   \n",
       "\n",
       "     ResultSpeed ResultDir  AvgSpeed  \n",
       "848          6.4         4       8.2  \n",
       "2410         5.3         5       6.5  \n",
       "2412         2.0        27       3.0  \n",
       "2415         4.5        26       7.7  \n",
       "\n",
       "[4 rows x 22 columns]"
      ]
     },
     "execution_count": 76,
     "metadata": {},
     "output_type": "execute_result"
    }
   ],
   "source": [
    "#check non-numeric values\n",
    "df_weather_data[ ~ df_weather_data['WetBulb'].str.isnumeric()]"
   ]
  },
  {
   "cell_type": "code",
   "execution_count": 77,
   "id": "5bf83bf2",
   "metadata": {},
   "outputs": [],
   "source": [
    "#convert WetBulb to numeric ('M' will become nan)\n",
    "df_weather_data['WetBulb'] = pd.to_numeric(df_weather_data['WetBulb'], errors='coerce')"
   ]
  },
  {
   "cell_type": "code",
   "execution_count": 78,
   "id": "7caaf477",
   "metadata": {},
   "outputs": [
    {
     "data": {
      "text/plain": [
       "-0.29074529074529076"
      ]
     },
     "execution_count": 78,
     "metadata": {},
     "output_type": "execute_result"
    }
   ],
   "source": [
    "#check the difference between station 1 WetBulb and station 2 WetBulb\n",
    "df_temp = pd.merge(\n",
    "    df_weather_data[df_weather_data['Station'] == 1][['Date','WetBulb']],\n",
    "    df_weather_data[df_weather_data['Station'] == 2][['Date','WetBulb']],\n",
    "    on='Date'\n",
    ")\n",
    "\n",
    "#drop the null columns\n",
    "df_temp = df_temp.dropna()\n",
    "\n",
    "#check the mean difference \n",
    "np.mean(df_temp['WetBulb_x'] - df_temp['WetBulb_y'])"
   ]
  },
  {
   "cell_type": "markdown",
   "id": "dba22aed",
   "metadata": {},
   "source": [
    "Since the mean difference between Wet Bulb temperature at station 1 and station 2 is very small, there are only 4 missing values, and there are no dates where both stations are missing values the missing values will be imputed with the value from the other station."
   ]
  },
  {
   "cell_type": "code",
   "execution_count": 79,
   "id": "6801baac",
   "metadata": {},
   "outputs": [],
   "source": [
    "#impute the missing WetBulb values\n",
    "nan_dates = df_weather_data[df_weather_data['WetBulb'].isna()]['Date']\n",
    "updates = df_weather_data[df_weather_data['Date'].isin(nan_dates)].groupby('Date')['WetBulb'].transform('first')\n",
    "df_weather_data.loc[updates.index, 'WetBulb'] = updates.values"
   ]
  },
  {
   "cell_type": "code",
   "execution_count": 80,
   "id": "db766935",
   "metadata": {},
   "outputs": [],
   "source": [
    "#convert WetBulb column to int\n",
    "df_weather_data['WetBulb'] = df_weather_data['WetBulb'].astype(np.int64)"
   ]
  },
  {
   "cell_type": "code",
   "execution_count": 81,
   "id": "05f2e0fc",
   "metadata": {},
   "outputs": [
    {
     "data": {
      "image/png": "[encoded data removed]",
      "text/plain": [
       "<Figure size 432x288 with 1 Axes>"
      ]
     },
     "metadata": {
      "needs_background": "light"
     },
     "output_type": "display_data"
    }
   ],
   "source": [
    "#check WetBulb range / frequency\n",
    "plt.hist(df_weather_data['WetBulb']);\n",
    "ax = plt.gca();\n",
    "ax.set_title('WetBulb Distribution');\n",
    "ax.set_xlabel('WetBulb');\n",
    "ax.set_ylabel('Frequency');"
   ]
  },
  {
   "cell_type": "markdown",
   "id": "dbf54800",
   "metadata": {},
   "source": [
    "**Heat Column:**"
   ]
  },
  {
   "cell_type": "code",
   "execution_count": 82,
   "id": "1335fc1b",
   "metadata": {},
   "outputs": [
    {
     "data": {
      "text/plain": [
       "M    6\n",
       "Name: Heat, dtype: int64"
      ]
     },
     "execution_count": 82,
     "metadata": {},
     "output_type": "execute_result"
    }
   ],
   "source": [
    "#check non-numeric values\n",
    "df_weather_data[ ~ df_weather_data['Heat'].str.isnumeric()]['Heat'].value_counts()"
   ]
  },
  {
   "cell_type": "code",
   "execution_count": 83,
   "id": "13633d00",
   "metadata": {},
   "outputs": [
    {
     "name": "stdout",
     "output_type": "stream",
     "text": [
      "NaN count:  6\n"
     ]
    }
   ],
   "source": [
    "#convert missing values to NaN\n",
    "df_weather_data['Heat'].replace('M',np.nan, inplace = True)\n",
    "print('NaN count: ', df_weather_data['Heat'].isna().sum())"
   ]
  },
  {
   "cell_type": "markdown",
   "id": "f00bdbee",
   "metadata": {},
   "source": [
    "Heating degree days are calculated by subtracting average temperature from a base temperature of 65. Any values less than 0 should be set equal to 0. This will be used to impute the missing values."
   ]
  },
  {
   "cell_type": "code",
   "execution_count": 84,
   "id": "c889e3be",
   "metadata": {},
   "outputs": [],
   "source": [
    "#impute missing Heat values\n",
    "df_weather_data.loc[df_weather_data['Heat'].isna(), 'Heat'] = \\\n",
    "    df_weather_data.loc[df_weather_data['Heat'].isna()].apply(lambda x: max(0, 65 - x['Tavg']), axis=1)"
   ]
  },
  {
   "cell_type": "code",
   "execution_count": 85,
   "id": "cf06f309",
   "metadata": {},
   "outputs": [],
   "source": [
    "#convert to int data type\n",
    "df_weather_data['Heat'] = df_weather_data['Heat'].astype(np.int64)"
   ]
  },
  {
   "cell_type": "code",
   "execution_count": 86,
   "id": "4bb9cbed",
   "metadata": {},
   "outputs": [
    {
     "data": {
      "image/png": "[encoded data removed]",
      "text/plain": [
       "<Figure size 432x288 with 1 Axes>"
      ]
     },
     "metadata": {
      "needs_background": "light"
     },
     "output_type": "display_data"
    }
   ],
   "source": [
    "#check Heat range / frequency\n",
    "plt.hist(df_weather_data['Heat']);\n",
    "ax = plt.gca();\n",
    "ax.set_title('Heat Distribution');\n",
    "ax.set_xlabel('Heat');\n",
    "ax.set_ylabel('Frequency');"
   ]
  },
  {
   "cell_type": "markdown",
   "id": "3932626d",
   "metadata": {},
   "source": [
    "**Cool Column:**"
   ]
  },
  {
   "cell_type": "code",
   "execution_count": 87,
   "id": "3ccc224e",
   "metadata": {},
   "outputs": [
    {
     "data": {
      "text/plain": [
       " 0    922\n",
       " 8    124\n",
       " 5     99\n",
       " 7     92\n",
       " 9     84\n",
       " 3     83\n",
       " 6     82\n",
       " 4     82\n",
       " 1     73\n",
       " 2     71\n",
       "M       6\n",
       "Name: Cool, dtype: int64"
      ]
     },
     "execution_count": 87,
     "metadata": {},
     "output_type": "execute_result"
    }
   ],
   "source": [
    "#check non-numeric values\n",
    "df_weather_data[~ df_weather_data['Cool'].str.isnumeric()]['Cool'].value_counts()"
   ]
  },
  {
   "cell_type": "code",
   "execution_count": 88,
   "id": "354c2fe0",
   "metadata": {},
   "outputs": [
    {
     "data": {
      "text/plain": [
       "M    6\n",
       "Name: Cool, dtype: int64"
      ]
     },
     "execution_count": 88,
     "metadata": {},
     "output_type": "execute_result"
    }
   ],
   "source": [
    "#remove whitespace and re-check non-numeric values\n",
    "df_weather_data['Cool'] = df_weather_data['Cool'].str.strip()\n",
    "df_weather_data[~ df_weather_data['Cool'].str.isnumeric()]['Cool'].value_counts()"
   ]
  },
  {
   "cell_type": "code",
   "execution_count": 89,
   "id": "41dcd403",
   "metadata": {},
   "outputs": [],
   "source": [
    "#convert Cool to numeric ('M' will become nan)\n",
    "df_weather_data['Cool'] = pd.to_numeric(df_weather_data['Cool'], errors='coerce')"
   ]
  },
  {
   "cell_type": "markdown",
   "id": "edb310ab",
   "metadata": {},
   "source": [
    "Cooling degree days are calculated by subtracting a base temperature of 65 from the average temperature. Any values less than 0 should be set equal to 0. This will be used to impute the missing values."
   ]
  },
  {
   "cell_type": "code",
   "execution_count": 90,
   "id": "2e8f9a6e",
   "metadata": {},
   "outputs": [],
   "source": [
    "#impute missing Cool values\n",
    "df_weather_data.loc[df_weather_data['Cool'].isna(), 'Cool'] = \\\n",
    "    df_weather_data.loc[df_weather_data['Cool'].isna()].apply(lambda df : max(0, df['Tavg'] - 65), axis=1)"
   ]
  },
  {
   "cell_type": "code",
   "execution_count": 91,
   "id": "610f3278",
   "metadata": {},
   "outputs": [],
   "source": [
    "#convert to int\n",
    "df_weather_data['Cool'] = df_weather_data['Cool'].astype(np.int64)"
   ]
  },
  {
   "cell_type": "code",
   "execution_count": 92,
   "id": "cadd5995",
   "metadata": {},
   "outputs": [
    {
     "data": {
      "image/png": "[encoded data removed]",
      "text/plain": [
       "<Figure size 432x288 with 1 Axes>"
      ]
     },
     "metadata": {
      "needs_background": "light"
     },
     "output_type": "display_data"
    }
   ],
   "source": [
    "#check Cool range / frequency\n",
    "plt.hist(df_weather_data['Cool']);\n",
    "ax = plt.gca();\n",
    "ax.set_title('Cool Distribution');\n",
    "ax.set_xlabel('Cool');\n",
    "ax.set_ylabel('Frequency');"
   ]
  },
  {
   "cell_type": "markdown",
   "id": "f157d2c5",
   "metadata": {},
   "source": [
    "**Sunrise Column:**"
   ]
  },
  {
   "cell_type": "code",
   "execution_count": 93,
   "id": "5cd3e2f6",
   "metadata": {},
   "outputs": [
    {
     "data": {
      "text/html": [
       "<div>\n",
       "<style scoped>\n",
       "    .dataframe tbody tr th:only-of-type {\n",
       "        vertical-align: middle;\n",
       "    }\n",
       "\n",
       "    .dataframe tbody tr th {\n",
       "        vertical-align: top;\n",
       "    }\n",
       "\n",
       "    .dataframe thead th {\n",
       "        text-align: right;\n",
       "    }\n",
       "</style>\n",
       "<table border=\"1\" class=\"dataframe\">\n",
       "  <thead>\n",
       "    <tr style=\"text-align: right;\">\n",
       "      <th></th>\n",
       "      <th>Date</th>\n",
       "      <th>Station</th>\n",
       "      <th>Sunrise</th>\n",
       "    </tr>\n",
       "  </thead>\n",
       "  <tbody>\n",
       "    <tr>\n",
       "      <th>57</th>\n",
       "      <td>2007-05-29</td>\n",
       "      <td>2</td>\n",
       "      <td>-</td>\n",
       "    </tr>\n",
       "    <tr>\n",
       "      <th>59</th>\n",
       "      <td>2007-05-30</td>\n",
       "      <td>2</td>\n",
       "      <td>-</td>\n",
       "    </tr>\n",
       "    <tr>\n",
       "      <th>61</th>\n",
       "      <td>2007-05-31</td>\n",
       "      <td>2</td>\n",
       "      <td>-</td>\n",
       "    </tr>\n",
       "    <tr>\n",
       "      <th>63</th>\n",
       "      <td>2007-06-01</td>\n",
       "      <td>2</td>\n",
       "      <td>-</td>\n",
       "    </tr>\n",
       "    <tr>\n",
       "      <th>65</th>\n",
       "      <td>2007-06-02</td>\n",
       "      <td>2</td>\n",
       "      <td>-</td>\n",
       "    </tr>\n",
       "  </tbody>\n",
       "</table>\n",
       "</div>"
      ],
      "text/plain": [
       "         Date  Station Sunrise\n",
       "57 2007-05-29        2       -\n",
       "59 2007-05-30        2       -\n",
       "61 2007-05-31        2       -\n",
       "63 2007-06-01        2       -\n",
       "65 2007-06-02        2       -"
      ]
     },
     "execution_count": 93,
     "metadata": {},
     "output_type": "execute_result"
    }
   ],
   "source": [
    "#check non numeric values\n",
    "df_weather_data[~ df_weather_data['Sunrise'].str.isnumeric()][['Date','Station','Sunrise']].head()"
   ]
  },
  {
   "cell_type": "markdown",
   "id": "fbf76be8",
   "metadata": {},
   "source": [
    "It looks like Station 2 does not record Sunrise values."
   ]
  },
  {
   "cell_type": "code",
   "execution_count": 94,
   "id": "bf5f22f9",
   "metadata": {},
   "outputs": [
    {
     "name": "stdout",
     "output_type": "stream",
     "text": [
      "Station 1 Value Counts:\n",
      "Series([], Name: Sunrise, dtype: int64)\n",
      "\n",
      "Station 2 Value Counts:\n",
      "-    1225\n",
      "Name: Sunrise, dtype: int64\n"
     ]
    }
   ],
   "source": [
    "#check if station 1 has any missing values\n",
    "print('Station 1 Value Counts:')\n",
    "print(df_weather_data[(df_weather_data['Station'] == 1) & (df_weather_data['Sunrise'].isna())]['Sunrise'].value_counts())\n",
    "\n",
    "#check if station 2 has any non-missing values\n",
    "print('\\nStation 2 Value Counts:')\n",
    "print(df_weather_data[df_weather_data['Station'] == 2]['Sunrise'].value_counts())"
   ]
  },
  {
   "cell_type": "markdown",
   "id": "41c31c7a",
   "metadata": {},
   "source": [
    "Station 1 is not missing any Sunrise values. Station 2 does not record Sunrise values. The two stations are roughly 16 miles apart. Threfore, it should be safe to impute Station 2 Sunrise values from Station 1."
   ]
  },
  {
   "cell_type": "code",
   "execution_count": 95,
   "id": "ecfe9ece",
   "metadata": {},
   "outputs": [],
   "source": [
    "#convert missing values to NaN\n",
    "df_weather_data['Sunrise'] = df_weather_data['Sunrise'].replace('-',np.nan)"
   ]
  },
  {
   "cell_type": "code",
   "execution_count": 96,
   "id": "0c4eaeb6",
   "metadata": {},
   "outputs": [],
   "source": [
    "#impute Station 2 Sunrise values using Station 1\n",
    "nan_indices = df_weather_data[df_weather_data['Sunrise'].isna()].index\n",
    "df_weather_data.loc[nan_indices,'Sunrise'] = \\\n",
    "    df_weather_data.groupby('Date')['Sunrise'].transform('first').loc[nan_indices]"
   ]
  },
  {
   "cell_type": "markdown",
   "id": "001f746d",
   "metadata": {},
   "source": [
    "**Sunset Column:**"
   ]
  },
  {
   "cell_type": "code",
   "execution_count": 97,
   "id": "c95bae9e",
   "metadata": {},
   "outputs": [
    {
     "data": {
      "text/html": [
       "<div>\n",
       "<style scoped>\n",
       "    .dataframe tbody tr th:only-of-type {\n",
       "        vertical-align: middle;\n",
       "    }\n",
       "\n",
       "    .dataframe tbody tr th {\n",
       "        vertical-align: top;\n",
       "    }\n",
       "\n",
       "    .dataframe thead th {\n",
       "        text-align: right;\n",
       "    }\n",
       "</style>\n",
       "<table border=\"1\" class=\"dataframe\">\n",
       "  <thead>\n",
       "    <tr style=\"text-align: right;\">\n",
       "      <th></th>\n",
       "      <th>Date</th>\n",
       "      <th>Station</th>\n",
       "      <th>Sunset</th>\n",
       "    </tr>\n",
       "  </thead>\n",
       "  <tbody>\n",
       "    <tr>\n",
       "      <th>57</th>\n",
       "      <td>2007-05-29</td>\n",
       "      <td>2</td>\n",
       "      <td>-</td>\n",
       "    </tr>\n",
       "    <tr>\n",
       "      <th>59</th>\n",
       "      <td>2007-05-30</td>\n",
       "      <td>2</td>\n",
       "      <td>-</td>\n",
       "    </tr>\n",
       "    <tr>\n",
       "      <th>61</th>\n",
       "      <td>2007-05-31</td>\n",
       "      <td>2</td>\n",
       "      <td>-</td>\n",
       "    </tr>\n",
       "    <tr>\n",
       "      <th>63</th>\n",
       "      <td>2007-06-01</td>\n",
       "      <td>2</td>\n",
       "      <td>-</td>\n",
       "    </tr>\n",
       "    <tr>\n",
       "      <th>65</th>\n",
       "      <td>2007-06-02</td>\n",
       "      <td>2</td>\n",
       "      <td>-</td>\n",
       "    </tr>\n",
       "  </tbody>\n",
       "</table>\n",
       "</div>"
      ],
      "text/plain": [
       "         Date  Station Sunset\n",
       "57 2007-05-29        2      -\n",
       "59 2007-05-30        2      -\n",
       "61 2007-05-31        2      -\n",
       "63 2007-06-01        2      -\n",
       "65 2007-06-02        2      -"
      ]
     },
     "execution_count": 97,
     "metadata": {},
     "output_type": "execute_result"
    }
   ],
   "source": [
    "#check non numeric values\n",
    "df_weather_data[~ df_weather_data['Sunset'].str.isnumeric()][['Date','Station','Sunset']].head()"
   ]
  },
  {
   "cell_type": "markdown",
   "id": "f8882140",
   "metadata": {},
   "source": [
    "Similar to Sunrise, Station 2 appears not to record Sunset values."
   ]
  },
  {
   "cell_type": "code",
   "execution_count": 98,
   "id": "6c31acc4",
   "metadata": {},
   "outputs": [
    {
     "data": {
      "text/plain": [
       "Station\n",
       "2          1225\n",
       "dtype: int64"
      ]
     },
     "execution_count": 98,
     "metadata": {},
     "output_type": "execute_result"
    }
   ],
   "source": [
    "#verify that all missing Sunset values are from station 2\n",
    "df_weather_data[~ df_weather_data['Sunset'].str.isnumeric()][['Station']].value_counts()"
   ]
  },
  {
   "cell_type": "markdown",
   "id": "ebeb54eb",
   "metadata": {},
   "source": [
    "Station 1 is not missing any Sunset values. Station 2 does not record Sunset values. The two stations are roughly 16 miles apart. Threfore, it should be safe to impute Station 2 Sunset values from Station 1."
   ]
  },
  {
   "cell_type": "code",
   "execution_count": 99,
   "id": "482c7ada",
   "metadata": {},
   "outputs": [],
   "source": [
    "#convert missing values to NaN\n",
    "df_weather_data['Sunset'] = df_weather_data['Sunset'].replace('-',np.nan)"
   ]
  },
  {
   "cell_type": "code",
   "execution_count": 100,
   "id": "fa3dc38c",
   "metadata": {},
   "outputs": [],
   "source": [
    "#impute Station 2 Sunset values using Station 1\n",
    "nan_indices = df_weather_data[df_weather_data['Sunset'].isna()].index\n",
    "df_weather_data.loc[nan_indices,['Sunset']] = \\\n",
    "    df_weather_data.groupby('Date')['Sunset'].transform('first').loc[nan_indices]"
   ]
  },
  {
   "cell_type": "markdown",
   "id": "3e39988d",
   "metadata": {},
   "source": [
    "**WeatherCode Column:**"
   ]
  },
  {
   "cell_type": "code",
   "execution_count": 101,
   "id": "f62cb878",
   "metadata": {},
   "outputs": [],
   "source": [
    "#change name of CodeSum column to WeatherCode\n",
    "df_weather_data = df_weather_data.rename(columns={'CodeSum':'WeatherCode'})"
   ]
  },
  {
   "cell_type": "code",
   "execution_count": 102,
   "id": "e2f1ec6e",
   "metadata": {},
   "outputs": [
    {
     "data": {
      "text/plain": [
       "                   1355\n",
       "RA                  243\n",
       "RA BR               195\n",
       "BR                   92\n",
       "TSRA RA BR           79\n",
       "                   ... \n",
       "RA BR HZ VCFG         1\n",
       "BR HZ VCFG            1\n",
       "RA FG+ BR             1\n",
       "TS TSRA RA VCTS       1\n",
       "RA FG+ MIFG BR        1\n",
       "Name: WeatherCode, Length: 90, dtype: int64"
      ]
     },
     "execution_count": 102,
     "metadata": {},
     "output_type": "execute_result"
    }
   ],
   "source": [
    "#inspect WeatherCode column\n",
    "df_weather_data['WeatherCode'].value_counts()"
   ]
  },
  {
   "cell_type": "code",
   "execution_count": 103,
   "id": "1ca9ab6e",
   "metadata": {},
   "outputs": [
    {
     "data": {
      "text/plain": [
       "0.5530612244897959"
      ]
     },
     "execution_count": 103,
     "metadata": {},
     "output_type": "execute_result"
    }
   ],
   "source": [
    "#what proportion of rows contain a blank string?\n",
    "(df_weather_data['WeatherCode'].str.strip().str.len() == 0).sum() / df_weather_data.shape[0]"
   ]
  },
  {
   "cell_type": "markdown",
   "id": "a7a62a6e",
   "metadata": {},
   "source": [
    "Over half the values are blank - this column can be dropped"
   ]
  },
  {
   "cell_type": "code",
   "execution_count": 104,
   "id": "904baa73",
   "metadata": {},
   "outputs": [],
   "source": [
    "#drop WeatherCode\n",
    "df_weather_data.drop(columns='WeatherCode', inplace=True)"
   ]
  },
  {
   "cell_type": "markdown",
   "id": "aee0d326",
   "metadata": {},
   "source": [
    "**SnowIceDepth Column:**"
   ]
  },
  {
   "cell_type": "code",
   "execution_count": 105,
   "id": "d627e479",
   "metadata": {},
   "outputs": [],
   "source": [
    "#rename Depth column to SnowIceDepth\n",
    "df_weather_data.rename(columns={'Depth':'SnowIceDepth'}, inplace=True)"
   ]
  },
  {
   "cell_type": "code",
   "execution_count": 106,
   "id": "72fb1333",
   "metadata": {},
   "outputs": [
    {
     "data": {
      "text/plain": [
       "M    1225\n",
       "0    1225\n",
       "Name: SnowIceDepth, dtype: int64"
      ]
     },
     "execution_count": 106,
     "metadata": {},
     "output_type": "execute_result"
    }
   ],
   "source": [
    "#check SnowIceDepth values\n",
    "df_weather_data['SnowIceDepth'].value_counts()"
   ]
  },
  {
   "cell_type": "markdown",
   "id": "baea2f04",
   "metadata": {},
   "source": [
    "Half the values are missing. The other half are equal to zero. Therefore, this column offers no useful information and can be dropped."
   ]
  },
  {
   "cell_type": "code",
   "execution_count": 107,
   "id": "2a94e20f",
   "metadata": {},
   "outputs": [],
   "source": [
    "#drop the column\n",
    "df_weather_data.drop('SnowIceDepth', axis=1, inplace=True)"
   ]
  },
  {
   "cell_type": "markdown",
   "id": "8b47ea46",
   "metadata": {},
   "source": [
    "**Water1 Column:**"
   ]
  },
  {
   "cell_type": "code",
   "execution_count": 108,
   "id": "dde07a40",
   "metadata": {},
   "outputs": [
    {
     "data": {
      "text/plain": [
       "M    2450\n",
       "Name: Water1, dtype: int64"
      ]
     },
     "execution_count": 108,
     "metadata": {},
     "output_type": "execute_result"
    }
   ],
   "source": [
    "#check Water1 values\n",
    "df_weather_data['Water1'].value_counts()"
   ]
  },
  {
   "cell_type": "markdown",
   "id": "1a461c0a",
   "metadata": {},
   "source": [
    "All the values are missing. Therefore, this column offers no useful information and can be dropped."
   ]
  },
  {
   "cell_type": "code",
   "execution_count": 109,
   "id": "ce3ea6d5",
   "metadata": {},
   "outputs": [],
   "source": [
    "#drop the column\n",
    "df_weather_data.drop('Water1', axis=1, inplace=True)"
   ]
  },
  {
   "cell_type": "markdown",
   "id": "34e7d5ce",
   "metadata": {},
   "source": [
    "**SnowFall Column:**"
   ]
  },
  {
   "cell_type": "code",
   "execution_count": 110,
   "id": "e432ffc6",
   "metadata": {},
   "outputs": [
    {
     "data": {
      "text/plain": [
       "M      1225\n",
       "0.0    1216\n",
       "  T       9\n",
       "Name: SnowFall, dtype: int64"
      ]
     },
     "execution_count": 110,
     "metadata": {},
     "output_type": "execute_result"
    }
   ],
   "source": [
    "#check SnowFall values\n",
    "df_weather_data['SnowFall'].value_counts()"
   ]
  },
  {
   "cell_type": "markdown",
   "id": "62b68251",
   "metadata": {},
   "source": [
    "All SnowFall values are either missing or equal to zero, with the exception of nine values labeled 'T' (for Trace Amount). There is not enough significant data to keep this column. Therefore, it can be dropped. "
   ]
  },
  {
   "cell_type": "code",
   "execution_count": 111,
   "id": "8da8ce30",
   "metadata": {},
   "outputs": [],
   "source": [
    "#drop the column\n",
    "df_weather_data.drop('SnowFall', axis=1, inplace=True)"
   ]
  },
  {
   "cell_type": "markdown",
   "id": "81fce8e1",
   "metadata": {},
   "source": [
    "**PrecipTotal Column:**"
   ]
  },
  {
   "cell_type": "code",
   "execution_count": 112,
   "id": "6ed85239",
   "metadata": {},
   "outputs": [
    {
     "data": {
      "text/plain": [
       "0.00    1329\n",
       "  T      260\n",
       "0.01      99\n",
       "0.02      53\n",
       "0.03      38\n",
       "        ... \n",
       "0.91       1\n",
       "1.88       1\n",
       "1.11       1\n",
       "1.22       1\n",
       "1.38       1\n",
       "Name: PrecipTotal, Length: 154, dtype: int64"
      ]
     },
     "execution_count": 112,
     "metadata": {},
     "output_type": "execute_result"
    }
   ],
   "source": [
    "#check PrecipTotal values\n",
    "df_weather_data['PrecipTotal'].value_counts()"
   ]
  },
  {
   "cell_type": "code",
   "execution_count": 113,
   "id": "6424c814",
   "metadata": {},
   "outputs": [],
   "source": [
    "#function to check if a string value can be converted to float\n",
    "def is_float(x):\n",
    "    try:\n",
    "        float(x)\n",
    "        return True\n",
    "    except ValueError:\n",
    "        return False"
   ]
  },
  {
   "cell_type": "code",
   "execution_count": 114,
   "id": "1ffc8428",
   "metadata": {},
   "outputs": [
    {
     "data": {
      "text/plain": [
       "  T    260\n",
       "M        2\n",
       "Name: PrecipTotal, dtype: int64"
      ]
     },
     "execution_count": 114,
     "metadata": {},
     "output_type": "execute_result"
    }
   ],
   "source": [
    "#check non float values\n",
    "df_weather_data[ ~ df_weather_data['PrecipTotal'].apply(lambda x : is_float(x))]['PrecipTotal'].value_counts()"
   ]
  },
  {
   "cell_type": "markdown",
   "id": "28f5365f",
   "metadata": {},
   "source": [
    "'T' represents trace amounts of precipitation. This will be replaced by the value that is halfway between zero and the minimum non-zero PrecipTotal value.\n",
    "\n",
    "'M' (missing values) will be replaced with the most frequent value."
   ]
  },
  {
   "cell_type": "code",
   "execution_count": 115,
   "id": "714c7164",
   "metadata": {},
   "outputs": [],
   "source": [
    "#replace 'T' with the value halfway between zero and the minimum non-zero PrecipTotal value\n",
    "\n",
    "#get the unique PrecipTotal float values\n",
    "unq_float_vals = \\\n",
    "    df_weather_data[df_weather_data['PrecipTotal'].apply(lambda x : is_float(x))]['PrecipTotal'].unique()\n",
    "\n",
    "#get the minimum non-zero PrecipTotal value\n",
    "min_float_val = float(np.delete(unq_float_vals, 0).min())\n",
    "\n",
    "#impute values where PrecipTotal = 'T'\n",
    "df_weather_data.loc[df_weather_data['PrecipTotal'].str.strip() == 'T','PrecipTotal'] = \\\n",
    "    np.mean([min_float_val,0.0])\n"
   ]
  },
  {
   "cell_type": "code",
   "execution_count": 116,
   "id": "4f6e8648",
   "metadata": {},
   "outputs": [],
   "source": [
    "#impute missing ('M') values using the most frequent value\n",
    "df_weather_data.loc[df_weather_data['PrecipTotal'].str.strip() == 'M','PrecipTotal'] = \\\n",
    "    df_weather_data['PrecipTotal'].mode().iloc[0]"
   ]
  },
  {
   "cell_type": "code",
   "execution_count": 117,
   "id": "da99ca73",
   "metadata": {},
   "outputs": [],
   "source": [
    "#convert PrecipTotal to float\n",
    "df_weather_data['PrecipTotal'] = df_weather_data['PrecipTotal'].astype(float)"
   ]
  },
  {
   "cell_type": "markdown",
   "id": "f743c541",
   "metadata": {},
   "source": [
    "**StnPressure Column:**"
   ]
  },
  {
   "cell_type": "code",
   "execution_count": 118,
   "id": "de6e8cb1",
   "metadata": {},
   "outputs": [
    {
     "data": {
      "text/plain": [
       "29.34    107\n",
       "29.28    105\n",
       "29.26    101\n",
       "29.21     91\n",
       "29.23     88\n",
       "        ... \n",
       "28.75      1\n",
       "28.55      1\n",
       "28.74      1\n",
       "29.71      1\n",
       "29.86      1\n",
       "Name: StnPressure, Length: 101, dtype: int64"
      ]
     },
     "execution_count": 118,
     "metadata": {},
     "output_type": "execute_result"
    }
   ],
   "source": [
    "#check StnPressure value counts\n",
    "df_weather_data['StnPressure'].value_counts()"
   ]
  },
  {
   "cell_type": "code",
   "execution_count": 119,
   "id": "5e714592",
   "metadata": {},
   "outputs": [
    {
     "data": {
      "text/plain": [
       "87      M\n",
       "848     M\n",
       "2410    M\n",
       "2411    M\n",
       "Name: StnPressure, dtype: object"
      ]
     },
     "execution_count": 119,
     "metadata": {},
     "output_type": "execute_result"
    }
   ],
   "source": [
    "#inspect non float values\n",
    "df_weather_data[~ df_weather_data['StnPressure'].apply(is_float)]['StnPressure']"
   ]
  },
  {
   "cell_type": "code",
   "execution_count": 120,
   "id": "0eaefe18",
   "metadata": {},
   "outputs": [],
   "source": [
    "#convert StnPressure to numeric - missing values will become NaN\n",
    "df_weather_data['StnPressure'] = pd.to_numeric(df_weather_data['StnPressure'], errors='coerce')"
   ]
  },
  {
   "cell_type": "code",
   "execution_count": 121,
   "id": "8d79f4e8",
   "metadata": {},
   "outputs": [],
   "source": [
    "#impute missing values with the mean for each station\n",
    "\n",
    "#station 1\n",
    "stn_mean = df_weather_data.loc[df_weather_data['Station'] == 1, 'StnPressure'].mean()\n",
    "df_weather_data.loc[df_weather_data['Station'] == 1, 'StnPressure'] = \\\n",
    "    df_weather_data.fillna(value= round(stn_mean,2))\n",
    "\n",
    "#station 2\n",
    "stn_mean = df_weather_data.loc[df_weather_data['Station'] == 2, 'StnPressure'].mean()\n",
    "df_weather_data.loc[df_weather_data['Station'] == 2, 'StnPressure'] = \\\n",
    "    df_weather_data.fillna(value= round(stn_mean,2))"
   ]
  },
  {
   "cell_type": "markdown",
   "id": "c3b15a8f",
   "metadata": {},
   "source": [
    "**SeaLevel Column:**"
   ]
  },
  {
   "cell_type": "markdown",
   "id": "7433a225",
   "metadata": {},
   "source": [
    "The SeaLevel column can be dropped. The pressure at sea level is not relevant - we will look at the pressure measured at the weather stations"
   ]
  },
  {
   "cell_type": "code",
   "execution_count": 122,
   "id": "a63e6b28",
   "metadata": {},
   "outputs": [],
   "source": [
    "df_weather_data.drop('SeaLevel', axis=1,inplace=True)"
   ]
  },
  {
   "cell_type": "markdown",
   "id": "12d81bc9",
   "metadata": {},
   "source": [
    "**ResultSpeed Column:**"
   ]
  },
  {
   "cell_type": "code",
   "execution_count": 123,
   "id": "50a7aa62",
   "metadata": {},
   "outputs": [
    {
     "data": {
      "image/png": "[encoded data removed]",
      "text/plain": [
       "<Figure size 432x288 with 1 Axes>"
      ]
     },
     "metadata": {
      "needs_background": "light"
     },
     "output_type": "display_data"
    }
   ],
   "source": [
    "#check ResultSpeed range / frequency\n",
    "plt.hist(df_weather_data['ResultSpeed']);\n",
    "ax = plt.gca();\n",
    "ax.set_title('ResultSpeed Distribution');\n",
    "ax.set_xlabel('ResultSpeed');\n",
    "ax.set_ylabel('Frequency');"
   ]
  },
  {
   "cell_type": "markdown",
   "id": "747f549e",
   "metadata": {},
   "source": [
    "**ResultDir Column:**"
   ]
  },
  {
   "cell_type": "code",
   "execution_count": 124,
   "id": "febcffd7",
   "metadata": {},
   "outputs": [
    {
     "data": {
      "image/png": "[encoded data removed]",
      "text/plain": [
       "<Figure size 432x288 with 1 Axes>"
      ]
     },
     "metadata": {
      "needs_background": "light"
     },
     "output_type": "display_data"
    }
   ],
   "source": [
    "#check ResultDir range / frequency\n",
    "plt.hist(df_weather_data['ResultDir']);\n",
    "ax = plt.gca();\n",
    "ax.set_title('ResultDir Distribution');\n",
    "ax.set_xlabel('ResultDir');\n",
    "ax.set_ylabel('Frequency');"
   ]
  },
  {
   "cell_type": "markdown",
   "id": "e9392c0e",
   "metadata": {},
   "source": [
    "**AvgSpeed Column:**"
   ]
  },
  {
   "cell_type": "code",
   "execution_count": 125,
   "id": "30a65ae5",
   "metadata": {},
   "outputs": [
    {
     "data": {
      "text/plain": [
       "6.9     54\n",
       "5.8     52\n",
       "7.4     47\n",
       "7.0     44\n",
       "8.1     42\n",
       "        ..\n",
       "17.6     1\n",
       "15.9     1\n",
       "19.9     1\n",
       "17.1     1\n",
       "19.3     1\n",
       "Name: AvgSpeed, Length: 172, dtype: int64"
      ]
     },
     "execution_count": 125,
     "metadata": {},
     "output_type": "execute_result"
    }
   ],
   "source": [
    "#check StnPressure value counts\n",
    "df_weather_data['AvgSpeed'].value_counts()"
   ]
  },
  {
   "cell_type": "code",
   "execution_count": 126,
   "id": "9a2b158b",
   "metadata": {},
   "outputs": [
    {
     "data": {
      "text/plain": [
       "87      M\n",
       "1745    M\n",
       "2067    M\n",
       "Name: AvgSpeed, dtype: object"
      ]
     },
     "execution_count": 126,
     "metadata": {},
     "output_type": "execute_result"
    }
   ],
   "source": [
    "#inspect non float values\n",
    "df_weather_data[~ df_weather_data['AvgSpeed'].apply(is_float)]['AvgSpeed']"
   ]
  },
  {
   "cell_type": "code",
   "execution_count": 127,
   "id": "68f0e366",
   "metadata": {},
   "outputs": [],
   "source": [
    "#convert to float - 'M' values will become nan\n",
    "df_weather_data['AvgSpeed'] = pd.to_numeric(df_weather_data['AvgSpeed'], errors='coerce')"
   ]
  },
  {
   "cell_type": "code",
   "execution_count": 128,
   "id": "1ed7da03",
   "metadata": {},
   "outputs": [
    {
     "name": "stdout",
     "output_type": "stream",
     "text": [
      "Average difference in AvgSpeed between Staton 1 and Station 2: 0.7809328968903436\n"
     ]
    }
   ],
   "source": [
    "#check the AvgSpeed difference between Station 1 and Station 2\n",
    "print(\n",
    "    'Average difference in AvgSpeed between Staton 1 and Station 2:',\n",
    "    df_weather_data.groupby('Date')['AvgSpeed'].diff().abs().mean()\n",
    ")"
   ]
  },
  {
   "cell_type": "markdown",
   "id": "1c48a107",
   "metadata": {},
   "source": [
    "Since the diference in AvgSpeed between the two stations tends to be small, the missing values can be imputed using the value recorded at the other station on a given day."
   ]
  },
  {
   "cell_type": "code",
   "execution_count": 129,
   "id": "a4ac07a7",
   "metadata": {},
   "outputs": [],
   "source": [
    "#impute the missing AvgSpeed values\n",
    "\n",
    "#get dates for the missing values\n",
    "nan_dates = df_weather_data[df_weather_data['AvgSpeed'].isna()]['Date']\n",
    "\n",
    "#get the update values\n",
    "updates = df_weather_data[df_weather_data['Date'].isin(nan_dates)].groupby('Date')['AvgSpeed'].transform('first')\n",
    "\n",
    "#impute the missing values\n",
    "df_weather_data.loc[df_weather_data['AvgSpeed'].isna(),'AvgSpeed'] = updates"
   ]
  },
  {
   "cell_type": "markdown",
   "id": "64876e0c",
   "metadata": {},
   "source": [
    "**Final Column Adjustments:**"
   ]
  },
  {
   "cell_type": "code",
   "execution_count": 130,
   "id": "8072bf95",
   "metadata": {},
   "outputs": [],
   "source": [
    "#update Depart, DewPoint, WetBulb, Heat, Cool, ResultSpeed, ResultDir, and AvgSpeed column names\n",
    "updates = {\n",
    "    'Depart':'Tdepart',\n",
    "    'DewPoint':'Tdew_point',\n",
    "    'WetBulb':'Twet_bulb',\n",
    "    'Heat':'HeatDegDay',\n",
    "    'Cool':'CoolDegDay',\n",
    "    'ResultSpeed':'Wind_ResultSpeed',\n",
    "    'ResultDir':'Wind_ResultDir',\n",
    "    'AvgSpeed':'Wind_AvgSpeed'\n",
    "}\n",
    "df_weather_data.rename(columns=updates, inplace=True)"
   ]
  },
  {
   "cell_type": "code",
   "execution_count": 131,
   "id": "38a05e0d",
   "metadata": {},
   "outputs": [],
   "source": [
    "#convert Station to a categorical column\n",
    "df_weather_data['Station'] = df_weather_data['Station'] = df_weather_data['Station'].astype('category')"
   ]
  },
  {
   "cell_type": "markdown",
   "id": "fd7aa4a7",
   "metadata": {},
   "source": [
    "**Create separate columns for each station so that each Date has a single row:**"
   ]
  },
  {
   "cell_type": "code",
   "execution_count": 132,
   "id": "8cf83fe9",
   "metadata": {},
   "outputs": [],
   "source": [
    "#create columns for each weather stations\n",
    "station1 = df_weather_data[df_weather_data['Station'] == 1].drop(columns='Station')\n",
    "station2 = df_weather_data[df_weather_data['Station'] == 2].drop(columns='Station')\n",
    "df_weather_data = pd.merge(station1,station2, on='Date', suffixes=['_1','_2'])"
   ]
  },
  {
   "cell_type": "code",
   "execution_count": 133,
   "id": "0780898b",
   "metadata": {},
   "outputs": [
    {
     "name": "stdout",
     "output_type": "stream",
     "text": [
      "<class 'pandas.core.frame.DataFrame'>\n",
      "Int64Index: 1225 entries, 0 to 1224\n",
      "Data columns (total 31 columns):\n",
      " #   Column              Non-Null Count  Dtype         \n",
      "---  ------              --------------  -----         \n",
      " 0   Date                1225 non-null   datetime64[ns]\n",
      " 1   Tmax_1              1225 non-null   int64         \n",
      " 2   Tmin_1              1225 non-null   int64         \n",
      " 3   Tavg_1              1225 non-null   int64         \n",
      " 4   Tdepart_1           1225 non-null   int64         \n",
      " 5   Tdew_point_1        1225 non-null   int64         \n",
      " 6   Twet_bulb_1         1225 non-null   int64         \n",
      " 7   HeatDegDay_1        1225 non-null   int64         \n",
      " 8   CoolDegDay_1        1225 non-null   int64         \n",
      " 9   Sunrise_1           1225 non-null   object        \n",
      " 10  Sunset_1            1225 non-null   object        \n",
      " 11  PrecipTotal_1       1225 non-null   float64       \n",
      " 12  StnPressure_1       1225 non-null   float64       \n",
      " 13  Wind_ResultSpeed_1  1225 non-null   float64       \n",
      " 14  Wind_ResultDir_1    1225 non-null   int64         \n",
      " 15  Wind_AvgSpeed_1     1225 non-null   float64       \n",
      " 16  Tmax_2              1225 non-null   int64         \n",
      " 17  Tmin_2              1225 non-null   int64         \n",
      " 18  Tavg_2              1225 non-null   int64         \n",
      " 19  Tdepart_2           1225 non-null   int64         \n",
      " 20  Tdew_point_2        1225 non-null   int64         \n",
      " 21  Twet_bulb_2         1225 non-null   int64         \n",
      " 22  HeatDegDay_2        1225 non-null   int64         \n",
      " 23  CoolDegDay_2        1225 non-null   int64         \n",
      " 24  Sunrise_2           1225 non-null   object        \n",
      " 25  Sunset_2            1225 non-null   object        \n",
      " 26  PrecipTotal_2       1225 non-null   float64       \n",
      " 27  StnPressure_2       1225 non-null   float64       \n",
      " 28  Wind_ResultSpeed_2  1225 non-null   float64       \n",
      " 29  Wind_ResultDir_2    1225 non-null   int64         \n",
      " 30  Wind_AvgSpeed_2     1225 non-null   float64       \n",
      "dtypes: datetime64[ns](1), float64(8), int64(18), object(4)\n",
      "memory usage: 306.2+ KB\n"
     ]
    }
   ],
   "source": [
    "#check the info for the updated columns\n",
    "df_weather_data.info()"
   ]
  },
  {
   "cell_type": "code",
   "execution_count": 134,
   "id": "b4272b98",
   "metadata": {},
   "outputs": [
    {
     "data": {
      "text/html": [
       "<div>\n",
       "<style scoped>\n",
       "    .dataframe tbody tr th:only-of-type {\n",
       "        vertical-align: middle;\n",
       "    }\n",
       "\n",
       "    .dataframe tbody tr th {\n",
       "        vertical-align: top;\n",
       "    }\n",
       "\n",
       "    .dataframe thead th {\n",
       "        text-align: right;\n",
       "    }\n",
       "</style>\n",
       "<table border=\"1\" class=\"dataframe\">\n",
       "  <thead>\n",
       "    <tr style=\"text-align: right;\">\n",
       "      <th></th>\n",
       "      <th>count</th>\n",
       "      <th>mean</th>\n",
       "      <th>min</th>\n",
       "      <th>25%</th>\n",
       "      <th>50%</th>\n",
       "      <th>75%</th>\n",
       "      <th>max</th>\n",
       "      <th>std</th>\n",
       "    </tr>\n",
       "  </thead>\n",
       "  <tbody>\n",
       "    <tr>\n",
       "      <th>Date</th>\n",
       "      <td>1225</td>\n",
       "      <td>2010-07-25 00:59:57.061224704</td>\n",
       "      <td>2007-05-29 00:00:00</td>\n",
       "      <td>2008-09-28 00:00:00</td>\n",
       "      <td>2010-07-28 00:00:00</td>\n",
       "      <td>2012-05-27 00:00:00</td>\n",
       "      <td>2013-09-26 00:00:00</td>\n",
       "      <td>NaN</td>\n",
       "    </tr>\n",
       "    <tr>\n",
       "      <th>Tmax_1</th>\n",
       "      <td>1225.0</td>\n",
       "      <td>76.548571</td>\n",
       "      <td>44.0</td>\n",
       "      <td>69.0</td>\n",
       "      <td>79.0</td>\n",
       "      <td>85.0</td>\n",
       "      <td>103.0</td>\n",
       "      <td>11.446</td>\n",
       "    </tr>\n",
       "    <tr>\n",
       "      <th>Tmin_1</th>\n",
       "      <td>1225.0</td>\n",
       "      <td>57.364898</td>\n",
       "      <td>29.0</td>\n",
       "      <td>50.0</td>\n",
       "      <td>59.0</td>\n",
       "      <td>65.0</td>\n",
       "      <td>82.0</td>\n",
       "      <td>10.235858</td>\n",
       "    </tr>\n",
       "    <tr>\n",
       "      <th>Tavg_1</th>\n",
       "      <td>1225.0</td>\n",
       "      <td>67.205714</td>\n",
       "      <td>37.0</td>\n",
       "      <td>60.0</td>\n",
       "      <td>69.0</td>\n",
       "      <td>75.0</td>\n",
       "      <td>93.0</td>\n",
       "      <td>10.43037</td>\n",
       "    </tr>\n",
       "    <tr>\n",
       "      <th>Tdepart_1</th>\n",
       "      <td>1225.0</td>\n",
       "      <td>2.07102</td>\n",
       "      <td>-17.0</td>\n",
       "      <td>-3.0</td>\n",
       "      <td>2.0</td>\n",
       "      <td>7.0</td>\n",
       "      <td>23.0</td>\n",
       "      <td>6.828957</td>\n",
       "    </tr>\n",
       "    <tr>\n",
       "      <th>Tdew_point_1</th>\n",
       "      <td>1225.0</td>\n",
       "      <td>54.065306</td>\n",
       "      <td>22.0</td>\n",
       "      <td>47.0</td>\n",
       "      <td>55.0</td>\n",
       "      <td>62.0</td>\n",
       "      <td>75.0</td>\n",
       "      <td>10.588823</td>\n",
       "    </tr>\n",
       "    <tr>\n",
       "      <th>Twet_bulb_1</th>\n",
       "      <td>1225.0</td>\n",
       "      <td>59.644082</td>\n",
       "      <td>32.0</td>\n",
       "      <td>54.0</td>\n",
       "      <td>61.0</td>\n",
       "      <td>67.0</td>\n",
       "      <td>78.0</td>\n",
       "      <td>9.242238</td>\n",
       "    </tr>\n",
       "    <tr>\n",
       "      <th>HeatDegDay_1</th>\n",
       "      <td>1225.0</td>\n",
       "      <td>3.364082</td>\n",
       "      <td>0.0</td>\n",
       "      <td>0.0</td>\n",
       "      <td>0.0</td>\n",
       "      <td>5.0</td>\n",
       "      <td>28.0</td>\n",
       "      <td>5.866128</td>\n",
       "    </tr>\n",
       "    <tr>\n",
       "      <th>CoolDegDay_1</th>\n",
       "      <td>1225.0</td>\n",
       "      <td>5.569796</td>\n",
       "      <td>0.0</td>\n",
       "      <td>0.0</td>\n",
       "      <td>4.0</td>\n",
       "      <td>10.0</td>\n",
       "      <td>28.0</td>\n",
       "      <td>6.072565</td>\n",
       "    </tr>\n",
       "    <tr>\n",
       "      <th>PrecipTotal_1</th>\n",
       "      <td>1225.0</td>\n",
       "      <td>0.13549</td>\n",
       "      <td>0.0</td>\n",
       "      <td>0.0</td>\n",
       "      <td>0.0</td>\n",
       "      <td>0.06</td>\n",
       "      <td>6.86</td>\n",
       "      <td>0.43119</td>\n",
       "    </tr>\n",
       "    <tr>\n",
       "      <th>StnPressure_1</th>\n",
       "      <td>1225.0</td>\n",
       "      <td>29.251347</td>\n",
       "      <td>28.55</td>\n",
       "      <td>29.16</td>\n",
       "      <td>29.26</td>\n",
       "      <td>29.35</td>\n",
       "      <td>29.79</td>\n",
       "      <td>0.156275</td>\n",
       "    </tr>\n",
       "    <tr>\n",
       "      <th>Wind_ResultSpeed_1</th>\n",
       "      <td>1225.0</td>\n",
       "      <td>6.920898</td>\n",
       "      <td>0.1</td>\n",
       "      <td>4.3</td>\n",
       "      <td>6.3</td>\n",
       "      <td>9.0</td>\n",
       "      <td>24.1</td>\n",
       "      <td>3.571017</td>\n",
       "    </tr>\n",
       "    <tr>\n",
       "      <th>Wind_ResultDir_1</th>\n",
       "      <td>1225.0</td>\n",
       "      <td>17.484082</td>\n",
       "      <td>1.0</td>\n",
       "      <td>7.0</td>\n",
       "      <td>19.0</td>\n",
       "      <td>26.0</td>\n",
       "      <td>36.0</td>\n",
       "      <td>10.302212</td>\n",
       "    </tr>\n",
       "    <tr>\n",
       "      <th>Wind_AvgSpeed_1</th>\n",
       "      <td>1225.0</td>\n",
       "      <td>8.480816</td>\n",
       "      <td>2.1</td>\n",
       "      <td>6.1</td>\n",
       "      <td>8.0</td>\n",
       "      <td>10.2</td>\n",
       "      <td>26.3</td>\n",
       "      <td>3.183752</td>\n",
       "    </tr>\n",
       "    <tr>\n",
       "      <th>Tmax_2</th>\n",
       "      <td>1225.0</td>\n",
       "      <td>76.730612</td>\n",
       "      <td>44.0</td>\n",
       "      <td>69.0</td>\n",
       "      <td>79.0</td>\n",
       "      <td>85.0</td>\n",
       "      <td>104.0</td>\n",
       "      <td>11.394339</td>\n",
       "    </tr>\n",
       "    <tr>\n",
       "      <th>Tmin_2</th>\n",
       "      <td>1225.0</td>\n",
       "      <td>59.391837</td>\n",
       "      <td>29.0</td>\n",
       "      <td>52.0</td>\n",
       "      <td>61.0</td>\n",
       "      <td>67.0</td>\n",
       "      <td>83.0</td>\n",
       "      <td>10.225078</td>\n",
       "    </tr>\n",
       "    <tr>\n",
       "      <th>Tavg_2</th>\n",
       "      <td>1225.0</td>\n",
       "      <td>68.314286</td>\n",
       "      <td>37.0</td>\n",
       "      <td>61.0</td>\n",
       "      <td>70.0</td>\n",
       "      <td>76.0</td>\n",
       "      <td>94.0</td>\n",
       "      <td>10.486842</td>\n",
       "    </tr>\n",
       "    <tr>\n",
       "      <th>Tdepart_2</th>\n",
       "      <td>1225.0</td>\n",
       "      <td>2.07102</td>\n",
       "      <td>-17.0</td>\n",
       "      <td>-3.0</td>\n",
       "      <td>2.0</td>\n",
       "      <td>7.0</td>\n",
       "      <td>23.0</td>\n",
       "      <td>6.828957</td>\n",
       "    </tr>\n",
       "    <tr>\n",
       "      <th>Tdew_point_2</th>\n",
       "      <td>1225.0</td>\n",
       "      <td>53.857959</td>\n",
       "      <td>23.0</td>\n",
       "      <td>47.0</td>\n",
       "      <td>55.0</td>\n",
       "      <td>62.0</td>\n",
       "      <td>74.0</td>\n",
       "      <td>10.541208</td>\n",
       "    </tr>\n",
       "    <tr>\n",
       "      <th>Twet_bulb_2</th>\n",
       "      <td>1225.0</td>\n",
       "      <td>59.933878</td>\n",
       "      <td>33.0</td>\n",
       "      <td>54.0</td>\n",
       "      <td>61.0</td>\n",
       "      <td>67.0</td>\n",
       "      <td>77.0</td>\n",
       "      <td>9.138533</td>\n",
       "    </tr>\n",
       "    <tr>\n",
       "      <th>HeatDegDay_2</th>\n",
       "      <td>1225.0</td>\n",
       "      <td>2.997551</td>\n",
       "      <td>0.0</td>\n",
       "      <td>0.0</td>\n",
       "      <td>0.0</td>\n",
       "      <td>4.0</td>\n",
       "      <td>28.0</td>\n",
       "      <td>5.56314</td>\n",
       "    </tr>\n",
       "    <tr>\n",
       "      <th>CoolDegDay_2</th>\n",
       "      <td>1225.0</td>\n",
       "      <td>6.311837</td>\n",
       "      <td>0.0</td>\n",
       "      <td>0.0</td>\n",
       "      <td>5.0</td>\n",
       "      <td>11.0</td>\n",
       "      <td>29.0</td>\n",
       "      <td>6.415163</td>\n",
       "    </tr>\n",
       "    <tr>\n",
       "      <th>PrecipTotal_2</th>\n",
       "      <td>1225.0</td>\n",
       "      <td>0.122959</td>\n",
       "      <td>0.0</td>\n",
       "      <td>0.0</td>\n",
       "      <td>0.0</td>\n",
       "      <td>0.05</td>\n",
       "      <td>4.73</td>\n",
       "      <td>0.34646</td>\n",
       "    </tr>\n",
       "    <tr>\n",
       "      <th>StnPressure_2</th>\n",
       "      <td>1225.0</td>\n",
       "      <td>29.311298</td>\n",
       "      <td>28.63</td>\n",
       "      <td>29.22</td>\n",
       "      <td>29.31</td>\n",
       "      <td>29.41</td>\n",
       "      <td>29.86</td>\n",
       "      <td>0.15523</td>\n",
       "    </tr>\n",
       "    <tr>\n",
       "      <th>Wind_ResultSpeed_2</th>\n",
       "      <td>1225.0</td>\n",
       "      <td>6.860653</td>\n",
       "      <td>0.3</td>\n",
       "      <td>4.2</td>\n",
       "      <td>6.4</td>\n",
       "      <td>9.1</td>\n",
       "      <td>20.8</td>\n",
       "      <td>3.576364</td>\n",
       "    </tr>\n",
       "    <tr>\n",
       "      <th>Wind_ResultDir_2</th>\n",
       "      <td>1225.0</td>\n",
       "      <td>17.235918</td>\n",
       "      <td>1.0</td>\n",
       "      <td>7.0</td>\n",
       "      <td>19.0</td>\n",
       "      <td>24.0</td>\n",
       "      <td>36.0</td>\n",
       "      <td>9.962135</td>\n",
       "    </tr>\n",
       "    <tr>\n",
       "      <th>Wind_AvgSpeed_2</th>\n",
       "      <td>1225.0</td>\n",
       "      <td>8.490204</td>\n",
       "      <td>1.7</td>\n",
       "      <td>6.3</td>\n",
       "      <td>8.0</td>\n",
       "      <td>10.3</td>\n",
       "      <td>22.1</td>\n",
       "      <td>3.100016</td>\n",
       "    </tr>\n",
       "  </tbody>\n",
       "</table>\n",
       "</div>"
      ],
      "text/plain": [
       "                     count                           mean  \\\n",
       "Date                  1225  2010-07-25 00:59:57.061224704   \n",
       "Tmax_1              1225.0                      76.548571   \n",
       "Tmin_1              1225.0                      57.364898   \n",
       "Tavg_1              1225.0                      67.205714   \n",
       "Tdepart_1           1225.0                        2.07102   \n",
       "Tdew_point_1        1225.0                      54.065306   \n",
       "Twet_bulb_1         1225.0                      59.644082   \n",
       "HeatDegDay_1        1225.0                       3.364082   \n",
       "CoolDegDay_1        1225.0                       5.569796   \n",
       "PrecipTotal_1       1225.0                        0.13549   \n",
       "StnPressure_1       1225.0                      29.251347   \n",
       "Wind_ResultSpeed_1  1225.0                       6.920898   \n",
       "Wind_ResultDir_1    1225.0                      17.484082   \n",
       "Wind_AvgSpeed_1     1225.0                       8.480816   \n",
       "Tmax_2              1225.0                      76.730612   \n",
       "Tmin_2              1225.0                      59.391837   \n",
       "Tavg_2              1225.0                      68.314286   \n",
       "Tdepart_2           1225.0                        2.07102   \n",
       "Tdew_point_2        1225.0                      53.857959   \n",
       "Twet_bulb_2         1225.0                      59.933878   \n",
       "HeatDegDay_2        1225.0                       2.997551   \n",
       "CoolDegDay_2        1225.0                       6.311837   \n",
       "PrecipTotal_2       1225.0                       0.122959   \n",
       "StnPressure_2       1225.0                      29.311298   \n",
       "Wind_ResultSpeed_2  1225.0                       6.860653   \n",
       "Wind_ResultDir_2    1225.0                      17.235918   \n",
       "Wind_AvgSpeed_2     1225.0                       8.490204   \n",
       "\n",
       "                                    min                  25%  \\\n",
       "Date                2007-05-29 00:00:00  2008-09-28 00:00:00   \n",
       "Tmax_1                             44.0                 69.0   \n",
       "Tmin_1                             29.0                 50.0   \n",
       "Tavg_1                             37.0                 60.0   \n",
       "Tdepart_1                         -17.0                 -3.0   \n",
       "Tdew_point_1                       22.0                 47.0   \n",
       "Twet_bulb_1                        32.0                 54.0   \n",
       "HeatDegDay_1                        0.0                  0.0   \n",
       "CoolDegDay_1                        0.0                  0.0   \n",
       "PrecipTotal_1                       0.0                  0.0   \n",
       "StnPressure_1                     28.55                29.16   \n",
       "Wind_ResultSpeed_1                  0.1                  4.3   \n",
       "Wind_ResultDir_1                    1.0                  7.0   \n",
       "Wind_AvgSpeed_1                     2.1                  6.1   \n",
       "Tmax_2                             44.0                 69.0   \n",
       "Tmin_2                             29.0                 52.0   \n",
       "Tavg_2                             37.0                 61.0   \n",
       "Tdepart_2                         -17.0                 -3.0   \n",
       "Tdew_point_2                       23.0                 47.0   \n",
       "Twet_bulb_2                        33.0                 54.0   \n",
       "HeatDegDay_2                        0.0                  0.0   \n",
       "CoolDegDay_2                        0.0                  0.0   \n",
       "PrecipTotal_2                       0.0                  0.0   \n",
       "StnPressure_2                     28.63                29.22   \n",
       "Wind_ResultSpeed_2                  0.3                  4.2   \n",
       "Wind_ResultDir_2                    1.0                  7.0   \n",
       "Wind_AvgSpeed_2                     1.7                  6.3   \n",
       "\n",
       "                                    50%                  75%  \\\n",
       "Date                2010-07-28 00:00:00  2012-05-27 00:00:00   \n",
       "Tmax_1                             79.0                 85.0   \n",
       "Tmin_1                             59.0                 65.0   \n",
       "Tavg_1                             69.0                 75.0   \n",
       "Tdepart_1                           2.0                  7.0   \n",
       "Tdew_point_1                       55.0                 62.0   \n",
       "Twet_bulb_1                        61.0                 67.0   \n",
       "HeatDegDay_1                        0.0                  5.0   \n",
       "CoolDegDay_1                        4.0                 10.0   \n",
       "PrecipTotal_1                       0.0                 0.06   \n",
       "StnPressure_1                     29.26                29.35   \n",
       "Wind_ResultSpeed_1                  6.3                  9.0   \n",
       "Wind_ResultDir_1                   19.0                 26.0   \n",
       "Wind_AvgSpeed_1                     8.0                 10.2   \n",
       "Tmax_2                             79.0                 85.0   \n",
       "Tmin_2                             61.0                 67.0   \n",
       "Tavg_2                             70.0                 76.0   \n",
       "Tdepart_2                           2.0                  7.0   \n",
       "Tdew_point_2                       55.0                 62.0   \n",
       "Twet_bulb_2                        61.0                 67.0   \n",
       "HeatDegDay_2                        0.0                  4.0   \n",
       "CoolDegDay_2                        5.0                 11.0   \n",
       "PrecipTotal_2                       0.0                 0.05   \n",
       "StnPressure_2                     29.31                29.41   \n",
       "Wind_ResultSpeed_2                  6.4                  9.1   \n",
       "Wind_ResultDir_2                   19.0                 24.0   \n",
       "Wind_AvgSpeed_2                     8.0                 10.3   \n",
       "\n",
       "                                    max        std  \n",
       "Date                2013-09-26 00:00:00        NaN  \n",
       "Tmax_1                            103.0     11.446  \n",
       "Tmin_1                             82.0  10.235858  \n",
       "Tavg_1                             93.0   10.43037  \n",
       "Tdepart_1                          23.0   6.828957  \n",
       "Tdew_point_1                       75.0  10.588823  \n",
       "Twet_bulb_1                        78.0   9.242238  \n",
       "HeatDegDay_1                       28.0   5.866128  \n",
       "CoolDegDay_1                       28.0   6.072565  \n",
       "PrecipTotal_1                      6.86    0.43119  \n",
       "StnPressure_1                     29.79   0.156275  \n",
       "Wind_ResultSpeed_1                 24.1   3.571017  \n",
       "Wind_ResultDir_1                   36.0  10.302212  \n",
       "Wind_AvgSpeed_1                    26.3   3.183752  \n",
       "Tmax_2                            104.0  11.394339  \n",
       "Tmin_2                             83.0  10.225078  \n",
       "Tavg_2                             94.0  10.486842  \n",
       "Tdepart_2                          23.0   6.828957  \n",
       "Tdew_point_2                       74.0  10.541208  \n",
       "Twet_bulb_2                        77.0   9.138533  \n",
       "HeatDegDay_2                       28.0    5.56314  \n",
       "CoolDegDay_2                       29.0   6.415163  \n",
       "PrecipTotal_2                      4.73    0.34646  \n",
       "StnPressure_2                     29.86    0.15523  \n",
       "Wind_ResultSpeed_2                 20.8   3.576364  \n",
       "Wind_ResultDir_2                   36.0   9.962135  \n",
       "Wind_AvgSpeed_2                    22.1   3.100016  "
      ]
     },
     "execution_count": 134,
     "metadata": {},
     "output_type": "execute_result"
    }
   ],
   "source": [
    "#Summary stats for the columns\n",
    "df_weather_data.describe(datetime_is_numeric=True).T"
   ]
  },
  {
   "cell_type": "code",
   "execution_count": 135,
   "id": "6817990b",
   "metadata": {},
   "outputs": [
    {
     "name": "stdout",
     "output_type": "stream",
     "text": [
      "A file already exists with this name.\n",
      "\n",
      "Do you want to overwrite? (Y/N)Y\n",
      "Writing file.  \"../data\\trap_data_cleaned.csv\"\n"
     ]
    }
   ],
   "source": [
    "#save the trap data\n",
    "datapath = '../data'\n",
    "save_file(df_trap_data, 'trap_data_cleaned.csv', datapath)"
   ]
  },
  {
   "cell_type": "code",
   "execution_count": 136,
   "id": "bd5f4ac4",
   "metadata": {},
   "outputs": [
    {
     "name": "stdout",
     "output_type": "stream",
     "text": [
      "A file already exists with this name.\n",
      "\n",
      "Do you want to overwrite? (Y/N)Y\n",
      "Writing file.  \"../data\\spray_data_cleaned.csv\"\n"
     ]
    }
   ],
   "source": [
    "#save the spray data\n",
    "datapath = '../data'\n",
    "save_file(df_spray_data, 'spray_data_cleaned.csv', datapath)"
   ]
  },
  {
   "cell_type": "code",
   "execution_count": 137,
   "id": "450a8a2b",
   "metadata": {},
   "outputs": [
    {
     "name": "stdout",
     "output_type": "stream",
     "text": [
      "A file already exists with this name.\n",
      "\n",
      "Do you want to overwrite? (Y/N)Y\n",
      "Writing file.  \"../data\\weather_data_cleaned.csv\"\n"
     ]
    }
   ],
   "source": [
    "#save the weather data\n",
    "datapath = '../data'\n",
    "save_file(df_weather_data, 'weather_data_cleaned.csv', datapath)"
   ]
  }
 ],
 "metadata": {
  "kernelspec": {
   "display_name": "Python 3",
   "language": "python",
   "name": "python3"
  },
  "language_info": {
   "codemirror_mode": {
    "name": "ipython",
    "version": 3
   },
   "file_extension": ".py",
   "mimetype": "text/x-python",
   "name": "python",
   "nbconvert_exporter": "python",
   "pygments_lexer": "ipython3",
   "version": "3.8.8"
  }
 },
 "nbformat": 4,
 "nbformat_minor": 5
}

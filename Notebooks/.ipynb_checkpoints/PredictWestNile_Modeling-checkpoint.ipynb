{
 "cells": [
  {
   "cell_type": "code",
   "execution_count": 1,
   "id": "c833d170",
   "metadata": {},
   "outputs": [],
   "source": [
    "#imports\n",
    "import numpy as np\n",
    "\n",
    "import pandas as pd\n",
    "from sklearn import dummy, metrics\n",
    "from sklearn.dummy import DummyClassifier\n",
    "from sklearn.linear_model import LogisticRegression\n",
    "from sklearn.svm import SVC\n",
    "from sklearn.ensemble import RandomForestClassifier\n",
    "from sklearn.ensemble import GradientBoostingClassifier\n",
    "from sklearn.ensemble import AdaBoostClassifier\n",
    "from sklearn.ensemble import ExtraTreesClassifier\n",
    "from sklearn.model_selection import RandomizedSearchCV\n",
    "from sklearn.model_selection import GridSearchCV\n",
    "from xgboost import XGBClassifier\n",
    "from lightgbm import LGBMClassifier\n",
    "import shap"
   ]
  },
  {
   "cell_type": "code",
   "execution_count": 2,
   "id": "9b012f52",
   "metadata": {},
   "outputs": [],
   "source": [
    "#random seed for repeatability\n",
    "random_seed = 18"
   ]
  },
  {
   "cell_type": "code",
   "execution_count": 3,
   "id": "3d1a985f",
   "metadata": {},
   "outputs": [],
   "source": [
    "#read the data into pandas\n",
    "\n",
    "filepath = '../data/X_train.csv'\n",
    "X_train = pd.read_csv(filepath)\n",
    "\n",
    "filepath = '../data/y_train.csv'\n",
    "y_train = pd.read_csv(filepath)\n",
    "\n",
    "filepath = '../data/X_test.csv'\n",
    "X_test = pd.read_csv(filepath)\n",
    "\n",
    "filepath = '../data/y_test.csv'\n",
    "y_test = pd.read_csv(filepath)"
   ]
  },
  {
   "cell_type": "code",
   "execution_count": 4,
   "id": "5d15cf94",
   "metadata": {},
   "outputs": [
    {
     "name": "stdout",
     "output_type": "stream",
     "text": [
      "<class 'pandas.core.frame.DataFrame'>\n",
      "RangeIndex: 7354 entries, 0 to 7353\n",
      "Data columns (total 29 columns):\n",
      " #   Column                      Non-Null Count  Dtype  \n",
      "---  ------                      --------------  -----  \n",
      " 0   DaysSinceSpray              7354 non-null   float64\n",
      " 1   IsDayAfterSpray_1           7354 non-null   float64\n",
      " 2   IsNearSprayZone_1           7354 non-null   float64\n",
      " 3   IsNorthWestZone_1           7354 non-null   float64\n",
      " 4   IsPeakSeason_1              7354 non-null   float64\n",
      " 5   MoistureConditions_Optimal  7354 non-null   float64\n",
      " 6   MoistureConditions_Poor     7354 non-null   float64\n",
      " 7   NumMosquitos                7354 non-null   float64\n",
      " 8   PrecipTotal_lag1            7354 non-null   float64\n",
      " 9   PrecipTotal_lag23           7354 non-null   float64\n",
      " 10  PrecipTotal_lag27           7354 non-null   float64\n",
      " 11  PrecipTotal_lag28_mean      7354 non-null   float64\n",
      " 12  RelHumidity_lag1            7354 non-null   float64\n",
      " 13  RelHumidity_lag11           7354 non-null   float64\n",
      " 14  RelHumidity_lag3            7354 non-null   float64\n",
      " 15  RelHumidity_lag4            7354 non-null   float64\n",
      " 16  Tavg_lag18                  7354 non-null   float64\n",
      " 17  Tavg_lag23                  7354 non-null   float64\n",
      " 18  Tavg_lag7                   7354 non-null   float64\n",
      " 19  Tdew_point                  7354 non-null   float64\n",
      " 20  Wind_AvgSpeed_lag14         7354 non-null   float64\n",
      " 21  Wind_AvgSpeed_lag15         7354 non-null   float64\n",
      " 22  Wind_AvgSpeed_lag18         7354 non-null   float64\n",
      " 23  Wind_AvgSpeed_lag21         7354 non-null   float64\n",
      " 24  Wind_AvgSpeed_lag23         7354 non-null   float64\n",
      " 25  Wind_AvgSpeed_lag4          7354 non-null   float64\n",
      " 26  Wind_AvgSpeed_lag5          7354 non-null   float64\n",
      " 27  Wind_AvgSpeed_lag6          7354 non-null   float64\n",
      " 28  Wind_AvgSpeed_lag7_mean     7354 non-null   float64\n",
      "dtypes: float64(29)\n",
      "memory usage: 1.6 MB\n"
     ]
    }
   ],
   "source": [
    "X_train.info()"
   ]
  },
  {
   "cell_type": "markdown",
   "id": "6f91682f",
   "metadata": {},
   "source": [
    "## Undersample the Training Data"
   ]
  },
  {
   "cell_type": "code",
   "execution_count": 5,
   "id": "faff1a89",
   "metadata": {},
   "outputs": [],
   "source": [
    "undersample_size = y_train.value_counts().min()\n",
    "\n",
    "us_data = pd.concat([X_train,y_train],axis=1)\n",
    "\n",
    "pos_us_data = us_data[us_data['WnvPresent']==1]\n",
    "neg_us_data = us_data[us_data['WnvPresent']==0].sample(undersample_size, random_state=random_seed)\n",
    "\n",
    "us_data = pd.concat([neg_us_data, pos_us_data], axis=0)\n",
    "\n",
    "X_train_us = us_data.drop(columns='WnvPresent')\n",
    "y_train_us = us_data[['WnvPresent']]\n"
   ]
  },
  {
   "cell_type": "markdown",
   "id": "08fa710f",
   "metadata": {},
   "source": [
    "## Results Table"
   ]
  },
  {
   "cell_type": "code",
   "execution_count": 6,
   "id": "309c938c",
   "metadata": {},
   "outputs": [],
   "source": [
    "df_test_results = pd.DataFrame(columns = ['Model','TrainAUC','TestAUC'])"
   ]
  },
  {
   "cell_type": "markdown",
   "id": "6d622979",
   "metadata": {},
   "source": [
    "## Baseline Model"
   ]
  },
  {
   "cell_type": "code",
   "execution_count": 7,
   "id": "22ae72e9",
   "metadata": {},
   "outputs": [],
   "source": [
    "dummy_model = DummyClassifier(random_state = random_seed, strategy='uniform')\n",
    "dummy_model.fit(X_train_us,np.ravel(y_train_us))\n",
    "\n",
    "y_train_pred = dummy_model.predict(X_train)\n",
    "y_test_pred = dummy_model.predict(X_test)"
   ]
  },
  {
   "cell_type": "code",
   "execution_count": 8,
   "id": "27382475",
   "metadata": {},
   "outputs": [
    {
     "name": "stdout",
     "output_type": "stream",
     "text": [
      "Training AUC:  0.5051133085072843\n",
      "Test AUC:  0.5143723813291942\n"
     ]
    }
   ],
   "source": [
    "fpr, tpr, thresholds = metrics.roc_curve(y_train, y_train_pred, pos_label = 1)\n",
    "train_auc = metrics.auc(fpr,tpr)\n",
    "\n",
    "fpr, tpr, thresholds = metrics.roc_curve(y_test, y_test_pred, pos_label = 1)\n",
    "test_auc = metrics.auc(fpr,tpr)\n",
    "\n",
    "print('Training AUC: ', train_auc)\n",
    "print('Test AUC: ', test_auc)"
   ]
  },
  {
   "cell_type": "code",
   "execution_count": 9,
   "id": "f2b06ee5",
   "metadata": {},
   "outputs": [],
   "source": [
    "df_test_results = df_test_results.append({'Model':'Dummy','TrainAUC':train_auc,'TestAUC':test_auc}, \n",
    "                       ignore_index=True)"
   ]
  },
  {
   "cell_type": "markdown",
   "id": "07660188",
   "metadata": {},
   "source": [
    "## Logistic Regression"
   ]
  },
  {
   "cell_type": "code",
   "execution_count": 10,
   "id": "3c71e11b",
   "metadata": {},
   "outputs": [],
   "source": [
    "lr_model = LogisticRegression(random_state = random_seed)\n",
    "lr_model.fit(X_train_us,np.ravel(y_train_us))\n",
    "\n",
    "y_train_pred = lr_model.predict(X_train)\n",
    "y_test_pred = lr_model.predict(X_test)"
   ]
  },
  {
   "cell_type": "code",
   "execution_count": 11,
   "id": "6143a880",
   "metadata": {},
   "outputs": [
    {
     "name": "stdout",
     "output_type": "stream",
     "text": [
      "Training AUC:  0.7838390004937448\n",
      "Test AUC:  0.7571801036816102\n"
     ]
    }
   ],
   "source": [
    "fpr, tpr, thresholds = metrics.roc_curve(y_train, y_train_pred, pos_label = 1)\n",
    "train_auc = metrics.auc(fpr,tpr)\n",
    "\n",
    "fpr, tpr, thresholds = metrics.roc_curve(y_test, y_test_pred, pos_label = 1)\n",
    "test_auc = metrics.auc(fpr,tpr)\n",
    "\n",
    "print('Training AUC: ', train_auc)\n",
    "print('Test AUC: ', test_auc)"
   ]
  },
  {
   "cell_type": "code",
   "execution_count": 12,
   "id": "f88a3870",
   "metadata": {},
   "outputs": [],
   "source": [
    "df_test_results = df_test_results.append({'Model':'Logistic Regression','TrainAUC':train_auc,'TestAUC':test_auc}, \n",
    "                       ignore_index=True)"
   ]
  },
  {
   "cell_type": "markdown",
   "id": "51caf8c8",
   "metadata": {},
   "source": [
    "## Support Vector Machine"
   ]
  },
  {
   "cell_type": "code",
   "execution_count": 13,
   "id": "cada3612",
   "metadata": {},
   "outputs": [],
   "source": [
    "svm_model = SVC(random_state = random_seed)\n",
    "svm_model.fit(X_train_us,np.ravel(y_train_us))\n",
    "\n",
    "y_train_pred = svm_model.predict(X_train)\n",
    "y_test_pred = svm_model.predict(X_test)"
   ]
  },
  {
   "cell_type": "code",
   "execution_count": 14,
   "id": "ecb97042",
   "metadata": {},
   "outputs": [
    {
     "name": "stdout",
     "output_type": "stream",
     "text": [
      "Training AUC:  0.7844427969756637\n",
      "Test AUC:  0.7368739284373699\n"
     ]
    }
   ],
   "source": [
    "fpr, tpr, thresholds = metrics.roc_curve(y_train, y_train_pred, pos_label = 1)\n",
    "train_auc = metrics.auc(fpr,tpr)\n",
    "\n",
    "fpr, tpr, thresholds = metrics.roc_curve(y_test, y_test_pred, pos_label = 1)\n",
    "test_auc = metrics.auc(fpr,tpr)\n",
    "\n",
    "print('Training AUC: ', train_auc)\n",
    "print('Test AUC: ', test_auc)"
   ]
  },
  {
   "cell_type": "code",
   "execution_count": 15,
   "id": "3256b26c",
   "metadata": {},
   "outputs": [],
   "source": [
    "df_test_results =  df_test_results.append({'Model':'SVM','TrainAUC':train_auc,'TestAUC':test_auc}, \n",
    "                       ignore_index=True)"
   ]
  },
  {
   "cell_type": "markdown",
   "id": "b5c94760",
   "metadata": {},
   "source": [
    "## Random Forest "
   ]
  },
  {
   "cell_type": "code",
   "execution_count": 16,
   "id": "d44ad3b2",
   "metadata": {},
   "outputs": [],
   "source": [
    "rf_model = RandomForestClassifier(random_state = random_seed)\n",
    "rf_model.fit(X_train_us,np.ravel(y_train_us))\n",
    "\n",
    "y_train_pred = rf_model.predict(X_train)\n",
    "y_test_pred = rf_model.predict(X_test)"
   ]
  },
  {
   "cell_type": "code",
   "execution_count": 17,
   "id": "c97a8343",
   "metadata": {},
   "outputs": [
    {
     "name": "stdout",
     "output_type": "stream",
     "text": [
      "Training AUC:  0.863111827272565\n",
      "Test AUC:  0.7511367440728003\n"
     ]
    }
   ],
   "source": [
    "fpr, tpr, thresholds = metrics.roc_curve(y_train, y_train_pred, pos_label = 1)\n",
    "train_auc = metrics.auc(fpr,tpr)\n",
    "\n",
    "fpr, tpr, thresholds = metrics.roc_curve(y_test, y_test_pred, pos_label = 1)\n",
    "test_auc = metrics.auc(fpr,tpr)\n",
    "\n",
    "print('Training AUC: ', train_auc)\n",
    "print('Test AUC: ', test_auc)"
   ]
  },
  {
   "cell_type": "code",
   "execution_count": 18,
   "id": "23633f55",
   "metadata": {},
   "outputs": [],
   "source": [
    "df_test_results = df_test_results.append({'Model':'Random Forest','TrainAUC':train_auc,'TestAUC':test_auc}, \n",
    "                       ignore_index=True)"
   ]
  },
  {
   "cell_type": "markdown",
   "id": "7d391757",
   "metadata": {},
   "source": [
    "## Gradient Boosting"
   ]
  },
  {
   "cell_type": "code",
   "execution_count": 19,
   "id": "cfebfd3b",
   "metadata": {},
   "outputs": [],
   "source": [
    "gb_model = GradientBoostingClassifier(random_state = random_seed)\n",
    "gb_model.fit(X_train_us,np.ravel(y_train_us))\n",
    "\n",
    "y_train_pred = gb_model.predict(X_train)\n",
    "y_test_pred = gb_model.predict(X_test)"
   ]
  },
  {
   "cell_type": "code",
   "execution_count": 20,
   "id": "b23f7735",
   "metadata": {},
   "outputs": [
    {
     "name": "stdout",
     "output_type": "stream",
     "text": [
      "Training AUC:  0.832533476499527\n",
      "Test AUC:  0.768597254770673\n"
     ]
    }
   ],
   "source": [
    "fpr, tpr, thresholds = metrics.roc_curve(y_train, y_train_pred, pos_label = 1)\n",
    "train_auc = metrics.auc(fpr,tpr)\n",
    "\n",
    "fpr, tpr, thresholds = metrics.roc_curve(y_test, y_test_pred, pos_label = 1)\n",
    "test_auc = metrics.auc(fpr,tpr)\n",
    "\n",
    "print('Training AUC: ', train_auc)\n",
    "print('Test AUC: ', test_auc)"
   ]
  },
  {
   "cell_type": "code",
   "execution_count": 21,
   "id": "7c5752b1",
   "metadata": {},
   "outputs": [],
   "source": [
    "df_test_results = df_test_results.append({'Model':'Gradient Boosting','TrainAUC':train_auc,'TestAUC':test_auc}, \n",
    "                       ignore_index=True)"
   ]
  },
  {
   "cell_type": "markdown",
   "id": "f796a67d",
   "metadata": {},
   "source": [
    "## XG Boost"
   ]
  },
  {
   "cell_type": "code",
   "execution_count": 22,
   "id": "b30149d8",
   "metadata": {},
   "outputs": [
    {
     "name": "stdout",
     "output_type": "stream",
     "text": [
      "[09:46:54] WARNING: D:\\bld\\xgboost-split_1645118015404\\work\\src\\learner.cc:1115: Starting in XGBoost 1.3.0, the default evaluation metric used with the objective 'binary:logistic' was changed from 'error' to 'logloss'. Explicitly set eval_metric if you'd like to restore the old behavior.\n"
     ]
    }
   ],
   "source": [
    "xgb_model = XGBClassifier(use_label_encoder=False, seed=random_seed)\n",
    "xgb_model.fit(X_train_us,np.ravel(y_train_us))\n",
    "\n",
    "y_train_pred = xgb_model.predict(X_train)\n",
    "y_test_pred = xgb_model.predict(X_test)"
   ]
  },
  {
   "cell_type": "code",
   "execution_count": 23,
   "id": "96db8a43",
   "metadata": {},
   "outputs": [
    {
     "name": "stdout",
     "output_type": "stream",
     "text": [
      "Training AUC:  0.8536968406274723\n",
      "Test AUC:  0.7482738330746366\n"
     ]
    }
   ],
   "source": [
    "fpr, tpr, thresholds = metrics.roc_curve(y_train, y_train_pred, pos_label = 1)\n",
    "train_auc = metrics.auc(fpr,tpr)\n",
    "\n",
    "fpr, tpr, thresholds = metrics.roc_curve(y_test, y_test_pred, pos_label = 1)\n",
    "test_auc = metrics.auc(fpr,tpr)\n",
    "\n",
    "print('Training AUC: ', train_auc)\n",
    "print('Test AUC: ', test_auc)"
   ]
  },
  {
   "cell_type": "code",
   "execution_count": 24,
   "id": "aa94ad91",
   "metadata": {},
   "outputs": [],
   "source": [
    "df_test_results = df_test_results.append({'Model':'XG Boost','TrainAUC':train_auc,'TestAUC':test_auc}, \n",
    "                       ignore_index=True)"
   ]
  },
  {
   "cell_type": "markdown",
   "id": "5f6e631b",
   "metadata": {},
   "source": [
    "## LightGBM"
   ]
  },
  {
   "cell_type": "code",
   "execution_count": 25,
   "id": "41b4eec4",
   "metadata": {},
   "outputs": [],
   "source": [
    "lgb_model = LGBMClassifier(random_state = random_seed)\n",
    "lgb_model.fit(X_train_us,np.ravel(y_train_us))\n",
    "\n",
    "y_train_pred = lgb_model.predict(X_train)\n",
    "y_test_pred = lgb_model.predict(X_test)"
   ]
  },
  {
   "cell_type": "code",
   "execution_count": 26,
   "id": "01ca09ec",
   "metadata": {},
   "outputs": [
    {
     "name": "stdout",
     "output_type": "stream",
     "text": [
      "Training AUC:  0.855350960423074\n",
      "Test AUC:  0.7549867608120034\n"
     ]
    }
   ],
   "source": [
    "fpr, tpr, thresholds = metrics.roc_curve(y_train, y_train_pred, pos_label = 1)\n",
    "train_auc = metrics.auc(fpr,tpr)\n",
    "\n",
    "fpr, tpr, thresholds = metrics.roc_curve(y_test, y_test_pred, pos_label = 1)\n",
    "test_auc = metrics.auc(fpr,tpr)\n",
    "\n",
    "print('Training AUC: ', train_auc)\n",
    "print('Test AUC: ', test_auc)"
   ]
  },
  {
   "cell_type": "code",
   "execution_count": 27,
   "id": "e59f625f",
   "metadata": {},
   "outputs": [],
   "source": [
    "df_test_results = df_test_results.append({'Model':'LightGBM','TrainAUC':train_auc,'TestAUC':test_auc}, \n",
    "                       ignore_index=True)"
   ]
  },
  {
   "cell_type": "markdown",
   "id": "93cb2a89",
   "metadata": {},
   "source": [
    "## AdaBoost"
   ]
  },
  {
   "cell_type": "code",
   "execution_count": 28,
   "id": "61ab2b4c",
   "metadata": {},
   "outputs": [],
   "source": [
    "ada_model = AdaBoostClassifier(random_state = random_seed)\n",
    "ada_model.fit(X_train_us,np.ravel(y_train_us))\n",
    "\n",
    "y_train_pred = ada_model.predict(X_train)\n",
    "y_test_pred = ada_model.predict(X_test)"
   ]
  },
  {
   "cell_type": "code",
   "execution_count": 29,
   "id": "2f214e7e",
   "metadata": {},
   "outputs": [
    {
     "name": "stdout",
     "output_type": "stream",
     "text": [
      "Training AUC:  0.8073591785988352\n",
      "Test AUC:  0.7511022511692079\n"
     ]
    }
   ],
   "source": [
    "fpr, tpr, thresholds = metrics.roc_curve(y_train, y_train_pred, pos_label = 1)\n",
    "train_auc = metrics.auc(fpr,tpr)\n",
    "\n",
    "fpr, tpr, thresholds = metrics.roc_curve(y_test, y_test_pred, pos_label = 1)\n",
    "test_auc = metrics.auc(fpr,tpr)\n",
    "\n",
    "print('Training AUC: ', train_auc)\n",
    "print('Test AUC: ', test_auc)"
   ]
  },
  {
   "cell_type": "code",
   "execution_count": 30,
   "id": "70af9c57",
   "metadata": {},
   "outputs": [],
   "source": [
    "df_test_results = df_test_results.append({'Model':'AdaBoost','TrainAUC':train_auc,'TestAUC':test_auc}, \n",
    "                       ignore_index=True)"
   ]
  },
  {
   "cell_type": "markdown",
   "id": "ff18f5ae",
   "metadata": {},
   "source": [
    "## ExtraTrees Classifier"
   ]
  },
  {
   "cell_type": "code",
   "execution_count": 31,
   "id": "081daea3",
   "metadata": {},
   "outputs": [],
   "source": [
    "et_model = ExtraTreesClassifier(random_state = random_seed)\n",
    "et_model.fit(X_train_us,np.ravel(y_train_us))\n",
    "\n",
    "y_train_pred = et_model.predict(X_train)\n",
    "y_test_pred = et_model.predict(X_test)"
   ]
  },
  {
   "cell_type": "code",
   "execution_count": 32,
   "id": "d7980b6e",
   "metadata": {},
   "outputs": [
    {
     "name": "stdout",
     "output_type": "stream",
     "text": [
      "Training AUC:  0.838504146267467\n",
      "Test AUC:  0.7361526209534244\n"
     ]
    }
   ],
   "source": [
    "fpr, tpr, thresholds = metrics.roc_curve(y_train, y_train_pred, pos_label = 1)\n",
    "train_auc = metrics.auc(fpr,tpr)\n",
    "\n",
    "fpr, tpr, thresholds = metrics.roc_curve(y_test, y_test_pred, pos_label = 1)\n",
    "test_auc = metrics.auc(fpr,tpr)\n",
    "\n",
    "print('Training AUC: ', train_auc)\n",
    "print('Test AUC: ', test_auc)"
   ]
  },
  {
   "cell_type": "code",
   "execution_count": 33,
   "id": "b78c0782",
   "metadata": {},
   "outputs": [],
   "source": [
    "df_test_results = df_test_results.append({'Model':'Extra Trees','TrainAUC':train_auc,'TestAUC':test_auc}, \n",
    "                       ignore_index=True)"
   ]
  },
  {
   "cell_type": "markdown",
   "id": "8b855c4b",
   "metadata": {},
   "source": [
    "## Hyperparameter Tuning"
   ]
  },
  {
   "cell_type": "code",
   "execution_count": 34,
   "id": "c2e03118",
   "metadata": {},
   "outputs": [
    {
     "data": {
      "text/html": [
       "<div>\n",
       "<style scoped>\n",
       "    .dataframe tbody tr th:only-of-type {\n",
       "        vertical-align: middle;\n",
       "    }\n",
       "\n",
       "    .dataframe tbody tr th {\n",
       "        vertical-align: top;\n",
       "    }\n",
       "\n",
       "    .dataframe thead th {\n",
       "        text-align: right;\n",
       "    }\n",
       "</style>\n",
       "<table border=\"1\" class=\"dataframe\">\n",
       "  <thead>\n",
       "    <tr style=\"text-align: right;\">\n",
       "      <th></th>\n",
       "      <th>Model</th>\n",
       "      <th>TrainAUC</th>\n",
       "      <th>TestAUC</th>\n",
       "    </tr>\n",
       "  </thead>\n",
       "  <tbody>\n",
       "    <tr>\n",
       "      <th>4</th>\n",
       "      <td>Gradient Boosting</td>\n",
       "      <td>0.832533</td>\n",
       "      <td>0.768597</td>\n",
       "    </tr>\n",
       "    <tr>\n",
       "      <th>1</th>\n",
       "      <td>Logistic Regression</td>\n",
       "      <td>0.783839</td>\n",
       "      <td>0.757180</td>\n",
       "    </tr>\n",
       "    <tr>\n",
       "      <th>6</th>\n",
       "      <td>LightGBM</td>\n",
       "      <td>0.855351</td>\n",
       "      <td>0.754987</td>\n",
       "    </tr>\n",
       "    <tr>\n",
       "      <th>3</th>\n",
       "      <td>Random Forest</td>\n",
       "      <td>0.863112</td>\n",
       "      <td>0.751137</td>\n",
       "    </tr>\n",
       "    <tr>\n",
       "      <th>7</th>\n",
       "      <td>AdaBoost</td>\n",
       "      <td>0.807359</td>\n",
       "      <td>0.751102</td>\n",
       "    </tr>\n",
       "    <tr>\n",
       "      <th>5</th>\n",
       "      <td>XG Boost</td>\n",
       "      <td>0.853697</td>\n",
       "      <td>0.748274</td>\n",
       "    </tr>\n",
       "    <tr>\n",
       "      <th>2</th>\n",
       "      <td>SVM</td>\n",
       "      <td>0.784443</td>\n",
       "      <td>0.736874</td>\n",
       "    </tr>\n",
       "    <tr>\n",
       "      <th>8</th>\n",
       "      <td>Extra Trees</td>\n",
       "      <td>0.838504</td>\n",
       "      <td>0.736153</td>\n",
       "    </tr>\n",
       "    <tr>\n",
       "      <th>0</th>\n",
       "      <td>Dummy</td>\n",
       "      <td>0.505113</td>\n",
       "      <td>0.514372</td>\n",
       "    </tr>\n",
       "  </tbody>\n",
       "</table>\n",
       "</div>"
      ],
      "text/plain": [
       "                 Model  TrainAUC   TestAUC\n",
       "4    Gradient Boosting  0.832533  0.768597\n",
       "1  Logistic Regression  0.783839  0.757180\n",
       "6             LightGBM  0.855351  0.754987\n",
       "3        Random Forest  0.863112  0.751137\n",
       "7             AdaBoost  0.807359  0.751102\n",
       "5             XG Boost  0.853697  0.748274\n",
       "2                  SVM  0.784443  0.736874\n",
       "8          Extra Trees  0.838504  0.736153\n",
       "0                Dummy  0.505113  0.514372"
      ]
     },
     "execution_count": 34,
     "metadata": {},
     "output_type": "execute_result"
    }
   ],
   "source": [
    "df_test_results.sort_values(by='TestAUC', ascending=False)"
   ]
  },
  {
   "cell_type": "code",
   "execution_count": 35,
   "id": "6a7c05f5",
   "metadata": {},
   "outputs": [],
   "source": [
    "grid_params = {\n",
    "    'learning_rate':[0.001,0.01,0.1, 1],\n",
    "    'max_depth':[3,6,8,10]\n",
    "}\n",
    "\n",
    "\n",
    "gb_model = GradientBoostingClassifier(random_state = random_seed)\n",
    "gs_gb_model = GridSearchCV(gb_model,grid_params, scoring='roc_auc',n_jobs=-1, cv=15)\n",
    "gs_gb_model.fit(X_train_us,np.ravel(y_train_us))\n",
    "\n",
    "gb_model = gs_gb_model.best_estimator_\n",
    "\n",
    "y_train_pred = gb_model.predict(X_train)\n",
    "y_test_pred = gb_model.predict(X_test)"
   ]
  },
  {
   "cell_type": "code",
   "execution_count": 36,
   "id": "93b72ba7",
   "metadata": {},
   "outputs": [
    {
     "name": "stdout",
     "output_type": "stream",
     "text": [
      "Training AUC:  0.7992135030308798\n",
      "Test AUC:  0.7739537997991296\n"
     ]
    }
   ],
   "source": [
    "fpr, tpr, thresholds = metrics.roc_curve(y_train, y_train_pred, pos_label = 1)\n",
    "train_auc = metrics.auc(fpr,tpr)\n",
    "\n",
    "fpr, tpr, thresholds = metrics.roc_curve(y_test, y_test_pred, pos_label = 1)\n",
    "test_auc = metrics.auc(fpr,tpr)\n",
    "\n",
    "print('Training AUC: ', train_auc)\n",
    "print('Test AUC: ', test_auc)"
   ]
  },
  {
   "cell_type": "code",
   "execution_count": 37,
   "id": "bc58cc1b",
   "metadata": {},
   "outputs": [
    {
     "data": {
      "text/plain": [
       "{'learning_rate': 0.01, 'max_depth': 3}"
      ]
     },
     "execution_count": 37,
     "metadata": {},
     "output_type": "execute_result"
    }
   ],
   "source": [
    "gs_gb_model.best_params_"
   ]
  },
  {
   "cell_type": "code",
   "execution_count": 38,
   "id": "9308aaad",
   "metadata": {},
   "outputs": [],
   "source": [
    "grid_params = {\n",
    "    'learning_rate':[0.01],\n",
    "    'max_depth':[3],  \n",
    "    'subsample':[0.25, 0.5, 0.75, 1],\n",
    "    'max_features':['log2', 1]\n",
    "}\n",
    "\n",
    "\n",
    "gs_gb_model = GridSearchCV(gb_model,grid_params, scoring='roc_auc',n_jobs=-1, cv=15)\n",
    "gs_gb_model.fit(X_train_us,np.ravel(y_train_us))\n",
    "\n",
    "gb_model = gs_gb_model.best_estimator_\n",
    "\n",
    "y_train_pred = gb_model.predict(X_train)\n",
    "y_test_pred = gb_model.predict(X_test)"
   ]
  },
  {
   "cell_type": "code",
   "execution_count": 39,
   "id": "a4d4b93d",
   "metadata": {},
   "outputs": [
    {
     "data": {
      "text/plain": [
       "{'learning_rate': 0.01,\n",
       " 'max_depth': 3,\n",
       " 'max_features': 'log2',\n",
       " 'subsample': 0.25}"
      ]
     },
     "execution_count": 39,
     "metadata": {},
     "output_type": "execute_result"
    }
   ],
   "source": [
    "gs_gb_model.best_params_"
   ]
  },
  {
   "cell_type": "code",
   "execution_count": 40,
   "id": "45f7e975",
   "metadata": {},
   "outputs": [
    {
     "name": "stdout",
     "output_type": "stream",
     "text": [
      "Training AUC:  0.7915429825761586\n",
      "Test AUC:  0.7820920960525916\n"
     ]
    }
   ],
   "source": [
    "fpr, tpr, thresholds = metrics.roc_curve(y_train, y_train_pred, pos_label = 1)\n",
    "train_auc = metrics.auc(fpr,tpr)\n",
    "\n",
    "fpr, tpr, thresholds = metrics.roc_curve(y_test, y_test_pred, pos_label = 1)\n",
    "test_auc = metrics.auc(fpr,tpr)\n",
    "\n",
    "print('Training AUC: ', train_auc)\n",
    "print('Test AUC: ', test_auc)"
   ]
  },
  {
   "cell_type": "markdown",
   "id": "cc73708b",
   "metadata": {},
   "source": [
    "## SHAP Values"
   ]
  },
  {
   "cell_type": "code",
   "execution_count": 41,
   "id": "9ca8cc4c",
   "metadata": {},
   "outputs": [
    {
     "name": "stderr",
     "output_type": "stream",
     "text": [
      "Using 400 background data samples could cause slower run times. Consider using shap.sample(data, K) or shap.kmeans(data, K) to summarize the background as K samples.\n"
     ]
    },
    {
     "data": {
      "application/vnd.jupyter.widget-view+json": {
       "model_id": "f0e086156fe145d49f471fccafccdb06",
       "version_major": 2,
       "version_minor": 0
      },
      "text/plain": [
       "  0%|          | 0/400 [00:00<?, ?it/s]"
      ]
     },
     "metadata": {},
     "output_type": "display_data"
    }
   ],
   "source": [
    "X_test_sample = shap.sample(X_test,400)\n",
    "explainer = shap.KernelExplainer(gb_model.predict, X_test_sample)\n",
    "shap_values = explainer.shap_values(X_test_sample)"
   ]
  },
  {
   "cell_type": "code",
   "execution_count": 42,
   "id": "26eafebe",
   "metadata": {},
   "outputs": [
    {
     "data": {
      "image/png": "[encoded data removed]",
      "text/plain": [
       "<Figure size 576x684 with 2 Axes>"
      ]
     },
     "metadata": {
      "needs_background": "light"
     },
     "output_type": "display_data"
    }
   ],
   "source": [
    "shap.summary_plot(shap_values, X_test_sample)"
   ]
  }
 ],
 "metadata": {
  "kernelspec": {
   "display_name": "Python 3",
   "language": "python",
   "name": "python3"
  },
  "language_info": {
   "codemirror_mode": {
    "name": "ipython",
    "version": 3
   },
   "file_extension": ".py",
   "mimetype": "text/x-python",
   "name": "python",
   "nbconvert_exporter": "python",
   "pygments_lexer": "ipython3",
   "version": "3.8.8"
  }
 },
 "nbformat": 4,
 "nbformat_minor": 5
}
